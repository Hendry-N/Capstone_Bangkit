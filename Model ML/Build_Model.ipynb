{
  "nbformat": 4,
  "nbformat_minor": 0,
  "metadata": {
    "colab": {
      "provenance": [],
      "include_colab_link": true
    },
    "kernelspec": {
      "name": "python3",
      "display_name": "Python 3"
    },
    "language_info": {
      "name": "python"
    }
  },
  "cells": [
    {
      "cell_type": "markdown",
      "metadata": {
        "id": "view-in-github",
        "colab_type": "text"
      },
      "source": [
        "<a href=\"https://colab.research.google.com/github/MuhammadFaturrahmanSaputra/Capstone_Bangkit/blob/main/Model%20ML/Build_Model.ipynb\" target=\"_parent\"><img src=\"https://colab.research.google.com/assets/colab-badge.svg\" alt=\"Open In Colab\"/></a>"
      ]
    },
    {
      "cell_type": "markdown",
      "source": [
        "# **MajorsMatch**\n",
        "TEAM ID: CH2-PS389"
      ],
      "metadata": {
        "id": "sjx4uSDwIJNy"
      }
    },
    {
      "cell_type": "markdown",
      "source": [
        "# **Import Library**\n",
        "---"
      ],
      "metadata": {
        "id": "i81vHlBgPOY3"
      }
    },
    {
      "cell_type": "code",
      "execution_count": 63,
      "metadata": {
        "id": "wSAwrLDjf6jl"
      },
      "outputs": [],
      "source": [
        "import numpy as np\n",
        "import matplotlib.pyplot as plt\n",
        "import pandas as pd\n",
        "import tensorflow as tf\n",
        "import tensorflow_datasets as tfds\n",
        "import seaborn as sns\n",
        "import shutil\n",
        "import os\n",
        "import urllib.request\n",
        "\n",
        "from keras.optimizers import Adam, SGD, RMSprop\n",
        "from keras.models import Sequential\n",
        "from keras.layers import Dense, MaxPooling1D, Flatten, Dropout\n",
        "from sklearn.model_selection import train_test_split\n",
        "from keras.callbacks import EarlyStopping\n",
        "from keras.utils import plot_model\n",
        "from sklearn.preprocessing import LabelEncoder, StandardScaler\n",
        "from sklearn.metrics import accuracy_score, classification_report"
      ]
    },
    {
      "cell_type": "markdown",
      "source": [
        "# **Memuat Dataset**\n",
        "\n",
        "---"
      ],
      "metadata": {
        "id": "w0Dqv5TGzxYd"
      }
    },
    {
      "cell_type": "code",
      "source": [
        "# Jalur ke file CSV di Github\n",
        "url = 'https://raw.githubusercontent.com/MuhammadFaturrahmanSaputra/Capstone_Bangkit/main/Dataset/CSV.csv'\n",
        "\n",
        "# Path folder tujuan di Colab\n",
        "folder = '/content/Dataset/'\n",
        "\n",
        "# Buat folder jika tidak ada\n",
        "if not os.path.exists(folder):\n",
        "    os.makedirs(folder)\n",
        "\n",
        "# Unduh file dari Github ke Colab\n",
        "file_name = os.path.join(folder, 'CSV.csv')\n",
        "urllib.request.urlretrieve(url, file_name)\n",
        "\n",
        "# Periksa apakah file berhasil diunduh\n",
        "if os.path.exists(file_name):\n",
        "    print(\"File CSV berhasil diunduh ke folder 'File Csv' di Colab.\")\n",
        "else:\n",
        "    print(\"Gagal mengunduh file CSV.\")"
      ],
      "metadata": {
        "colab": {
          "base_uri": "https://localhost:8080/"
        },
        "id": "AXAGYyHGI3tD",
        "outputId": "8b00a691-5ec2-4f8c-ea6b-b2f9e09fb385"
      },
      "execution_count": 64,
      "outputs": [
        {
          "output_type": "stream",
          "name": "stdout",
          "text": [
            "File CSV berhasil diunduh ke folder 'File Csv' di Colab.\n"
          ]
        }
      ]
    },
    {
      "cell_type": "code",
      "source": [
        "# Membaca file CSV dan membuat DataFrame\n",
        "df = pd.read_csv(url)\n",
        "\n",
        "# Menampilkan beberapa baris dari DataFrame\n",
        "df.head(10)"
      ],
      "metadata": {
        "colab": {
          "base_uri": "https://localhost:8080/",
          "height": 707
        },
        "id": "WneHvwNHX9mF",
        "outputId": "223a8252-e8da-49e9-ff0a-4cef931c3e22"
      },
      "execution_count": 65,
      "outputs": [
        {
          "output_type": "execute_result",
          "data": {
            "text/plain": [
              "   Memperbaiki Barang  Merakit Benda  Membongkar-Pasang Barang  \\\n",
              "0                   0              1                         1   \n",
              "1                   1              1                         1   \n",
              "2                   1              1                         0   \n",
              "3                   0              1                         1   \n",
              "4                   0              0                         0   \n",
              "5                   0              0                         0   \n",
              "6                   1              1                         0   \n",
              "7                   0              0                         0   \n",
              "8                   1              0                         1   \n",
              "9                   0              1                         0   \n",
              "\n",
              "   Mengutak-atik Barang  Menganalisis Masalah  Mencari Solusi  Menghitung  \\\n",
              "0                     1                     1               1           0   \n",
              "1                     1                     1               0           1   \n",
              "2                     0                     1               1           0   \n",
              "3                     1                     0               1           1   \n",
              "4                     0                     1               0           0   \n",
              "5                     0                     1               1           0   \n",
              "6                     0                     1               1           1   \n",
              "7                     1                     0               0           0   \n",
              "8                     1                     0               0           1   \n",
              "9                     0                     1               1           1   \n",
              "\n",
              "   Berfikir Logis  Menari  Bermusik  ...  Membantu  Menjual Benda  \\\n",
              "0               1       0         0  ...         1              0   \n",
              "1               1       0         1  ...         1              0   \n",
              "2               1       0         0  ...         1              0   \n",
              "3               1       1         1  ...         1              0   \n",
              "4               0       0         0  ...         1              0   \n",
              "5               1       0         0  ...         1              0   \n",
              "6               1       1         1  ...         1              1   \n",
              "7               1       0         0  ...         0              0   \n",
              "8               1       0         1  ...         1              0   \n",
              "9               1       0         0  ...         1              1   \n",
              "\n",
              "   Mengelola Acara  Memimpin Kelompok  Membujuk Orang  Mengikuti Aturan  \\\n",
              "0                0                  0               0                 1   \n",
              "1                0                  0               0                 1   \n",
              "2                1                  1               1                 1   \n",
              "3                1                  1               1                 1   \n",
              "4                0                  0               0                 1   \n",
              "5                1                  0               0                 1   \n",
              "6                1                  0               1                 1   \n",
              "7                0                  0               0                 0   \n",
              "8                0                  1               1                 1   \n",
              "9                0                  1               0                 1   \n",
              "\n",
              "   Mengurutkan  Membereskan Barang  Menjalankan Rutin  \\\n",
              "0            1                   0                  0   \n",
              "1            1                   1                  0   \n",
              "2            1                   1                  1   \n",
              "3            1                   0                  1   \n",
              "4            1                   1                  1   \n",
              "5            0                   0                  1   \n",
              "6            1                   1                  1   \n",
              "7            1                   0                  0   \n",
              "8            1                   1                  1   \n",
              "9            1                   1                  1   \n",
              "\n",
              "                        Fakultas  \n",
              "0                    Ilmu Teknik  \n",
              "1        Ilmu Ekonomi dan Bisnis  \n",
              "2      Ilmu Sosial dan Humaniora  \n",
              "3  Ilmu Profesi dan Ilmu Terapan  \n",
              "4                      Ilmu Seni  \n",
              "5      Ilmu Sosial dan Humaniora  \n",
              "6                Ilmu Pendidikan  \n",
              "7                    Ilmu Teknik  \n",
              "8    Ilmu Komputer dan Teknologi  \n",
              "9                      Ilmu Seni  \n",
              "\n",
              "[10 rows x 25 columns]"
            ],
            "text/html": [
              "\n",
              "  <div id=\"df-f2d40826-6a6c-473b-8f53-d4eb715fa3ea\" class=\"colab-df-container\">\n",
              "    <div>\n",
              "<style scoped>\n",
              "    .dataframe tbody tr th:only-of-type {\n",
              "        vertical-align: middle;\n",
              "    }\n",
              "\n",
              "    .dataframe tbody tr th {\n",
              "        vertical-align: top;\n",
              "    }\n",
              "\n",
              "    .dataframe thead th {\n",
              "        text-align: right;\n",
              "    }\n",
              "</style>\n",
              "<table border=\"1\" class=\"dataframe\">\n",
              "  <thead>\n",
              "    <tr style=\"text-align: right;\">\n",
              "      <th></th>\n",
              "      <th>Memperbaiki Barang</th>\n",
              "      <th>Merakit Benda</th>\n",
              "      <th>Membongkar-Pasang Barang</th>\n",
              "      <th>Mengutak-atik Barang</th>\n",
              "      <th>Menganalisis Masalah</th>\n",
              "      <th>Mencari Solusi</th>\n",
              "      <th>Menghitung</th>\n",
              "      <th>Berfikir Logis</th>\n",
              "      <th>Menari</th>\n",
              "      <th>Bermusik</th>\n",
              "      <th>...</th>\n",
              "      <th>Membantu</th>\n",
              "      <th>Menjual Benda</th>\n",
              "      <th>Mengelola Acara</th>\n",
              "      <th>Memimpin Kelompok</th>\n",
              "      <th>Membujuk Orang</th>\n",
              "      <th>Mengikuti Aturan</th>\n",
              "      <th>Mengurutkan</th>\n",
              "      <th>Membereskan Barang</th>\n",
              "      <th>Menjalankan Rutin</th>\n",
              "      <th>Fakultas</th>\n",
              "    </tr>\n",
              "  </thead>\n",
              "  <tbody>\n",
              "    <tr>\n",
              "      <th>0</th>\n",
              "      <td>0</td>\n",
              "      <td>1</td>\n",
              "      <td>1</td>\n",
              "      <td>1</td>\n",
              "      <td>1</td>\n",
              "      <td>1</td>\n",
              "      <td>0</td>\n",
              "      <td>1</td>\n",
              "      <td>0</td>\n",
              "      <td>0</td>\n",
              "      <td>...</td>\n",
              "      <td>1</td>\n",
              "      <td>0</td>\n",
              "      <td>0</td>\n",
              "      <td>0</td>\n",
              "      <td>0</td>\n",
              "      <td>1</td>\n",
              "      <td>1</td>\n",
              "      <td>0</td>\n",
              "      <td>0</td>\n",
              "      <td>Ilmu Teknik</td>\n",
              "    </tr>\n",
              "    <tr>\n",
              "      <th>1</th>\n",
              "      <td>1</td>\n",
              "      <td>1</td>\n",
              "      <td>1</td>\n",
              "      <td>1</td>\n",
              "      <td>1</td>\n",
              "      <td>0</td>\n",
              "      <td>1</td>\n",
              "      <td>1</td>\n",
              "      <td>0</td>\n",
              "      <td>1</td>\n",
              "      <td>...</td>\n",
              "      <td>1</td>\n",
              "      <td>0</td>\n",
              "      <td>0</td>\n",
              "      <td>0</td>\n",
              "      <td>0</td>\n",
              "      <td>1</td>\n",
              "      <td>1</td>\n",
              "      <td>1</td>\n",
              "      <td>0</td>\n",
              "      <td>Ilmu Ekonomi dan Bisnis</td>\n",
              "    </tr>\n",
              "    <tr>\n",
              "      <th>2</th>\n",
              "      <td>1</td>\n",
              "      <td>1</td>\n",
              "      <td>0</td>\n",
              "      <td>0</td>\n",
              "      <td>1</td>\n",
              "      <td>1</td>\n",
              "      <td>0</td>\n",
              "      <td>1</td>\n",
              "      <td>0</td>\n",
              "      <td>0</td>\n",
              "      <td>...</td>\n",
              "      <td>1</td>\n",
              "      <td>0</td>\n",
              "      <td>1</td>\n",
              "      <td>1</td>\n",
              "      <td>1</td>\n",
              "      <td>1</td>\n",
              "      <td>1</td>\n",
              "      <td>1</td>\n",
              "      <td>1</td>\n",
              "      <td>Ilmu Sosial dan Humaniora</td>\n",
              "    </tr>\n",
              "    <tr>\n",
              "      <th>3</th>\n",
              "      <td>0</td>\n",
              "      <td>1</td>\n",
              "      <td>1</td>\n",
              "      <td>1</td>\n",
              "      <td>0</td>\n",
              "      <td>1</td>\n",
              "      <td>1</td>\n",
              "      <td>1</td>\n",
              "      <td>1</td>\n",
              "      <td>1</td>\n",
              "      <td>...</td>\n",
              "      <td>1</td>\n",
              "      <td>0</td>\n",
              "      <td>1</td>\n",
              "      <td>1</td>\n",
              "      <td>1</td>\n",
              "      <td>1</td>\n",
              "      <td>1</td>\n",
              "      <td>0</td>\n",
              "      <td>1</td>\n",
              "      <td>Ilmu Profesi dan Ilmu Terapan</td>\n",
              "    </tr>\n",
              "    <tr>\n",
              "      <th>4</th>\n",
              "      <td>0</td>\n",
              "      <td>0</td>\n",
              "      <td>0</td>\n",
              "      <td>0</td>\n",
              "      <td>1</td>\n",
              "      <td>0</td>\n",
              "      <td>0</td>\n",
              "      <td>0</td>\n",
              "      <td>0</td>\n",
              "      <td>0</td>\n",
              "      <td>...</td>\n",
              "      <td>1</td>\n",
              "      <td>0</td>\n",
              "      <td>0</td>\n",
              "      <td>0</td>\n",
              "      <td>0</td>\n",
              "      <td>1</td>\n",
              "      <td>1</td>\n",
              "      <td>1</td>\n",
              "      <td>1</td>\n",
              "      <td>Ilmu Seni</td>\n",
              "    </tr>\n",
              "    <tr>\n",
              "      <th>5</th>\n",
              "      <td>0</td>\n",
              "      <td>0</td>\n",
              "      <td>0</td>\n",
              "      <td>0</td>\n",
              "      <td>1</td>\n",
              "      <td>1</td>\n",
              "      <td>0</td>\n",
              "      <td>1</td>\n",
              "      <td>0</td>\n",
              "      <td>0</td>\n",
              "      <td>...</td>\n",
              "      <td>1</td>\n",
              "      <td>0</td>\n",
              "      <td>1</td>\n",
              "      <td>0</td>\n",
              "      <td>0</td>\n",
              "      <td>1</td>\n",
              "      <td>0</td>\n",
              "      <td>0</td>\n",
              "      <td>1</td>\n",
              "      <td>Ilmu Sosial dan Humaniora</td>\n",
              "    </tr>\n",
              "    <tr>\n",
              "      <th>6</th>\n",
              "      <td>1</td>\n",
              "      <td>1</td>\n",
              "      <td>0</td>\n",
              "      <td>0</td>\n",
              "      <td>1</td>\n",
              "      <td>1</td>\n",
              "      <td>1</td>\n",
              "      <td>1</td>\n",
              "      <td>1</td>\n",
              "      <td>1</td>\n",
              "      <td>...</td>\n",
              "      <td>1</td>\n",
              "      <td>1</td>\n",
              "      <td>1</td>\n",
              "      <td>0</td>\n",
              "      <td>1</td>\n",
              "      <td>1</td>\n",
              "      <td>1</td>\n",
              "      <td>1</td>\n",
              "      <td>1</td>\n",
              "      <td>Ilmu Pendidikan</td>\n",
              "    </tr>\n",
              "    <tr>\n",
              "      <th>7</th>\n",
              "      <td>0</td>\n",
              "      <td>0</td>\n",
              "      <td>0</td>\n",
              "      <td>1</td>\n",
              "      <td>0</td>\n",
              "      <td>0</td>\n",
              "      <td>0</td>\n",
              "      <td>1</td>\n",
              "      <td>0</td>\n",
              "      <td>0</td>\n",
              "      <td>...</td>\n",
              "      <td>0</td>\n",
              "      <td>0</td>\n",
              "      <td>0</td>\n",
              "      <td>0</td>\n",
              "      <td>0</td>\n",
              "      <td>0</td>\n",
              "      <td>1</td>\n",
              "      <td>0</td>\n",
              "      <td>0</td>\n",
              "      <td>Ilmu Teknik</td>\n",
              "    </tr>\n",
              "    <tr>\n",
              "      <th>8</th>\n",
              "      <td>1</td>\n",
              "      <td>0</td>\n",
              "      <td>1</td>\n",
              "      <td>1</td>\n",
              "      <td>0</td>\n",
              "      <td>0</td>\n",
              "      <td>1</td>\n",
              "      <td>1</td>\n",
              "      <td>0</td>\n",
              "      <td>1</td>\n",
              "      <td>...</td>\n",
              "      <td>1</td>\n",
              "      <td>0</td>\n",
              "      <td>0</td>\n",
              "      <td>1</td>\n",
              "      <td>1</td>\n",
              "      <td>1</td>\n",
              "      <td>1</td>\n",
              "      <td>1</td>\n",
              "      <td>1</td>\n",
              "      <td>Ilmu Komputer dan Teknologi</td>\n",
              "    </tr>\n",
              "    <tr>\n",
              "      <th>9</th>\n",
              "      <td>0</td>\n",
              "      <td>1</td>\n",
              "      <td>0</td>\n",
              "      <td>0</td>\n",
              "      <td>1</td>\n",
              "      <td>1</td>\n",
              "      <td>1</td>\n",
              "      <td>1</td>\n",
              "      <td>0</td>\n",
              "      <td>0</td>\n",
              "      <td>...</td>\n",
              "      <td>1</td>\n",
              "      <td>1</td>\n",
              "      <td>0</td>\n",
              "      <td>1</td>\n",
              "      <td>0</td>\n",
              "      <td>1</td>\n",
              "      <td>1</td>\n",
              "      <td>1</td>\n",
              "      <td>1</td>\n",
              "      <td>Ilmu Seni</td>\n",
              "    </tr>\n",
              "  </tbody>\n",
              "</table>\n",
              "<p>10 rows × 25 columns</p>\n",
              "</div>\n",
              "    <div class=\"colab-df-buttons\">\n",
              "\n",
              "  <div class=\"colab-df-container\">\n",
              "    <button class=\"colab-df-convert\" onclick=\"convertToInteractive('df-f2d40826-6a6c-473b-8f53-d4eb715fa3ea')\"\n",
              "            title=\"Convert this dataframe to an interactive table.\"\n",
              "            style=\"display:none;\">\n",
              "\n",
              "  <svg xmlns=\"http://www.w3.org/2000/svg\" height=\"24px\" viewBox=\"0 -960 960 960\">\n",
              "    <path d=\"M120-120v-720h720v720H120Zm60-500h600v-160H180v160Zm220 220h160v-160H400v160Zm0 220h160v-160H400v160ZM180-400h160v-160H180v160Zm440 0h160v-160H620v160ZM180-180h160v-160H180v160Zm440 0h160v-160H620v160Z\"/>\n",
              "  </svg>\n",
              "    </button>\n",
              "\n",
              "  <style>\n",
              "    .colab-df-container {\n",
              "      display:flex;\n",
              "      gap: 12px;\n",
              "    }\n",
              "\n",
              "    .colab-df-convert {\n",
              "      background-color: #E8F0FE;\n",
              "      border: none;\n",
              "      border-radius: 50%;\n",
              "      cursor: pointer;\n",
              "      display: none;\n",
              "      fill: #1967D2;\n",
              "      height: 32px;\n",
              "      padding: 0 0 0 0;\n",
              "      width: 32px;\n",
              "    }\n",
              "\n",
              "    .colab-df-convert:hover {\n",
              "      background-color: #E2EBFA;\n",
              "      box-shadow: 0px 1px 2px rgba(60, 64, 67, 0.3), 0px 1px 3px 1px rgba(60, 64, 67, 0.15);\n",
              "      fill: #174EA6;\n",
              "    }\n",
              "\n",
              "    .colab-df-buttons div {\n",
              "      margin-bottom: 4px;\n",
              "    }\n",
              "\n",
              "    [theme=dark] .colab-df-convert {\n",
              "      background-color: #3B4455;\n",
              "      fill: #D2E3FC;\n",
              "    }\n",
              "\n",
              "    [theme=dark] .colab-df-convert:hover {\n",
              "      background-color: #434B5C;\n",
              "      box-shadow: 0px 1px 3px 1px rgba(0, 0, 0, 0.15);\n",
              "      filter: drop-shadow(0px 1px 2px rgba(0, 0, 0, 0.3));\n",
              "      fill: #FFFFFF;\n",
              "    }\n",
              "  </style>\n",
              "\n",
              "    <script>\n",
              "      const buttonEl =\n",
              "        document.querySelector('#df-f2d40826-6a6c-473b-8f53-d4eb715fa3ea button.colab-df-convert');\n",
              "      buttonEl.style.display =\n",
              "        google.colab.kernel.accessAllowed ? 'block' : 'none';\n",
              "\n",
              "      async function convertToInteractive(key) {\n",
              "        const element = document.querySelector('#df-f2d40826-6a6c-473b-8f53-d4eb715fa3ea');\n",
              "        const dataTable =\n",
              "          await google.colab.kernel.invokeFunction('convertToInteractive',\n",
              "                                                    [key], {});\n",
              "        if (!dataTable) return;\n",
              "\n",
              "        const docLinkHtml = 'Like what you see? Visit the ' +\n",
              "          '<a target=\"_blank\" href=https://colab.research.google.com/notebooks/data_table.ipynb>data table notebook</a>'\n",
              "          + ' to learn more about interactive tables.';\n",
              "        element.innerHTML = '';\n",
              "        dataTable['output_type'] = 'display_data';\n",
              "        await google.colab.output.renderOutput(dataTable, element);\n",
              "        const docLink = document.createElement('div');\n",
              "        docLink.innerHTML = docLinkHtml;\n",
              "        element.appendChild(docLink);\n",
              "      }\n",
              "    </script>\n",
              "  </div>\n",
              "\n",
              "\n",
              "<div id=\"df-a8bb742e-01e9-4fe7-ace6-f4a3f83d78c9\">\n",
              "  <button class=\"colab-df-quickchart\" onclick=\"quickchart('df-a8bb742e-01e9-4fe7-ace6-f4a3f83d78c9')\"\n",
              "            title=\"Suggest charts\"\n",
              "            style=\"display:none;\">\n",
              "\n",
              "<svg xmlns=\"http://www.w3.org/2000/svg\" height=\"24px\"viewBox=\"0 0 24 24\"\n",
              "     width=\"24px\">\n",
              "    <g>\n",
              "        <path d=\"M19 3H5c-1.1 0-2 .9-2 2v14c0 1.1.9 2 2 2h14c1.1 0 2-.9 2-2V5c0-1.1-.9-2-2-2zM9 17H7v-7h2v7zm4 0h-2V7h2v10zm4 0h-2v-4h2v4z\"/>\n",
              "    </g>\n",
              "</svg>\n",
              "  </button>\n",
              "\n",
              "<style>\n",
              "  .colab-df-quickchart {\n",
              "      --bg-color: #E8F0FE;\n",
              "      --fill-color: #1967D2;\n",
              "      --hover-bg-color: #E2EBFA;\n",
              "      --hover-fill-color: #174EA6;\n",
              "      --disabled-fill-color: #AAA;\n",
              "      --disabled-bg-color: #DDD;\n",
              "  }\n",
              "\n",
              "  [theme=dark] .colab-df-quickchart {\n",
              "      --bg-color: #3B4455;\n",
              "      --fill-color: #D2E3FC;\n",
              "      --hover-bg-color: #434B5C;\n",
              "      --hover-fill-color: #FFFFFF;\n",
              "      --disabled-bg-color: #3B4455;\n",
              "      --disabled-fill-color: #666;\n",
              "  }\n",
              "\n",
              "  .colab-df-quickchart {\n",
              "    background-color: var(--bg-color);\n",
              "    border: none;\n",
              "    border-radius: 50%;\n",
              "    cursor: pointer;\n",
              "    display: none;\n",
              "    fill: var(--fill-color);\n",
              "    height: 32px;\n",
              "    padding: 0;\n",
              "    width: 32px;\n",
              "  }\n",
              "\n",
              "  .colab-df-quickchart:hover {\n",
              "    background-color: var(--hover-bg-color);\n",
              "    box-shadow: 0 1px 2px rgba(60, 64, 67, 0.3), 0 1px 3px 1px rgba(60, 64, 67, 0.15);\n",
              "    fill: var(--button-hover-fill-color);\n",
              "  }\n",
              "\n",
              "  .colab-df-quickchart-complete:disabled,\n",
              "  .colab-df-quickchart-complete:disabled:hover {\n",
              "    background-color: var(--disabled-bg-color);\n",
              "    fill: var(--disabled-fill-color);\n",
              "    box-shadow: none;\n",
              "  }\n",
              "\n",
              "  .colab-df-spinner {\n",
              "    border: 2px solid var(--fill-color);\n",
              "    border-color: transparent;\n",
              "    border-bottom-color: var(--fill-color);\n",
              "    animation:\n",
              "      spin 1s steps(1) infinite;\n",
              "  }\n",
              "\n",
              "  @keyframes spin {\n",
              "    0% {\n",
              "      border-color: transparent;\n",
              "      border-bottom-color: var(--fill-color);\n",
              "      border-left-color: var(--fill-color);\n",
              "    }\n",
              "    20% {\n",
              "      border-color: transparent;\n",
              "      border-left-color: var(--fill-color);\n",
              "      border-top-color: var(--fill-color);\n",
              "    }\n",
              "    30% {\n",
              "      border-color: transparent;\n",
              "      border-left-color: var(--fill-color);\n",
              "      border-top-color: var(--fill-color);\n",
              "      border-right-color: var(--fill-color);\n",
              "    }\n",
              "    40% {\n",
              "      border-color: transparent;\n",
              "      border-right-color: var(--fill-color);\n",
              "      border-top-color: var(--fill-color);\n",
              "    }\n",
              "    60% {\n",
              "      border-color: transparent;\n",
              "      border-right-color: var(--fill-color);\n",
              "    }\n",
              "    80% {\n",
              "      border-color: transparent;\n",
              "      border-right-color: var(--fill-color);\n",
              "      border-bottom-color: var(--fill-color);\n",
              "    }\n",
              "    90% {\n",
              "      border-color: transparent;\n",
              "      border-bottom-color: var(--fill-color);\n",
              "    }\n",
              "  }\n",
              "</style>\n",
              "\n",
              "  <script>\n",
              "    async function quickchart(key) {\n",
              "      const quickchartButtonEl =\n",
              "        document.querySelector('#' + key + ' button');\n",
              "      quickchartButtonEl.disabled = true;  // To prevent multiple clicks.\n",
              "      quickchartButtonEl.classList.add('colab-df-spinner');\n",
              "      try {\n",
              "        const charts = await google.colab.kernel.invokeFunction(\n",
              "            'suggestCharts', [key], {});\n",
              "      } catch (error) {\n",
              "        console.error('Error during call to suggestCharts:', error);\n",
              "      }\n",
              "      quickchartButtonEl.classList.remove('colab-df-spinner');\n",
              "      quickchartButtonEl.classList.add('colab-df-quickchart-complete');\n",
              "    }\n",
              "    (() => {\n",
              "      let quickchartButtonEl =\n",
              "        document.querySelector('#df-a8bb742e-01e9-4fe7-ace6-f4a3f83d78c9 button');\n",
              "      quickchartButtonEl.style.display =\n",
              "        google.colab.kernel.accessAllowed ? 'block' : 'none';\n",
              "    })();\n",
              "  </script>\n",
              "</div>\n",
              "    </div>\n",
              "  </div>\n"
            ]
          },
          "metadata": {},
          "execution_count": 65
        }
      ]
    },
    {
      "cell_type": "code",
      "source": [
        "# Periksa jumlah data\n",
        "print(f\"Jumlah data: {len(df)}\")\n",
        "print(f\"Jumlah kolom: {len(df.columns)}\")"
      ],
      "metadata": {
        "colab": {
          "base_uri": "https://localhost:8080/"
        },
        "id": "lLljFE61UWRQ",
        "outputId": "85657608-e4f0-4ad0-bfd7-4fcc65287d7c"
      },
      "execution_count": 66,
      "outputs": [
        {
          "output_type": "stream",
          "name": "stdout",
          "text": [
            "Jumlah data: 600\n",
            "Jumlah kolom: 25\n"
          ]
        }
      ]
    },
    {
      "cell_type": "code",
      "source": [
        "# Menghitung jumlah data untuk setiap kategori fakultas\n",
        "kategori = df['Fakultas'].value_counts()\n",
        "kategori"
      ],
      "metadata": {
        "colab": {
          "base_uri": "https://localhost:8080/"
        },
        "id": "mu0T6XQRUuj6",
        "outputId": "118bfca6-35f5-4986-b4a4-0f114727dce2"
      },
      "execution_count": 67,
      "outputs": [
        {
          "output_type": "execute_result",
          "data": {
            "text/plain": [
              "Ilmu Teknik                       50\n",
              "Ilmu Ekonomi dan Bisnis           50\n",
              "Ilmu Sosial dan Humaniora         50\n",
              "Ilmu Profesi dan Ilmu Terapan     50\n",
              "Ilmu Seni                         50\n",
              "Ilmu Pendidikan                   50\n",
              "Ilmu Komputer dan Teknologi       50\n",
              "Ilmu Matematika dan IPA (MIPA)    50\n",
              "Ilmu Sastra dan Budaya            50\n",
              "Ilmu Kesehatan                    50\n",
              "Ilmu Olahraga                     50\n",
              "Ilmu Pertanian                    50\n",
              "Name: Fakultas, dtype: int64"
            ]
          },
          "metadata": {},
          "execution_count": 67
        }
      ]
    },
    {
      "cell_type": "markdown",
      "source": [
        "# **Visualisasi Data**\n",
        "\n",
        "---"
      ],
      "metadata": {
        "id": "0i7xnUM8FQH7"
      }
    },
    {
      "cell_type": "code",
      "source": [
        "# Membuat bar plot menggunakan Seaborn\n",
        "plt.figure(figsize=(10, 6))\n",
        "bar_plot=sns.barplot(x=kategori.index, y=kategori.values, data=df, palette=\"Set2\")\n",
        "plt.title('Jumlah Data per Kategori Fakultas', fontweight='bold')\n",
        "plt.xlabel('\\nFakultas')\n",
        "plt.ylabel('Jumlah Data')\n",
        "plt.xticks(rotation=90)\n",
        "plt.ylim(0,100)\n",
        "for index, value in enumerate(kategori):\n",
        "    bar_plot.text(index, value + 1, str(value), ha='center', va='bottom', fontsize=8)\n",
        "plt.tight_layout()\n",
        "plt.show()"
      ],
      "metadata": {
        "colab": {
          "base_uri": "https://localhost:8080/",
          "height": 607
        },
        "id": "kLucFrg0N3uu",
        "outputId": "17ebd54c-f06c-401b-e1e3-95321a2074b5"
      },
      "execution_count": 68,
      "outputs": [
        {
          "output_type": "display_data",
          "data": {
            "text/plain": [
              "<Figure size 1000x600 with 1 Axes>"
            ],
            "image/png": "[encoded data removed]"
          },
          "metadata": {}
        }
      ]
    },
    {
      "cell_type": "markdown",
      "source": [
        "# **Konversi Tipe Data**\n",
        "\n",
        "---"
      ],
      "metadata": {
        "id": "jNFgzsp_fmyP"
      }
    },
    {
      "cell_type": "code",
      "source": [
        "# Mengubah tipe data kolom fitur menjadi boolean\n",
        "konversi_bool = ['Memperbaiki Barang', 'Merakit Benda', 'Membongkar-Pasang Barang', 'Mengutak-atik Barang', 'Menganalisis Masalah',\n",
        "               'Mencari Solusi', 'Menghitung', 'Berfikir Logis', 'Menari', 'Bermusik', 'Menggambar', 'Menulis Cerita', 'Mengajar',\n",
        "               'Memberi Saran', 'Memahami Orang Lain', 'Membantu', 'Menjual Benda', 'Mengelola Acara', 'Memimpin Kelompok',\n",
        "               'Membujuk Orang', 'Mengikuti Aturan', 'Mengurutkan', 'Membereskan Barang', 'Menjalankan Rutin']\n",
        "\n",
        "for kolom in konversi_bool:\n",
        "    df[kolom] = df[kolom].astype(bool)"
      ],
      "metadata": {
        "id": "llhEQmUrqEUP"
      },
      "execution_count": 69,
      "outputs": []
    },
    {
      "cell_type": "code",
      "source": [
        "df.info()"
      ],
      "metadata": {
        "id": "Ho30TWiEsfoF",
        "colab": {
          "base_uri": "https://localhost:8080/"
        },
        "outputId": "1dcb1f0b-3851-4b1c-bd62-73c039232bf1"
      },
      "execution_count": 70,
      "outputs": [
        {
          "output_type": "stream",
          "name": "stdout",
          "text": [
            "<class 'pandas.core.frame.DataFrame'>\n",
            "RangeIndex: 600 entries, 0 to 599\n",
            "Data columns (total 25 columns):\n",
            " #   Column                    Non-Null Count  Dtype \n",
            "---  ------                    --------------  ----- \n",
            " 0   Memperbaiki Barang        600 non-null    bool  \n",
            " 1   Merakit Benda             600 non-null    bool  \n",
            " 2   Membongkar-Pasang Barang  600 non-null    bool  \n",
            " 3   Mengutak-atik Barang      600 non-null    bool  \n",
            " 4   Menganalisis Masalah      600 non-null    bool  \n",
            " 5   Mencari Solusi            600 non-null    bool  \n",
            " 6   Menghitung                600 non-null    bool  \n",
            " 7   Berfikir Logis            600 non-null    bool  \n",
            " 8   Menari                    600 non-null    bool  \n",
            " 9   Bermusik                  600 non-null    bool  \n",
            " 10  Menggambar                600 non-null    bool  \n",
            " 11  Menulis Cerita            600 non-null    bool  \n",
            " 12  Mengajar                  600 non-null    bool  \n",
            " 13  Memberi Saran             600 non-null    bool  \n",
            " 14  Memahami Orang Lain       600 non-null    bool  \n",
            " 15  Membantu                  600 non-null    bool  \n",
            " 16  Menjual Benda             600 non-null    bool  \n",
            " 17  Mengelola Acara           600 non-null    bool  \n",
            " 18  Memimpin Kelompok         600 non-null    bool  \n",
            " 19  Membujuk Orang            600 non-null    bool  \n",
            " 20  Mengikuti Aturan          600 non-null    bool  \n",
            " 21  Mengurutkan               600 non-null    bool  \n",
            " 22  Membereskan Barang        600 non-null    bool  \n",
            " 23  Menjalankan Rutin         600 non-null    bool  \n",
            " 24  Fakultas                  600 non-null    object\n",
            "dtypes: bool(24), object(1)\n",
            "memory usage: 18.9+ KB\n"
          ]
        }
      ]
    },
    {
      "cell_type": "markdown",
      "source": [
        "# **Memisahkan Fitur dan Label**\n",
        "\n",
        "---"
      ],
      "metadata": {
        "id": "KUUeGrbuLC9H"
      }
    },
    {
      "cell_type": "markdown",
      "source": [
        "Memisahkan kolom yang menjadi 2 variabel yaitu Fakultas sebagai (**labels**) dan Minat, Bakat, dan Aspirasi peserta didik sebagai (**features**)"
      ],
      "metadata": {
        "id": "zloBczvDmYCG"
      }
    },
    {
      "cell_type": "markdown",
      "source": [
        "## FATUR"
      ],
      "metadata": {
        "id": "mGevYRHL0f3S"
      }
    },
    {
      "cell_type": "code",
      "source": [
        "# Memisahkan fitur dan label\n",
        "features = df.iloc[:, :-1]  # Mengambil semua kolom kecuali kolom terakhir\n",
        "labels = df.iloc[:, -1]     # Mengambil kolom terakhir sebagai label\n",
        "\n",
        "print(features.shape)\n",
        "print(labels.shape)"
      ],
      "metadata": {
        "id": "bHiyoKFR0jpx",
        "colab": {
          "base_uri": "https://localhost:8080/"
        },
        "outputId": "1f68b3f5-0732-470a-a100-c0bcafd5cce0"
      },
      "execution_count": 71,
      "outputs": [
        {
          "output_type": "stream",
          "name": "stdout",
          "text": [
            "(600, 24)\n",
            "(600,)\n"
          ]
        }
      ]
    },
    {
      "cell_type": "markdown",
      "source": [
        "# **Data Preprocessing**\n",
        "\n",
        "---\n",
        "\n"
      ],
      "metadata": {
        "id": "1eyfugDpBRhH"
      }
    },
    {
      "cell_type": "markdown",
      "source": [
        "## FATUR"
      ],
      "metadata": {
        "id": "wE13QxKmzKDq"
      }
    },
    {
      "cell_type": "code",
      "source": [
        "# Standarisasi fitur menggunakan StandardScaler\n",
        "scaler = StandardScaler()\n",
        "scaled_features = scaler.fit_transform(features)\n",
        "\n",
        "# Konversi label kategorikal menjadi one-hot encoding\n",
        "label_encoder = LabelEncoder()\n",
        "encoded_labels = label_encoder.fit_transform(labels)\n",
        "num_classes = len(np.unique(encoded_labels))\n",
        "one_hot_labels = tf.keras.utils.to_categorical(encoded_labels, num_classes=num_classes)\n",
        "\n",
        "# Tampilkan label kategorikal yang sudah diubah menjadi one-hot encoding\n",
        "label_mapping = dict(zip(label_encoder.classes_, range(len(label_encoder.classes_))))\n",
        "print(f\"Label Asli:\\n {labels.head()}\")\n",
        "print(\"Label One-Hot Encoded: \")\n",
        "for label, one_hot_label in zip(labels.head(), one_hot_labels[:5]):\n",
        "    original_label = list(label_mapping.keys())[list(label_mapping.values()).index(np.argmax(one_hot_label))]\n",
        "    print(f\"{label} -> {one_hot_label} ({original_label})\")\n",
        "\n",
        "# Memisahkan data menjadi data training dan data validation\n",
        "train_features, test_features, train_labels, test_labels = train_test_split(scaled_features,\n",
        "                                                                            tf.keras.utils.to_categorical(encoded_labels),\n",
        "                                                                            test_size=0.2,\n",
        "                                                                            random_state=42)\n",
        "\n",
        "print(\"\\ntrain_features: \", len(train_features))\n",
        "print(\"train_labels: \", len(train_labels))\n",
        "print(\"test_features: \", len(test_features))\n",
        "print(\"test_labels: \", len(test_labels))"
      ],
      "metadata": {
        "id": "_wJUAzTwirnu",
        "colab": {
          "base_uri": "https://localhost:8080/"
        },
        "outputId": "4c5324cb-3708-400b-bb34-e762fd17e664"
      },
      "execution_count": 72,
      "outputs": [
        {
          "output_type": "stream",
          "name": "stdout",
          "text": [
            "Label Asli:\n",
            " 0                      Ilmu Teknik\n",
            "1          Ilmu Ekonomi dan Bisnis\n",
            "2        Ilmu Sosial dan Humaniora\n",
            "3    Ilmu Profesi dan Ilmu Terapan\n",
            "4                        Ilmu Seni\n",
            "Name: Fakultas, dtype: object\n",
            "Label One-Hot Encoded: \n",
            "Ilmu Teknik -> [0. 0. 0. 0. 0. 0. 0. 0. 0. 0. 0. 1.] (Ilmu Teknik)\n",
            "Ilmu Ekonomi dan Bisnis -> [1. 0. 0. 0. 0. 0. 0. 0. 0. 0. 0. 0.] (Ilmu Ekonomi dan Bisnis)\n",
            "Ilmu Sosial dan Humaniora -> [0. 0. 0. 0. 0. 0. 0. 0. 0. 0. 1. 0.] (Ilmu Sosial dan Humaniora)\n",
            "Ilmu Profesi dan Ilmu Terapan -> [0. 0. 0. 0. 0. 0. 0. 1. 0. 0. 0. 0.] (Ilmu Profesi dan Ilmu Terapan)\n",
            "Ilmu Seni -> [0. 0. 0. 0. 0. 0. 0. 0. 0. 1. 0. 0.] (Ilmu Seni)\n",
            "\n",
            "train_features:  480\n",
            "train_labels:  480\n",
            "test_features:  120\n",
            "test_labels:  120\n"
          ]
        }
      ]
    },
    {
      "cell_type": "markdown",
      "source": [
        "# **Membangun Model**\n",
        "\n",
        "---"
      ],
      "metadata": {
        "id": "GnTtadV9S5wJ"
      }
    },
    {
      "cell_type": "code",
      "source": [
        "# model squential\n",
        "model = Sequential([\n",
        "    Dense(units=16, activation='relu'),\n",
        "    Dropout(0.2),\n",
        "    Dense(units=32, activation='relu'),\n",
        "    Dropout(0.3),\n",
        "    Dense(units=64, activation='relu'),\n",
        "    Dropout(0.4),\n",
        "    Dense(units=128, activation='relu'),\n",
        "    Dropout(0.5),\n",
        "    Flatten(),\n",
        "    Dense(128, activation='relu'),\n",
        "    Dropout(0.6),\n",
        "    Dense(num_classes, activation=\"softmax\")\n",
        "])"
      ],
      "metadata": {
        "id": "5CRNHa3hTCOP"
      },
      "execution_count": 73,
      "outputs": []
    },
    {
      "cell_type": "markdown",
      "source": [
        "# **Buat Class Callbacks**\n",
        "\n",
        "---"
      ],
      "metadata": {
        "id": "uUwhUX7p6ChH"
      }
    },
    {
      "cell_type": "markdown",
      "source": [
        "Early stopping membantu mencegah overfitting dan menghasilkan model yang lebih baik dalam melakukan prediksi pada data baru yang belum pernah dilihat sebelumnya."
      ],
      "metadata": {
        "id": "ptPb5tI08ohe"
      }
    },
    {
      "cell_type": "code",
      "source": [
        "early_stopping = EarlyStopping(monitor='val_accuracy',\n",
        "                               patience=35,\n",
        "                               restore_best_weights=True)"
      ],
      "metadata": {
        "id": "yNzyAqRD8szF"
      },
      "execution_count": 74,
      "outputs": []
    },
    {
      "cell_type": "markdown",
      "source": [
        "# **Compile dan Melatih Model**\n",
        "\n",
        "\n",
        "\n",
        "\n",
        "---"
      ],
      "metadata": {
        "id": "GVAtRkjuTGqG"
      }
    },
    {
      "cell_type": "code",
      "source": [
        "# Menentukan jumlah batch per epoch (steps_per_epoch)\n",
        "batch_size = 32\n",
        "steps_per_epoch = len(train_features) // batch_size  # Jumlah steps per epoch"
      ],
      "metadata": {
        "id": "4nPWkbKfG8Pg"
      },
      "execution_count": 75,
      "outputs": []
    },
    {
      "cell_type": "code",
      "source": [
        "model.compile(optimizer=RMSprop(learning_rate=0.001),\n",
        "              loss=\"categorical_crossentropy\",\n",
        "              metrics=[\"accuracy\"])\n",
        "\n",
        "history = model.fit(train_features, train_labels,\n",
        "                    validation_data=(test_features, test_labels),\n",
        "                    epochs=500,\n",
        "                    batch_size=batch_size,\n",
        "                    steps_per_epoch=steps_per_epoch,\n",
        "                    verbose=1, callbacks=[early_stopping])"
      ],
      "metadata": {
        "id": "KszBUz79TOQ_",
        "colab": {
          "base_uri": "https://localhost:8080/"
        },
        "outputId": "3f60d3d4-c3f6-4658-a4aa-21c22baf1f18"
      },
      "execution_count": 76,
      "outputs": [
        {
          "output_type": "stream",
          "name": "stdout",
          "text": [
            "Epoch 1/500\n",
            "15/15 [==============================] - 1s 26ms/step - loss: 2.5515 - accuracy: 0.0938 - val_loss: 2.4710 - val_accuracy: 0.0750\n",
            "Epoch 2/500\n",
            "15/15 [==============================] - 0s 5ms/step - loss: 2.4769 - accuracy: 0.1000 - val_loss: 2.4621 - val_accuracy: 0.1250\n",
            "Epoch 3/500\n",
            "15/15 [==============================] - 0s 6ms/step - loss: 2.4891 - accuracy: 0.0792 - val_loss: 2.4588 - val_accuracy: 0.1333\n",
            "Epoch 4/500\n",
            "15/15 [==============================] - 0s 6ms/step - loss: 2.4430 - accuracy: 0.1083 - val_loss: 2.4510 - val_accuracy: 0.1833\n",
            "Epoch 5/500\n",
            "15/15 [==============================] - 0s 7ms/step - loss: 2.4454 - accuracy: 0.1292 - val_loss: 2.4467 - val_accuracy: 0.2167\n",
            "Epoch 6/500\n",
            "15/15 [==============================] - 0s 7ms/step - loss: 2.4210 - accuracy: 0.1354 - val_loss: 2.4307 - val_accuracy: 0.2250\n",
            "Epoch 7/500\n",
            "15/15 [==============================] - 0s 6ms/step - loss: 2.3952 - accuracy: 0.1458 - val_loss: 2.4134 - val_accuracy: 0.2500\n",
            "Epoch 8/500\n",
            "15/15 [==============================] - 0s 6ms/step - loss: 2.3890 - accuracy: 0.1542 - val_loss: 2.3943 - val_accuracy: 0.2333\n",
            "Epoch 9/500\n",
            "15/15 [==============================] - 0s 5ms/step - loss: 2.3717 - accuracy: 0.1604 - val_loss: 2.3754 - val_accuracy: 0.3000\n",
            "Epoch 10/500\n",
            "15/15 [==============================] - 0s 5ms/step - loss: 2.3291 - accuracy: 0.2021 - val_loss: 2.3545 - val_accuracy: 0.3750\n",
            "Epoch 11/500\n",
            "15/15 [==============================] - 0s 5ms/step - loss: 2.3206 - accuracy: 0.2042 - val_loss: 2.3281 - val_accuracy: 0.3167\n",
            "Epoch 12/500\n",
            "15/15 [==============================] - 0s 6ms/step - loss: 2.2880 - accuracy: 0.2271 - val_loss: 2.2935 - val_accuracy: 0.3333\n",
            "Epoch 13/500\n",
            "15/15 [==============================] - 0s 6ms/step - loss: 2.2567 - accuracy: 0.2354 - val_loss: 2.2541 - val_accuracy: 0.3583\n",
            "Epoch 14/500\n",
            "15/15 [==============================] - 0s 5ms/step - loss: 2.2585 - accuracy: 0.2396 - val_loss: 2.2148 - val_accuracy: 0.3750\n",
            "Epoch 15/500\n",
            "15/15 [==============================] - 0s 7ms/step - loss: 2.1635 - accuracy: 0.2500 - val_loss: 2.1604 - val_accuracy: 0.4167\n",
            "Epoch 16/500\n",
            "15/15 [==============================] - 0s 6ms/step - loss: 2.1430 - accuracy: 0.2771 - val_loss: 2.1046 - val_accuracy: 0.4250\n",
            "Epoch 17/500\n",
            "15/15 [==============================] - 0s 5ms/step - loss: 2.1257 - accuracy: 0.2958 - val_loss: 2.0418 - val_accuracy: 0.4250\n",
            "Epoch 18/500\n",
            "15/15 [==============================] - 0s 6ms/step - loss: 2.0713 - accuracy: 0.3167 - val_loss: 1.9846 - val_accuracy: 0.4417\n",
            "Epoch 19/500\n",
            "15/15 [==============================] - 0s 6ms/step - loss: 2.0397 - accuracy: 0.3354 - val_loss: 1.9306 - val_accuracy: 0.5000\n",
            "Epoch 20/500\n",
            "15/15 [==============================] - 0s 6ms/step - loss: 2.0230 - accuracy: 0.3521 - val_loss: 1.8859 - val_accuracy: 0.5000\n",
            "Epoch 21/500\n",
            "15/15 [==============================] - 0s 5ms/step - loss: 1.9638 - accuracy: 0.3500 - val_loss: 1.8290 - val_accuracy: 0.5250\n",
            "Epoch 22/500\n",
            "15/15 [==============================] - 0s 6ms/step - loss: 1.9145 - accuracy: 0.3958 - val_loss: 1.7798 - val_accuracy: 0.5250\n",
            "Epoch 23/500\n",
            "15/15 [==============================] - 0s 6ms/step - loss: 1.8957 - accuracy: 0.3646 - val_loss: 1.7336 - val_accuracy: 0.5083\n",
            "Epoch 24/500\n",
            "15/15 [==============================] - 0s 5ms/step - loss: 1.8163 - accuracy: 0.3833 - val_loss: 1.6734 - val_accuracy: 0.5083\n",
            "Epoch 25/500\n",
            "15/15 [==============================] - 0s 5ms/step - loss: 1.7789 - accuracy: 0.4125 - val_loss: 1.6125 - val_accuracy: 0.5083\n",
            "Epoch 26/500\n",
            "15/15 [==============================] - 0s 6ms/step - loss: 1.7337 - accuracy: 0.4271 - val_loss: 1.5638 - val_accuracy: 0.5250\n",
            "Epoch 27/500\n",
            "15/15 [==============================] - 0s 6ms/step - loss: 1.7618 - accuracy: 0.4437 - val_loss: 1.5324 - val_accuracy: 0.5333\n",
            "Epoch 28/500\n",
            "15/15 [==============================] - 0s 6ms/step - loss: 1.7050 - accuracy: 0.4417 - val_loss: 1.4937 - val_accuracy: 0.5417\n",
            "Epoch 29/500\n",
            "15/15 [==============================] - 0s 5ms/step - loss: 1.6529 - accuracy: 0.4750 - val_loss: 1.4550 - val_accuracy: 0.5500\n",
            "Epoch 30/500\n",
            "15/15 [==============================] - 0s 5ms/step - loss: 1.6106 - accuracy: 0.4854 - val_loss: 1.4214 - val_accuracy: 0.5417\n",
            "Epoch 31/500\n",
            "15/15 [==============================] - 0s 5ms/step - loss: 1.6007 - accuracy: 0.4729 - val_loss: 1.3904 - val_accuracy: 0.5417\n",
            "Epoch 32/500\n",
            "15/15 [==============================] - 0s 5ms/step - loss: 1.6026 - accuracy: 0.5063 - val_loss: 1.3663 - val_accuracy: 0.5500\n",
            "Epoch 33/500\n",
            "15/15 [==============================] - 0s 6ms/step - loss: 1.5973 - accuracy: 0.4854 - val_loss: 1.3521 - val_accuracy: 0.5500\n",
            "Epoch 34/500\n",
            "15/15 [==============================] - 0s 6ms/step - loss: 1.5446 - accuracy: 0.4958 - val_loss: 1.3234 - val_accuracy: 0.5667\n",
            "Epoch 35/500\n",
            "15/15 [==============================] - 0s 6ms/step - loss: 1.5016 - accuracy: 0.5063 - val_loss: 1.2904 - val_accuracy: 0.6000\n",
            "Epoch 36/500\n",
            "15/15 [==============================] - 0s 6ms/step - loss: 1.4894 - accuracy: 0.5104 - val_loss: 1.2703 - val_accuracy: 0.6083\n",
            "Epoch 37/500\n",
            "15/15 [==============================] - 0s 5ms/step - loss: 1.5551 - accuracy: 0.5000 - val_loss: 1.2519 - val_accuracy: 0.5750\n",
            "Epoch 38/500\n",
            "15/15 [==============================] - 0s 6ms/step - loss: 1.4223 - accuracy: 0.5312 - val_loss: 1.2271 - val_accuracy: 0.5833\n",
            "Epoch 39/500\n",
            "15/15 [==============================] - 0s 5ms/step - loss: 1.5638 - accuracy: 0.5063 - val_loss: 1.2240 - val_accuracy: 0.6083\n",
            "Epoch 40/500\n",
            "15/15 [==============================] - 0s 5ms/step - loss: 1.4683 - accuracy: 0.5292 - val_loss: 1.1976 - val_accuracy: 0.6167\n",
            "Epoch 41/500\n",
            "15/15 [==============================] - 0s 6ms/step - loss: 1.4461 - accuracy: 0.5292 - val_loss: 1.1733 - val_accuracy: 0.6250\n",
            "Epoch 42/500\n",
            "15/15 [==============================] - 0s 6ms/step - loss: 1.4839 - accuracy: 0.5521 - val_loss: 1.1628 - val_accuracy: 0.6250\n",
            "Epoch 43/500\n",
            "15/15 [==============================] - 0s 5ms/step - loss: 1.4354 - accuracy: 0.5396 - val_loss: 1.1450 - val_accuracy: 0.6250\n",
            "Epoch 44/500\n",
            "15/15 [==============================] - 0s 5ms/step - loss: 1.3890 - accuracy: 0.5271 - val_loss: 1.1233 - val_accuracy: 0.6333\n",
            "Epoch 45/500\n",
            "15/15 [==============================] - 0s 7ms/step - loss: 1.3363 - accuracy: 0.5583 - val_loss: 1.1103 - val_accuracy: 0.6250\n",
            "Epoch 46/500\n",
            "15/15 [==============================] - 0s 6ms/step - loss: 1.2449 - accuracy: 0.5875 - val_loss: 1.0848 - val_accuracy: 0.6333\n",
            "Epoch 47/500\n",
            "15/15 [==============================] - 0s 6ms/step - loss: 1.3582 - accuracy: 0.5625 - val_loss: 1.0641 - val_accuracy: 0.6333\n",
            "Epoch 48/500\n",
            "15/15 [==============================] - 0s 5ms/step - loss: 1.3902 - accuracy: 0.5354 - val_loss: 1.0688 - val_accuracy: 0.6500\n",
            "Epoch 49/500\n",
            "15/15 [==============================] - 0s 7ms/step - loss: 1.3447 - accuracy: 0.5500 - val_loss: 1.0577 - val_accuracy: 0.6583\n",
            "Epoch 50/500\n",
            "15/15 [==============================] - 0s 5ms/step - loss: 1.3326 - accuracy: 0.5625 - val_loss: 1.0547 - val_accuracy: 0.6750\n",
            "Epoch 51/500\n",
            "15/15 [==============================] - 0s 5ms/step - loss: 1.2890 - accuracy: 0.5750 - val_loss: 1.0369 - val_accuracy: 0.7000\n",
            "Epoch 52/500\n",
            "15/15 [==============================] - 0s 5ms/step - loss: 1.3070 - accuracy: 0.5938 - val_loss: 1.0274 - val_accuracy: 0.7083\n",
            "Epoch 53/500\n",
            "15/15 [==============================] - 0s 6ms/step - loss: 1.3441 - accuracy: 0.5792 - val_loss: 1.0204 - val_accuracy: 0.7167\n",
            "Epoch 54/500\n",
            "15/15 [==============================] - 0s 5ms/step - loss: 1.2045 - accuracy: 0.5917 - val_loss: 0.9998 - val_accuracy: 0.7250\n",
            "Epoch 55/500\n",
            "15/15 [==============================] - 0s 7ms/step - loss: 1.3213 - accuracy: 0.5792 - val_loss: 0.9821 - val_accuracy: 0.7417\n",
            "Epoch 56/500\n",
            "15/15 [==============================] - 0s 5ms/step - loss: 1.2472 - accuracy: 0.6187 - val_loss: 0.9752 - val_accuracy: 0.7417\n",
            "Epoch 57/500\n",
            "15/15 [==============================] - 0s 6ms/step - loss: 1.3327 - accuracy: 0.5813 - val_loss: 0.9748 - val_accuracy: 0.7417\n",
            "Epoch 58/500\n",
            "15/15 [==============================] - 0s 5ms/step - loss: 1.2167 - accuracy: 0.6417 - val_loss: 0.9677 - val_accuracy: 0.7500\n",
            "Epoch 59/500\n",
            "15/15 [==============================] - 0s 5ms/step - loss: 1.3226 - accuracy: 0.5917 - val_loss: 0.9603 - val_accuracy: 0.7250\n",
            "Epoch 60/500\n",
            "15/15 [==============================] - 0s 6ms/step - loss: 1.2729 - accuracy: 0.5938 - val_loss: 0.9540 - val_accuracy: 0.7250\n",
            "Epoch 61/500\n",
            "15/15 [==============================] - 0s 6ms/step - loss: 1.1471 - accuracy: 0.6375 - val_loss: 0.9435 - val_accuracy: 0.7333\n",
            "Epoch 62/500\n",
            "15/15 [==============================] - 0s 6ms/step - loss: 1.1929 - accuracy: 0.6062 - val_loss: 0.9440 - val_accuracy: 0.7417\n",
            "Epoch 63/500\n",
            "15/15 [==============================] - 0s 6ms/step - loss: 1.2197 - accuracy: 0.5917 - val_loss: 0.9384 - val_accuracy: 0.7667\n",
            "Epoch 64/500\n",
            "15/15 [==============================] - 0s 6ms/step - loss: 1.1334 - accuracy: 0.6187 - val_loss: 0.9211 - val_accuracy: 0.7667\n",
            "Epoch 65/500\n",
            "15/15 [==============================] - 0s 5ms/step - loss: 1.0799 - accuracy: 0.6646 - val_loss: 0.9154 - val_accuracy: 0.7833\n",
            "Epoch 66/500\n",
            "15/15 [==============================] - 0s 5ms/step - loss: 1.0910 - accuracy: 0.6375 - val_loss: 0.9063 - val_accuracy: 0.7750\n",
            "Epoch 67/500\n",
            "15/15 [==============================] - 0s 5ms/step - loss: 1.1430 - accuracy: 0.6292 - val_loss: 0.8861 - val_accuracy: 0.7917\n",
            "Epoch 68/500\n",
            "15/15 [==============================] - 0s 6ms/step - loss: 1.0932 - accuracy: 0.6479 - val_loss: 0.8793 - val_accuracy: 0.8083\n",
            "Epoch 69/500\n",
            "15/15 [==============================] - 0s 8ms/step - loss: 1.0810 - accuracy: 0.6333 - val_loss: 0.8837 - val_accuracy: 0.7917\n",
            "Epoch 70/500\n",
            "15/15 [==============================] - 0s 8ms/step - loss: 1.1752 - accuracy: 0.6292 - val_loss: 0.8731 - val_accuracy: 0.8083\n",
            "Epoch 71/500\n",
            "15/15 [==============================] - 0s 10ms/step - loss: 1.0986 - accuracy: 0.6229 - val_loss: 0.8759 - val_accuracy: 0.8083\n",
            "Epoch 72/500\n",
            "15/15 [==============================] - 0s 8ms/step - loss: 1.1235 - accuracy: 0.6417 - val_loss: 0.8719 - val_accuracy: 0.8083\n",
            "Epoch 73/500\n",
            "15/15 [==============================] - 0s 8ms/step - loss: 1.1538 - accuracy: 0.6271 - val_loss: 0.8711 - val_accuracy: 0.8083\n",
            "Epoch 74/500\n",
            "15/15 [==============================] - 0s 7ms/step - loss: 1.0762 - accuracy: 0.6354 - val_loss: 0.8750 - val_accuracy: 0.8167\n",
            "Epoch 75/500\n",
            "15/15 [==============================] - 0s 7ms/step - loss: 1.1121 - accuracy: 0.6667 - val_loss: 0.8857 - val_accuracy: 0.8083\n",
            "Epoch 76/500\n",
            "15/15 [==============================] - 0s 7ms/step - loss: 1.1557 - accuracy: 0.6083 - val_loss: 0.8782 - val_accuracy: 0.8083\n",
            "Epoch 77/500\n",
            "15/15 [==============================] - 0s 8ms/step - loss: 1.1149 - accuracy: 0.6417 - val_loss: 0.8749 - val_accuracy: 0.8083\n",
            "Epoch 78/500\n",
            "15/15 [==============================] - 0s 7ms/step - loss: 1.0889 - accuracy: 0.6771 - val_loss: 0.8627 - val_accuracy: 0.8083\n",
            "Epoch 79/500\n",
            "15/15 [==============================] - 0s 9ms/step - loss: 1.0613 - accuracy: 0.6583 - val_loss: 0.8612 - val_accuracy: 0.8083\n",
            "Epoch 80/500\n",
            "15/15 [==============================] - 0s 7ms/step - loss: 1.1222 - accuracy: 0.6375 - val_loss: 0.8692 - val_accuracy: 0.8083\n",
            "Epoch 81/500\n",
            "15/15 [==============================] - 0s 7ms/step - loss: 1.0452 - accuracy: 0.6479 - val_loss: 0.8632 - val_accuracy: 0.8167\n",
            "Epoch 82/500\n",
            "15/15 [==============================] - 0s 8ms/step - loss: 1.0170 - accuracy: 0.6313 - val_loss: 0.8539 - val_accuracy: 0.7917\n",
            "Epoch 83/500\n",
            "15/15 [==============================] - 0s 8ms/step - loss: 1.0199 - accuracy: 0.6750 - val_loss: 0.8548 - val_accuracy: 0.8083\n",
            "Epoch 84/500\n",
            "15/15 [==============================] - 0s 8ms/step - loss: 1.1279 - accuracy: 0.6562 - val_loss: 0.8509 - val_accuracy: 0.8167\n",
            "Epoch 85/500\n",
            "15/15 [==============================] - 0s 7ms/step - loss: 0.9940 - accuracy: 0.6750 - val_loss: 0.8594 - val_accuracy: 0.8167\n",
            "Epoch 86/500\n",
            "15/15 [==============================] - 0s 6ms/step - loss: 1.0288 - accuracy: 0.6875 - val_loss: 0.8390 - val_accuracy: 0.8083\n",
            "Epoch 87/500\n",
            "15/15 [==============================] - 0s 8ms/step - loss: 1.0110 - accuracy: 0.6708 - val_loss: 0.8371 - val_accuracy: 0.8083\n",
            "Epoch 88/500\n",
            "15/15 [==============================] - 0s 8ms/step - loss: 0.9932 - accuracy: 0.6625 - val_loss: 0.8352 - val_accuracy: 0.8000\n",
            "Epoch 89/500\n",
            "15/15 [==============================] - 0s 8ms/step - loss: 1.0785 - accuracy: 0.6396 - val_loss: 0.8405 - val_accuracy: 0.7833\n",
            "Epoch 90/500\n",
            "15/15 [==============================] - 0s 6ms/step - loss: 1.0174 - accuracy: 0.6562 - val_loss: 0.8513 - val_accuracy: 0.8000\n",
            "Epoch 91/500\n",
            "15/15 [==============================] - 0s 7ms/step - loss: 0.9701 - accuracy: 0.6708 - val_loss: 0.8354 - val_accuracy: 0.8083\n",
            "Epoch 92/500\n",
            "15/15 [==============================] - 0s 7ms/step - loss: 1.0634 - accuracy: 0.6500 - val_loss: 0.8325 - val_accuracy: 0.8083\n",
            "Epoch 93/500\n",
            "15/15 [==============================] - 0s 7ms/step - loss: 0.9461 - accuracy: 0.6812 - val_loss: 0.8283 - val_accuracy: 0.8083\n",
            "Epoch 94/500\n",
            "15/15 [==============================] - 0s 7ms/step - loss: 0.9840 - accuracy: 0.6667 - val_loss: 0.8332 - val_accuracy: 0.8167\n",
            "Epoch 95/500\n",
            "15/15 [==============================] - 0s 7ms/step - loss: 0.9272 - accuracy: 0.6917 - val_loss: 0.8193 - val_accuracy: 0.8083\n",
            "Epoch 96/500\n",
            "15/15 [==============================] - 0s 7ms/step - loss: 1.0255 - accuracy: 0.6729 - val_loss: 0.8236 - val_accuracy: 0.8083\n",
            "Epoch 97/500\n",
            "15/15 [==============================] - 0s 7ms/step - loss: 0.9515 - accuracy: 0.6854 - val_loss: 0.8184 - val_accuracy: 0.8083\n",
            "Epoch 98/500\n",
            "15/15 [==============================] - 0s 7ms/step - loss: 0.9581 - accuracy: 0.7000 - val_loss: 0.8213 - val_accuracy: 0.8083\n",
            "Epoch 99/500\n",
            "15/15 [==============================] - 0s 8ms/step - loss: 0.9820 - accuracy: 0.6687 - val_loss: 0.8197 - val_accuracy: 0.8083\n",
            "Epoch 100/500\n",
            "15/15 [==============================] - 0s 6ms/step - loss: 1.0161 - accuracy: 0.6917 - val_loss: 0.8221 - val_accuracy: 0.8083\n",
            "Epoch 101/500\n",
            "15/15 [==============================] - 0s 6ms/step - loss: 1.0114 - accuracy: 0.6854 - val_loss: 0.8075 - val_accuracy: 0.8250\n",
            "Epoch 102/500\n",
            "15/15 [==============================] - 0s 5ms/step - loss: 0.9530 - accuracy: 0.6979 - val_loss: 0.8110 - val_accuracy: 0.8167\n",
            "Epoch 103/500\n",
            "15/15 [==============================] - 0s 5ms/step - loss: 0.9286 - accuracy: 0.6938 - val_loss: 0.8054 - val_accuracy: 0.8083\n",
            "Epoch 104/500\n",
            "15/15 [==============================] - 0s 4ms/step - loss: 0.9315 - accuracy: 0.6979 - val_loss: 0.8089 - val_accuracy: 0.8083\n",
            "Epoch 105/500\n",
            "15/15 [==============================] - 0s 6ms/step - loss: 0.9604 - accuracy: 0.6833 - val_loss: 0.8170 - val_accuracy: 0.7917\n",
            "Epoch 106/500\n",
            "15/15 [==============================] - 0s 5ms/step - loss: 0.9766 - accuracy: 0.6896 - val_loss: 0.8241 - val_accuracy: 0.8083\n",
            "Epoch 107/500\n",
            "15/15 [==============================] - 0s 6ms/step - loss: 0.8853 - accuracy: 0.7188 - val_loss: 0.8376 - val_accuracy: 0.8167\n",
            "Epoch 108/500\n",
            "15/15 [==============================] - 0s 6ms/step - loss: 0.9620 - accuracy: 0.6750 - val_loss: 0.8271 - val_accuracy: 0.8167\n",
            "Epoch 109/500\n",
            "15/15 [==============================] - 0s 6ms/step - loss: 0.9958 - accuracy: 0.6812 - val_loss: 0.8321 - val_accuracy: 0.8083\n",
            "Epoch 110/500\n",
            "15/15 [==============================] - 0s 6ms/step - loss: 0.9153 - accuracy: 0.7083 - val_loss: 0.8491 - val_accuracy: 0.8000\n",
            "Epoch 111/500\n",
            "15/15 [==============================] - 0s 5ms/step - loss: 1.0208 - accuracy: 0.6625 - val_loss: 0.8664 - val_accuracy: 0.8083\n",
            "Epoch 112/500\n",
            "15/15 [==============================] - 0s 5ms/step - loss: 1.0385 - accuracy: 0.6583 - val_loss: 0.8611 - val_accuracy: 0.8083\n",
            "Epoch 113/500\n",
            "15/15 [==============================] - 0s 4ms/step - loss: 0.8803 - accuracy: 0.7312 - val_loss: 0.8517 - val_accuracy: 0.8083\n",
            "Epoch 114/500\n",
            "15/15 [==============================] - 0s 5ms/step - loss: 0.9239 - accuracy: 0.7021 - val_loss: 0.8403 - val_accuracy: 0.8083\n",
            "Epoch 115/500\n",
            "15/15 [==============================] - 0s 5ms/step - loss: 0.9228 - accuracy: 0.7125 - val_loss: 0.8406 - val_accuracy: 0.8083\n",
            "Epoch 116/500\n",
            "15/15 [==============================] - 0s 5ms/step - loss: 0.9335 - accuracy: 0.7146 - val_loss: 0.8293 - val_accuracy: 0.8250\n",
            "Epoch 117/500\n",
            "15/15 [==============================] - 0s 5ms/step - loss: 0.9241 - accuracy: 0.7146 - val_loss: 0.8482 - val_accuracy: 0.8083\n",
            "Epoch 118/500\n",
            "15/15 [==============================] - 0s 6ms/step - loss: 0.8990 - accuracy: 0.6958 - val_loss: 0.8297 - val_accuracy: 0.8000\n",
            "Epoch 119/500\n",
            "15/15 [==============================] - 0s 5ms/step - loss: 0.8799 - accuracy: 0.7125 - val_loss: 0.8319 - val_accuracy: 0.8083\n",
            "Epoch 120/500\n",
            "15/15 [==============================] - 0s 5ms/step - loss: 0.8511 - accuracy: 0.6875 - val_loss: 0.8465 - val_accuracy: 0.8083\n",
            "Epoch 121/500\n",
            "15/15 [==============================] - 0s 4ms/step - loss: 0.9839 - accuracy: 0.6917 - val_loss: 0.8534 - val_accuracy: 0.8000\n",
            "Epoch 122/500\n",
            "15/15 [==============================] - 0s 5ms/step - loss: 0.9328 - accuracy: 0.6833 - val_loss: 0.8514 - val_accuracy: 0.8083\n",
            "Epoch 123/500\n",
            "15/15 [==============================] - 0s 5ms/step - loss: 0.8105 - accuracy: 0.7250 - val_loss: 0.8528 - val_accuracy: 0.8000\n",
            "Epoch 124/500\n",
            "15/15 [==============================] - 0s 5ms/step - loss: 0.8458 - accuracy: 0.7250 - val_loss: 0.8582 - val_accuracy: 0.8000\n",
            "Epoch 125/500\n",
            "15/15 [==============================] - 0s 5ms/step - loss: 0.8445 - accuracy: 0.7188 - val_loss: 0.8684 - val_accuracy: 0.8167\n",
            "Epoch 126/500\n",
            "15/15 [==============================] - 0s 5ms/step - loss: 0.9422 - accuracy: 0.6854 - val_loss: 0.8528 - val_accuracy: 0.8083\n",
            "Epoch 127/500\n",
            "15/15 [==============================] - 0s 5ms/step - loss: 0.9288 - accuracy: 0.7104 - val_loss: 0.8530 - val_accuracy: 0.8167\n",
            "Epoch 128/500\n",
            "15/15 [==============================] - 0s 6ms/step - loss: 0.8333 - accuracy: 0.7312 - val_loss: 0.8432 - val_accuracy: 0.8250\n",
            "Epoch 129/500\n",
            "15/15 [==============================] - 0s 5ms/step - loss: 0.8021 - accuracy: 0.7354 - val_loss: 0.8405 - val_accuracy: 0.8250\n",
            "Epoch 130/500\n",
            "15/15 [==============================] - 0s 6ms/step - loss: 0.8892 - accuracy: 0.6854 - val_loss: 0.8306 - val_accuracy: 0.8083\n",
            "Epoch 131/500\n",
            "15/15 [==============================] - 0s 6ms/step - loss: 0.8459 - accuracy: 0.7229 - val_loss: 0.8239 - val_accuracy: 0.8167\n",
            "Epoch 132/500\n",
            "15/15 [==============================] - 0s 5ms/step - loss: 0.8294 - accuracy: 0.7312 - val_loss: 0.8449 - val_accuracy: 0.8167\n",
            "Epoch 133/500\n",
            "15/15 [==============================] - 0s 5ms/step - loss: 0.8930 - accuracy: 0.6958 - val_loss: 0.8471 - val_accuracy: 0.8333\n",
            "Epoch 134/500\n",
            "15/15 [==============================] - 0s 6ms/step - loss: 0.8502 - accuracy: 0.7208 - val_loss: 0.8610 - val_accuracy: 0.8333\n",
            "Epoch 135/500\n",
            "15/15 [==============================] - 0s 5ms/step - loss: 0.7523 - accuracy: 0.7229 - val_loss: 0.8519 - val_accuracy: 0.8333\n",
            "Epoch 136/500\n",
            "15/15 [==============================] - 0s 6ms/step - loss: 0.9316 - accuracy: 0.6917 - val_loss: 0.8509 - val_accuracy: 0.8250\n",
            "Epoch 137/500\n",
            "15/15 [==============================] - 0s 6ms/step - loss: 0.8924 - accuracy: 0.7188 - val_loss: 0.8722 - val_accuracy: 0.8250\n",
            "Epoch 138/500\n",
            "15/15 [==============================] - 0s 5ms/step - loss: 0.8677 - accuracy: 0.7104 - val_loss: 0.8621 - val_accuracy: 0.8333\n",
            "Epoch 139/500\n",
            "15/15 [==============================] - 0s 5ms/step - loss: 0.9424 - accuracy: 0.6938 - val_loss: 0.8793 - val_accuracy: 0.8333\n",
            "Epoch 140/500\n",
            "15/15 [==============================] - 0s 6ms/step - loss: 0.7894 - accuracy: 0.7417 - val_loss: 0.8870 - val_accuracy: 0.8167\n",
            "Epoch 141/500\n",
            "15/15 [==============================] - 0s 5ms/step - loss: 0.8704 - accuracy: 0.7125 - val_loss: 0.8904 - val_accuracy: 0.8250\n",
            "Epoch 142/500\n",
            "15/15 [==============================] - 0s 6ms/step - loss: 0.8318 - accuracy: 0.7375 - val_loss: 0.8667 - val_accuracy: 0.8167\n",
            "Epoch 143/500\n",
            "15/15 [==============================] - 0s 6ms/step - loss: 0.8191 - accuracy: 0.7292 - val_loss: 0.8642 - val_accuracy: 0.8250\n",
            "Epoch 144/500\n",
            "15/15 [==============================] - 0s 5ms/step - loss: 0.8615 - accuracy: 0.7229 - val_loss: 0.8658 - val_accuracy: 0.8250\n",
            "Epoch 145/500\n",
            "15/15 [==============================] - 0s 6ms/step - loss: 0.8772 - accuracy: 0.7167 - val_loss: 0.8150 - val_accuracy: 0.8167\n",
            "Epoch 146/500\n",
            "15/15 [==============================] - 0s 5ms/step - loss: 0.8479 - accuracy: 0.7396 - val_loss: 0.8309 - val_accuracy: 0.8250\n",
            "Epoch 147/500\n",
            "15/15 [==============================] - 0s 5ms/step - loss: 0.8925 - accuracy: 0.7208 - val_loss: 0.8422 - val_accuracy: 0.8417\n",
            "Epoch 148/500\n",
            "15/15 [==============================] - 0s 5ms/step - loss: 0.8123 - accuracy: 0.7396 - val_loss: 0.8484 - val_accuracy: 0.8417\n",
            "Epoch 149/500\n",
            "15/15 [==============================] - 0s 6ms/step - loss: 0.8498 - accuracy: 0.7208 - val_loss: 0.8528 - val_accuracy: 0.8250\n",
            "Epoch 150/500\n",
            "15/15 [==============================] - 0s 5ms/step - loss: 0.8457 - accuracy: 0.7104 - val_loss: 0.8644 - val_accuracy: 0.8250\n",
            "Epoch 151/500\n",
            "15/15 [==============================] - 0s 6ms/step - loss: 0.8325 - accuracy: 0.7125 - val_loss: 0.8751 - val_accuracy: 0.8333\n",
            "Epoch 152/500\n",
            "15/15 [==============================] - 0s 5ms/step - loss: 0.8417 - accuracy: 0.7125 - val_loss: 0.8624 - val_accuracy: 0.8333\n",
            "Epoch 153/500\n",
            "15/15 [==============================] - 0s 6ms/step - loss: 0.8305 - accuracy: 0.7333 - val_loss: 0.8833 - val_accuracy: 0.8333\n",
            "Epoch 154/500\n",
            "15/15 [==============================] - 0s 5ms/step - loss: 0.8695 - accuracy: 0.7396 - val_loss: 0.8727 - val_accuracy: 0.8333\n",
            "Epoch 155/500\n",
            "15/15 [==============================] - 0s 6ms/step - loss: 0.8101 - accuracy: 0.7271 - val_loss: 0.8847 - val_accuracy: 0.8250\n",
            "Epoch 156/500\n",
            "15/15 [==============================] - 0s 6ms/step - loss: 0.6879 - accuracy: 0.7771 - val_loss: 0.9001 - val_accuracy: 0.8417\n",
            "Epoch 157/500\n",
            "15/15 [==============================] - 0s 6ms/step - loss: 0.8635 - accuracy: 0.7167 - val_loss: 0.8619 - val_accuracy: 0.8250\n",
            "Epoch 158/500\n",
            "15/15 [==============================] - 0s 5ms/step - loss: 0.8403 - accuracy: 0.7375 - val_loss: 0.8829 - val_accuracy: 0.8417\n",
            "Epoch 159/500\n",
            "15/15 [==============================] - 0s 4ms/step - loss: 0.7778 - accuracy: 0.7396 - val_loss: 0.8823 - val_accuracy: 0.8333\n",
            "Epoch 160/500\n",
            "15/15 [==============================] - 0s 5ms/step - loss: 0.9103 - accuracy: 0.7375 - val_loss: 0.8768 - val_accuracy: 0.8333\n",
            "Epoch 161/500\n",
            "15/15 [==============================] - 0s 4ms/step - loss: 0.9037 - accuracy: 0.7042 - val_loss: 0.8660 - val_accuracy: 0.8333\n",
            "Epoch 162/500\n",
            "15/15 [==============================] - 0s 5ms/step - loss: 0.8060 - accuracy: 0.7229 - val_loss: 0.8578 - val_accuracy: 0.8250\n",
            "Epoch 163/500\n",
            "15/15 [==============================] - 0s 5ms/step - loss: 0.7942 - accuracy: 0.7417 - val_loss: 0.8599 - val_accuracy: 0.8417\n",
            "Epoch 164/500\n",
            "15/15 [==============================] - 0s 5ms/step - loss: 0.8442 - accuracy: 0.7167 - val_loss: 0.8772 - val_accuracy: 0.8250\n",
            "Epoch 165/500\n",
            "15/15 [==============================] - 0s 6ms/step - loss: 0.8907 - accuracy: 0.7375 - val_loss: 0.8707 - val_accuracy: 0.8167\n",
            "Epoch 166/500\n",
            "15/15 [==============================] - 0s 5ms/step - loss: 0.7581 - accuracy: 0.7646 - val_loss: 0.8820 - val_accuracy: 0.8167\n",
            "Epoch 167/500\n",
            "15/15 [==============================] - 0s 5ms/step - loss: 0.7806 - accuracy: 0.7521 - val_loss: 0.8679 - val_accuracy: 0.8083\n",
            "Epoch 168/500\n",
            "15/15 [==============================] - 0s 6ms/step - loss: 0.8791 - accuracy: 0.7167 - val_loss: 0.8600 - val_accuracy: 0.8083\n",
            "Epoch 169/500\n",
            "15/15 [==============================] - 0s 5ms/step - loss: 0.8177 - accuracy: 0.7292 - val_loss: 0.8690 - val_accuracy: 0.8250\n",
            "Epoch 170/500\n",
            "15/15 [==============================] - 0s 5ms/step - loss: 0.7875 - accuracy: 0.7479 - val_loss: 0.8968 - val_accuracy: 0.8167\n",
            "Epoch 171/500\n",
            "15/15 [==============================] - 0s 5ms/step - loss: 0.8667 - accuracy: 0.7042 - val_loss: 0.9202 - val_accuracy: 0.8167\n",
            "Epoch 172/500\n",
            "15/15 [==============================] - 0s 6ms/step - loss: 0.7425 - accuracy: 0.7646 - val_loss: 0.9363 - val_accuracy: 0.8167\n",
            "Epoch 173/500\n",
            "15/15 [==============================] - 0s 5ms/step - loss: 0.7803 - accuracy: 0.7771 - val_loss: 0.9461 - val_accuracy: 0.8000\n",
            "Epoch 174/500\n",
            "15/15 [==============================] - 0s 5ms/step - loss: 0.7062 - accuracy: 0.7646 - val_loss: 0.9195 - val_accuracy: 0.8083\n",
            "Epoch 175/500\n",
            "15/15 [==============================] - 0s 5ms/step - loss: 0.7553 - accuracy: 0.7500 - val_loss: 0.9253 - val_accuracy: 0.8250\n",
            "Epoch 176/500\n",
            "15/15 [==============================] - 0s 5ms/step - loss: 0.7850 - accuracy: 0.7583 - val_loss: 0.9168 - val_accuracy: 0.8000\n",
            "Epoch 177/500\n",
            "15/15 [==============================] - 0s 5ms/step - loss: 0.7589 - accuracy: 0.7437 - val_loss: 0.9399 - val_accuracy: 0.8167\n",
            "Epoch 178/500\n",
            "15/15 [==============================] - 0s 6ms/step - loss: 0.7859 - accuracy: 0.7354 - val_loss: 0.9373 - val_accuracy: 0.8167\n",
            "Epoch 179/500\n",
            "15/15 [==============================] - 0s 5ms/step - loss: 0.8216 - accuracy: 0.7458 - val_loss: 0.9339 - val_accuracy: 0.8167\n",
            "Epoch 180/500\n",
            "15/15 [==============================] - 0s 5ms/step - loss: 0.8587 - accuracy: 0.7396 - val_loss: 0.9366 - val_accuracy: 0.8167\n",
            "Epoch 181/500\n",
            "15/15 [==============================] - 0s 6ms/step - loss: 0.8378 - accuracy: 0.7542 - val_loss: 0.9377 - val_accuracy: 0.8000\n",
            "Epoch 182/500\n",
            "15/15 [==============================] - 0s 6ms/step - loss: 0.8668 - accuracy: 0.7229 - val_loss: 0.9286 - val_accuracy: 0.8000\n"
          ]
        }
      ]
    },
    {
      "cell_type": "code",
      "source": [
        "# Menampilkan nilai accuracy dan val_accuracy pada akhir pelatihan\n",
        "nilai_accuracy = round(history.history['accuracy'][-1] * 100)\n",
        "nilai_val_accuracy = round(history.history['val_accuracy'][-1] * 100)\n",
        "print(f'Nilai Accuracy: {nilai_accuracy}%')\n",
        "print(f'Nilai Val_Accuracy: {nilai_val_accuracy}%')"
      ],
      "metadata": {
        "id": "oTlO3ykGGDK3",
        "colab": {
          "base_uri": "https://localhost:8080/"
        },
        "outputId": "b6c631d0-89c0-42b4-e5e8-a0b0965fb51b"
      },
      "execution_count": 77,
      "outputs": [
        {
          "output_type": "stream",
          "name": "stdout",
          "text": [
            "Nilai Accuracy: 72%\n",
            "Nilai Val_Accuracy: 80%\n"
          ]
        }
      ]
    },
    {
      "cell_type": "code",
      "source": [
        "model.summary()"
      ],
      "metadata": {
        "id": "cAo8PSNLQp_9",
        "colab": {
          "base_uri": "https://localhost:8080/"
        },
        "outputId": "14e8ba8c-14b8-407c-a5ef-0c9dbb63686a"
      },
      "execution_count": 78,
      "outputs": [
        {
          "output_type": "stream",
          "name": "stdout",
          "text": [
            "Model: \"sequential_5\"\n",
            "_________________________________________________________________\n",
            " Layer (type)                Output Shape              Param #   \n",
            "=================================================================\n",
            " dense_30 (Dense)            (None, 16)                400       \n",
            "                                                                 \n",
            " dropout_25 (Dropout)        (None, 16)                0         \n",
            "                                                                 \n",
            " dense_31 (Dense)            (None, 32)                544       \n",
            "                                                                 \n",
            " dropout_26 (Dropout)        (None, 32)                0         \n",
            "                                                                 \n",
            " dense_32 (Dense)            (None, 64)                2112      \n",
            "                                                                 \n",
            " dropout_27 (Dropout)        (None, 64)                0         \n",
            "                                                                 \n",
            " dense_33 (Dense)            (None, 128)               8320      \n",
            "                                                                 \n",
            " dropout_28 (Dropout)        (None, 128)               0         \n",
            "                                                                 \n",
            " flatten_5 (Flatten)         (None, 128)               0         \n",
            "                                                                 \n",
            " dense_34 (Dense)            (None, 128)               16512     \n",
            "                                                                 \n",
            " dropout_29 (Dropout)        (None, 128)               0         \n",
            "                                                                 \n",
            " dense_35 (Dense)            (None, 12)                1548      \n",
            "                                                                 \n",
            "=================================================================\n",
            "Total params: 29436 (114.98 KB)\n",
            "Trainable params: 29436 (114.98 KB)\n",
            "Non-trainable params: 0 (0.00 Byte)\n",
            "_________________________________________________________________\n"
          ]
        }
      ]
    },
    {
      "cell_type": "markdown",
      "source": [
        "# **Plot Loss dan Accuracy**\n",
        "\n",
        "---"
      ],
      "metadata": {
        "id": "hHq-SWe5TIgE"
      }
    },
    {
      "cell_type": "code",
      "source": [
        "# plot training dan validation accuracy per epoch\n",
        "plt.plot(history.history['accuracy'])\n",
        "plt.plot(history.history['val_accuracy'])\n",
        "plt.title('model accuracy')\n",
        "plt.ylabel('accuracy')\n",
        "plt.xlabel('epoch')\n",
        "plt.legend(['Train', 'Validation'], loc='lower right')\n",
        "plt.show()\n",
        "print(\"\\n\")\n",
        "\n",
        "# plot training dan validation loss per epoch\n",
        "plt.plot(history.history['loss'])\n",
        "plt.plot(history.history['val_loss'])\n",
        "plt.title('model loss')\n",
        "plt.ylabel('loss')\n",
        "plt.xlabel('epoch')\n",
        "plt.legend(['Train', 'Validation'], loc='upper right')\n",
        "plt.show()"
      ],
      "metadata": {
        "id": "U5r6gcHYTOYy",
        "colab": {
          "base_uri": "https://localhost:8080/",
          "height": 962
        },
        "outputId": "b4ade8c8-e8fc-4d42-bcf4-69d11bde633d"
      },
      "execution_count": 79,
      "outputs": [
        {
          "output_type": "display_data",
          "data": {
            "text/plain": [
              "<Figure size 640x480 with 1 Axes>"
            ],
            "image/png": "[encoded data removed]"
          },
          "metadata": {}
        },
        {
          "output_type": "stream",
          "name": "stdout",
          "text": [
            "\n",
            "\n"
          ]
        },
        {
          "output_type": "display_data",
          "data": {
            "text/plain": [
              "<Figure size 640x480 with 1 Axes>"
            ],
            "image/png": "[encoded data removed]"
          },
          "metadata": {}
        }
      ]
    },
    {
      "cell_type": "markdown",
      "source": [
        "# **Evaluasi Model**\n",
        "\n",
        "---"
      ],
      "metadata": {
        "id": "04ct7VfQSRd5"
      }
    },
    {
      "cell_type": "code",
      "source": [
        "# Evaluasi model\n",
        "train_loss, train_accuracy = model.evaluate(test_features, test_labels)\n",
        "val_loss, val_accuracy = model.evaluate(test_features, test_labels)\n",
        "\n",
        "# Mengonversi nilai accuracy ke persentase dengan pembulatan 2 desimal\n",
        "train_accuracy_percent = round(train_accuracy * 100, 2)\n",
        "val_accuracy_percent = round(val_accuracy * 100, 2)\n",
        "\n",
        "print(f'\\nTraining Loss: {train_loss}')\n",
        "print(f'Training Accuracy: {train_accuracy_percent}%')\n",
        "\n",
        "print(f'\\nValidation Loss: {val_loss}')\n",
        "print(f'Validation Accuracy: {val_accuracy_percent}%')"
      ],
      "metadata": {
        "colab": {
          "base_uri": "https://localhost:8080/"
        },
        "id": "V_9ZoMcFoT1n",
        "outputId": "84d0095f-4b7d-4760-f3b9-13153bb39037"
      },
      "execution_count": 80,
      "outputs": [
        {
          "output_type": "stream",
          "name": "stdout",
          "text": [
            "4/4 [==============================] - 0s 4ms/step - loss: 0.8422 - accuracy: 0.8417\n",
            "4/4 [==============================] - 0s 5ms/step - loss: 0.8422 - accuracy: 0.8417\n",
            "\n",
            "Training Loss: 0.8422161936759949\n",
            "Training Accuracy: 84.17%\n",
            "\n",
            "Validation Loss: 0.8422161936759949\n",
            "Validation Accuracy: 84.17%\n"
          ]
        }
      ]
    },
    {
      "cell_type": "markdown",
      "source": [
        "# **Predict Model**\n",
        "\n",
        "---"
      ],
      "metadata": {
        "id": "jzANzdY_fQo9"
      }
    },
    {
      "cell_type": "code",
      "source": [
        "# Input fitur yang akan diprediksi (sesuaikan dengan jumlah fitur yang digunakan dalam model)\n",
        "input_features = np.array([[True, True, True, True, False, False, False, True, True, False, True, False,\n",
        "                            True, False, True, True, True, False, True, False, True, False, False, True]])\n",
        "\n",
        "# Normalisasi input fitur\n",
        "input_features_normalized = tf.keras.utils.normalize(input_features, axis=1)\n",
        "\n",
        "# Melakukan prediksi berdasarkan input fitur\n",
        "predictions = model.predict(input_features_normalized)\n",
        "\n",
        "# Menampilkan hasil prediksi\n",
        "print(predictions)\n",
        "\n",
        "# Mendapatkan indeks dengan nilai tertinggi dari output model\n",
        "predicted_class_index = np.argmax(predictions)\n",
        "print(\"\\nIndeks dengan nilai tertinggi:\", predicted_class_index)\n",
        "\n",
        "# Label Encoding yang telah digunakan sebelumnya\n",
        "label_encoder = LabelEncoder()\n",
        "label_encoder.fit(labels)\n",
        "\n",
        "# Invers transform dari indeks ke label fakultas\n",
        "predicted_fakultas = label_encoder.inverse_transform([predicted_class_index])\n",
        "\n",
        "# Menampilkan nama fakultas yang diprediksi berdasarkan indeks\n",
        "print(\"\\nKamu cocok dengan Fakultas:\", predicted_fakultas[0])"
      ],
      "metadata": {
        "colab": {
          "base_uri": "https://localhost:8080/"
        },
        "id": "r7UdfCIjielt",
        "outputId": "e18ac590-45ff-4a97-c699-9c36c6f7f741"
      },
      "execution_count": 81,
      "outputs": [
        {
          "output_type": "stream",
          "name": "stdout",
          "text": [
            "1/1 [==============================] - 0s 134ms/step\n",
            "[[3.0382499e-04 4.3405299e-03 8.1104960e-04 6.1228857e-03 9.2095453e-01\n",
            "  8.5626421e-03 1.6055329e-04 7.8204274e-03 1.7106475e-02 3.9913263e-03\n",
            "  2.8649392e-02 1.1763868e-03]]\n",
            "\n",
            "Indeks dengan nilai tertinggi: 4\n",
            "\n",
            "Kamu cocok dengan Fakultas: Ilmu Olahraga\n"
          ]
        }
      ]
    },
    {
      "cell_type": "markdown",
      "source": [
        "# **Save Model**\n",
        "\n",
        "---"
      ],
      "metadata": {
        "id": "h9MSpgC7Uo7E"
      }
    },
    {
      "cell_type": "code",
      "source": [
        "model.save(\"sistem_rekomendasi_jurusan.h5\")"
      ],
      "metadata": {
        "id": "ixkX7desVrjk",
        "colab": {
          "base_uri": "https://localhost:8080/"
        },
        "outputId": "3e25d5ac-b262-4fe3-be6f-0ba09416957c"
      },
      "execution_count": 82,
      "outputs": [
        {
          "output_type": "stream",
          "name": "stderr",
          "text": [
            "/usr/local/lib/python3.10/dist-packages/keras/src/engine/training.py:3103: UserWarning: You are saving your model as an HDF5 file via `model.save()`. This file format is considered legacy. We recommend using instead the native Keras format, e.g. `model.save('my_model.keras')`.\n",
            "  saving_api.save_model(\n"
          ]
        }
      ]
    }
  ]
}