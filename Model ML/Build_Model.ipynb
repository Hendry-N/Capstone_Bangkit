{
  "nbformat": 4,
  "nbformat_minor": 0,
  "metadata": {
    "colab": {
      "provenance": [],
      "include_colab_link": true
    },
    "kernelspec": {
      "name": "python3",
      "display_name": "Python 3"
    },
    "language_info": {
      "name": "python"
    }
  },
  "cells": [
    {
      "cell_type": "markdown",
      "metadata": {
        "id": "view-in-github",
        "colab_type": "text"
      },
      "source": [
        "<a href=\"https://colab.research.google.com/github/MuhammadFaturrahmanSaputra/Capstone_Bangkit/blob/main/Model%20ML/Build_Model.ipynb\" target=\"_parent\"><img src=\"https://colab.research.google.com/assets/colab-badge.svg\" alt=\"Open In Colab\"/></a>"
      ]
    },
    {
      "cell_type": "markdown",
      "source": [
        "# **Import Library**\n",
        "\n",
        "---"
      ],
      "metadata": {
        "id": "i81vHlBgPOY3"
      }
    },
    {
      "cell_type": "code",
      "execution_count": 21,
      "metadata": {
        "id": "wSAwrLDjf6jl"
      },
      "outputs": [],
      "source": [
        "import numpy as np\n",
        "import matplotlib.pyplot as plt\n",
        "import pandas as pd\n",
        "import tensorflow as tf\n",
        "import tensorflow_datasets as tfds\n",
        "import seaborn as sns\n",
        "import shutil\n",
        "import os\n",
        "import urllib.request\n",
        "\n",
        "from keras.optimizers import Adam, SGD, RMSprop\n",
        "from keras.models import Sequential\n",
        "from keras.layers import Dense, MaxPooling1D, Flatten, Dropout\n",
        "from sklearn.model_selection import train_test_split\n",
        "from keras.callbacks import EarlyStopping\n",
        "from keras.utils import plot_model\n",
        "from sklearn.preprocessing import LabelEncoder\n",
        "from sklearn.metrics import accuracy_score, classification_report"
      ]
    },
    {
      "cell_type": "markdown",
      "source": [
        "# **Memuat Dataset**\n",
        "\n",
        "---"
      ],
      "metadata": {
        "id": "w0Dqv5TGzxYd"
      }
    },
    {
      "cell_type": "code",
      "source": [
        "# Jalur ke file CSV di Github\n",
        "url = 'https://raw.githubusercontent.com/MuhammadFaturrahmanSaputra/Capstone_Bangkit/main/Dataset/CSV.csv'\n",
        "\n",
        "# Path folder tujuan di Colab\n",
        "folder = '/content/Dataset/'\n",
        "\n",
        "# Buat folder jika tidak ada\n",
        "if not os.path.exists(folder):\n",
        "    os.makedirs(folder)\n",
        "\n",
        "# Unduh file dari Github ke Colab\n",
        "file_name = os.path.join(folder, 'CSV.csv')\n",
        "urllib.request.urlretrieve(url, file_name)\n",
        "\n",
        "# Periksa apakah file berhasil diunduh\n",
        "if os.path.exists(file_name):\n",
        "    print(\"File CSV berhasil diunduh ke folder 'File Csv' di Colab.\")\n",
        "else:\n",
        "    print(\"Gagal mengunduh file CSV.\")"
      ],
      "metadata": {
        "colab": {
          "base_uri": "https://localhost:8080/"
        },
        "id": "AXAGYyHGI3tD",
        "outputId": "e817eac5-e5bc-4699-955c-076c19d61c88"
      },
      "execution_count": 3,
      "outputs": [
        {
          "output_type": "stream",
          "name": "stdout",
          "text": [
            "File CSV berhasil diunduh ke folder 'File Csv' di Colab.\n"
          ]
        }
      ]
    },
    {
      "cell_type": "code",
      "source": [
        "# Membaca file CSV dan membuat DataFrame\n",
        "df = pd.read_csv(url)\n",
        "\n",
        "# Menampilkan beberapa baris dari DataFrame\n",
        "df.head(10)"
      ],
      "metadata": {
        "colab": {
          "base_uri": "https://localhost:8080/",
          "height": 707
        },
        "id": "WneHvwNHX9mF",
        "outputId": "e9ad0867-1cd1-47e1-b8b8-66e6a1cdac5c"
      },
      "execution_count": 4,
      "outputs": [
        {
          "output_type": "execute_result",
          "data": {
            "text/plain": [
              "   Memperbaiki Barang  Merakit Benda  Membongkar-Pasang Barang  \\\n",
              "0                   0              1                         1   \n",
              "1                   1              1                         1   \n",
              "2                   1              1                         0   \n",
              "3                   0              1                         1   \n",
              "4                   0              0                         0   \n",
              "5                   0              0                         0   \n",
              "6                   1              1                         0   \n",
              "7                   0              0                         0   \n",
              "8                   1              0                         1   \n",
              "9                   0              1                         0   \n",
              "\n",
              "   Mengutak-atik Barang  Menganalisis Masalah  Mencari Solusi  Menghitung  \\\n",
              "0                     1                     1               1           0   \n",
              "1                     1                     1               0           1   \n",
              "2                     0                     1               1           0   \n",
              "3                     1                     0               1           1   \n",
              "4                     0                     1               0           0   \n",
              "5                     0                     1               1           0   \n",
              "6                     0                     1               1           1   \n",
              "7                     1                     0               0           0   \n",
              "8                     1                     0               0           1   \n",
              "9                     0                     1               1           1   \n",
              "\n",
              "   Berfikir Logis  Menari  Bermusik  ...  Membantu  Menjual Benda  \\\n",
              "0               1       0         0  ...         1              0   \n",
              "1               1       0         1  ...         1              0   \n",
              "2               1       0         0  ...         1              0   \n",
              "3               1       1         1  ...         1              0   \n",
              "4               0       0         0  ...         1              0   \n",
              "5               1       0         0  ...         1              0   \n",
              "6               1       1         1  ...         1              1   \n",
              "7               1       0         0  ...         0              0   \n",
              "8               1       0         1  ...         1              0   \n",
              "9               1       0         0  ...         1              1   \n",
              "\n",
              "   Mengelola Acara  Memimpin Kelompok  Membujuk Orang  Mengikuti Aturan  \\\n",
              "0                0                  0               0                 1   \n",
              "1                0                  0               0                 1   \n",
              "2                1                  1               1                 1   \n",
              "3                1                  1               1                 1   \n",
              "4                0                  0               0                 1   \n",
              "5                1                  0               0                 1   \n",
              "6                1                  0               1                 1   \n",
              "7                0                  0               0                 0   \n",
              "8                0                  1               1                 1   \n",
              "9                0                  1               0                 1   \n",
              "\n",
              "   Mengurutkan  Membereskan Barang  Menjalankan Rutin  \\\n",
              "0            1                   0                  0   \n",
              "1            1                   1                  0   \n",
              "2            1                   1                  1   \n",
              "3            1                   0                  1   \n",
              "4            1                   1                  1   \n",
              "5            0                   0                  1   \n",
              "6            1                   1                  1   \n",
              "7            1                   0                  0   \n",
              "8            1                   1                  1   \n",
              "9            1                   1                  1   \n",
              "\n",
              "                        Fakultas  \n",
              "0                    Ilmu Teknik  \n",
              "1        Ilmu Ekonomi dan Bisnis  \n",
              "2      Ilmu Sosial dan Humaniora  \n",
              "3  Ilmu Profesi dan Ilmu Terapan  \n",
              "4                      Ilmu Seni  \n",
              "5      Ilmu Sosial dan Humaniora  \n",
              "6                Ilmu Pendidikan  \n",
              "7                    Ilmu Teknik  \n",
              "8    Ilmu Komputer dan Teknologi  \n",
              "9                      Ilmu Seni  \n",
              "\n",
              "[10 rows x 25 columns]"
            ],
            "text/html": [
              "\n",
              "  <div id=\"df-90741c60-c157-4895-a244-910420dd632b\" class=\"colab-df-container\">\n",
              "    <div>\n",
              "<style scoped>\n",
              "    .dataframe tbody tr th:only-of-type {\n",
              "        vertical-align: middle;\n",
              "    }\n",
              "\n",
              "    .dataframe tbody tr th {\n",
              "        vertical-align: top;\n",
              "    }\n",
              "\n",
              "    .dataframe thead th {\n",
              "        text-align: right;\n",
              "    }\n",
              "</style>\n",
              "<table border=\"1\" class=\"dataframe\">\n",
              "  <thead>\n",
              "    <tr style=\"text-align: right;\">\n",
              "      <th></th>\n",
              "      <th>Memperbaiki Barang</th>\n",
              "      <th>Merakit Benda</th>\n",
              "      <th>Membongkar-Pasang Barang</th>\n",
              "      <th>Mengutak-atik Barang</th>\n",
              "      <th>Menganalisis Masalah</th>\n",
              "      <th>Mencari Solusi</th>\n",
              "      <th>Menghitung</th>\n",
              "      <th>Berfikir Logis</th>\n",
              "      <th>Menari</th>\n",
              "      <th>Bermusik</th>\n",
              "      <th>...</th>\n",
              "      <th>Membantu</th>\n",
              "      <th>Menjual Benda</th>\n",
              "      <th>Mengelola Acara</th>\n",
              "      <th>Memimpin Kelompok</th>\n",
              "      <th>Membujuk Orang</th>\n",
              "      <th>Mengikuti Aturan</th>\n",
              "      <th>Mengurutkan</th>\n",
              "      <th>Membereskan Barang</th>\n",
              "      <th>Menjalankan Rutin</th>\n",
              "      <th>Fakultas</th>\n",
              "    </tr>\n",
              "  </thead>\n",
              "  <tbody>\n",
              "    <tr>\n",
              "      <th>0</th>\n",
              "      <td>0</td>\n",
              "      <td>1</td>\n",
              "      <td>1</td>\n",
              "      <td>1</td>\n",
              "      <td>1</td>\n",
              "      <td>1</td>\n",
              "      <td>0</td>\n",
              "      <td>1</td>\n",
              "      <td>0</td>\n",
              "      <td>0</td>\n",
              "      <td>...</td>\n",
              "      <td>1</td>\n",
              "      <td>0</td>\n",
              "      <td>0</td>\n",
              "      <td>0</td>\n",
              "      <td>0</td>\n",
              "      <td>1</td>\n",
              "      <td>1</td>\n",
              "      <td>0</td>\n",
              "      <td>0</td>\n",
              "      <td>Ilmu Teknik</td>\n",
              "    </tr>\n",
              "    <tr>\n",
              "      <th>1</th>\n",
              "      <td>1</td>\n",
              "      <td>1</td>\n",
              "      <td>1</td>\n",
              "      <td>1</td>\n",
              "      <td>1</td>\n",
              "      <td>0</td>\n",
              "      <td>1</td>\n",
              "      <td>1</td>\n",
              "      <td>0</td>\n",
              "      <td>1</td>\n",
              "      <td>...</td>\n",
              "      <td>1</td>\n",
              "      <td>0</td>\n",
              "      <td>0</td>\n",
              "      <td>0</td>\n",
              "      <td>0</td>\n",
              "      <td>1</td>\n",
              "      <td>1</td>\n",
              "      <td>1</td>\n",
              "      <td>0</td>\n",
              "      <td>Ilmu Ekonomi dan Bisnis</td>\n",
              "    </tr>\n",
              "    <tr>\n",
              "      <th>2</th>\n",
              "      <td>1</td>\n",
              "      <td>1</td>\n",
              "      <td>0</td>\n",
              "      <td>0</td>\n",
              "      <td>1</td>\n",
              "      <td>1</td>\n",
              "      <td>0</td>\n",
              "      <td>1</td>\n",
              "      <td>0</td>\n",
              "      <td>0</td>\n",
              "      <td>...</td>\n",
              "      <td>1</td>\n",
              "      <td>0</td>\n",
              "      <td>1</td>\n",
              "      <td>1</td>\n",
              "      <td>1</td>\n",
              "      <td>1</td>\n",
              "      <td>1</td>\n",
              "      <td>1</td>\n",
              "      <td>1</td>\n",
              "      <td>Ilmu Sosial dan Humaniora</td>\n",
              "    </tr>\n",
              "    <tr>\n",
              "      <th>3</th>\n",
              "      <td>0</td>\n",
              "      <td>1</td>\n",
              "      <td>1</td>\n",
              "      <td>1</td>\n",
              "      <td>0</td>\n",
              "      <td>1</td>\n",
              "      <td>1</td>\n",
              "      <td>1</td>\n",
              "      <td>1</td>\n",
              "      <td>1</td>\n",
              "      <td>...</td>\n",
              "      <td>1</td>\n",
              "      <td>0</td>\n",
              "      <td>1</td>\n",
              "      <td>1</td>\n",
              "      <td>1</td>\n",
              "      <td>1</td>\n",
              "      <td>1</td>\n",
              "      <td>0</td>\n",
              "      <td>1</td>\n",
              "      <td>Ilmu Profesi dan Ilmu Terapan</td>\n",
              "    </tr>\n",
              "    <tr>\n",
              "      <th>4</th>\n",
              "      <td>0</td>\n",
              "      <td>0</td>\n",
              "      <td>0</td>\n",
              "      <td>0</td>\n",
              "      <td>1</td>\n",
              "      <td>0</td>\n",
              "      <td>0</td>\n",
              "      <td>0</td>\n",
              "      <td>0</td>\n",
              "      <td>0</td>\n",
              "      <td>...</td>\n",
              "      <td>1</td>\n",
              "      <td>0</td>\n",
              "      <td>0</td>\n",
              "      <td>0</td>\n",
              "      <td>0</td>\n",
              "      <td>1</td>\n",
              "      <td>1</td>\n",
              "      <td>1</td>\n",
              "      <td>1</td>\n",
              "      <td>Ilmu Seni</td>\n",
              "    </tr>\n",
              "    <tr>\n",
              "      <th>5</th>\n",
              "      <td>0</td>\n",
              "      <td>0</td>\n",
              "      <td>0</td>\n",
              "      <td>0</td>\n",
              "      <td>1</td>\n",
              "      <td>1</td>\n",
              "      <td>0</td>\n",
              "      <td>1</td>\n",
              "      <td>0</td>\n",
              "      <td>0</td>\n",
              "      <td>...</td>\n",
              "      <td>1</td>\n",
              "      <td>0</td>\n",
              "      <td>1</td>\n",
              "      <td>0</td>\n",
              "      <td>0</td>\n",
              "      <td>1</td>\n",
              "      <td>0</td>\n",
              "      <td>0</td>\n",
              "      <td>1</td>\n",
              "      <td>Ilmu Sosial dan Humaniora</td>\n",
              "    </tr>\n",
              "    <tr>\n",
              "      <th>6</th>\n",
              "      <td>1</td>\n",
              "      <td>1</td>\n",
              "      <td>0</td>\n",
              "      <td>0</td>\n",
              "      <td>1</td>\n",
              "      <td>1</td>\n",
              "      <td>1</td>\n",
              "      <td>1</td>\n",
              "      <td>1</td>\n",
              "      <td>1</td>\n",
              "      <td>...</td>\n",
              "      <td>1</td>\n",
              "      <td>1</td>\n",
              "      <td>1</td>\n",
              "      <td>0</td>\n",
              "      <td>1</td>\n",
              "      <td>1</td>\n",
              "      <td>1</td>\n",
              "      <td>1</td>\n",
              "      <td>1</td>\n",
              "      <td>Ilmu Pendidikan</td>\n",
              "    </tr>\n",
              "    <tr>\n",
              "      <th>7</th>\n",
              "      <td>0</td>\n",
              "      <td>0</td>\n",
              "      <td>0</td>\n",
              "      <td>1</td>\n",
              "      <td>0</td>\n",
              "      <td>0</td>\n",
              "      <td>0</td>\n",
              "      <td>1</td>\n",
              "      <td>0</td>\n",
              "      <td>0</td>\n",
              "      <td>...</td>\n",
              "      <td>0</td>\n",
              "      <td>0</td>\n",
              "      <td>0</td>\n",
              "      <td>0</td>\n",
              "      <td>0</td>\n",
              "      <td>0</td>\n",
              "      <td>1</td>\n",
              "      <td>0</td>\n",
              "      <td>0</td>\n",
              "      <td>Ilmu Teknik</td>\n",
              "    </tr>\n",
              "    <tr>\n",
              "      <th>8</th>\n",
              "      <td>1</td>\n",
              "      <td>0</td>\n",
              "      <td>1</td>\n",
              "      <td>1</td>\n",
              "      <td>0</td>\n",
              "      <td>0</td>\n",
              "      <td>1</td>\n",
              "      <td>1</td>\n",
              "      <td>0</td>\n",
              "      <td>1</td>\n",
              "      <td>...</td>\n",
              "      <td>1</td>\n",
              "      <td>0</td>\n",
              "      <td>0</td>\n",
              "      <td>1</td>\n",
              "      <td>1</td>\n",
              "      <td>1</td>\n",
              "      <td>1</td>\n",
              "      <td>1</td>\n",
              "      <td>1</td>\n",
              "      <td>Ilmu Komputer dan Teknologi</td>\n",
              "    </tr>\n",
              "    <tr>\n",
              "      <th>9</th>\n",
              "      <td>0</td>\n",
              "      <td>1</td>\n",
              "      <td>0</td>\n",
              "      <td>0</td>\n",
              "      <td>1</td>\n",
              "      <td>1</td>\n",
              "      <td>1</td>\n",
              "      <td>1</td>\n",
              "      <td>0</td>\n",
              "      <td>0</td>\n",
              "      <td>...</td>\n",
              "      <td>1</td>\n",
              "      <td>1</td>\n",
              "      <td>0</td>\n",
              "      <td>1</td>\n",
              "      <td>0</td>\n",
              "      <td>1</td>\n",
              "      <td>1</td>\n",
              "      <td>1</td>\n",
              "      <td>1</td>\n",
              "      <td>Ilmu Seni</td>\n",
              "    </tr>\n",
              "  </tbody>\n",
              "</table>\n",
              "<p>10 rows × 25 columns</p>\n",
              "</div>\n",
              "    <div class=\"colab-df-buttons\">\n",
              "\n",
              "  <div class=\"colab-df-container\">\n",
              "    <button class=\"colab-df-convert\" onclick=\"convertToInteractive('df-90741c60-c157-4895-a244-910420dd632b')\"\n",
              "            title=\"Convert this dataframe to an interactive table.\"\n",
              "            style=\"display:none;\">\n",
              "\n",
              "  <svg xmlns=\"http://www.w3.org/2000/svg\" height=\"24px\" viewBox=\"0 -960 960 960\">\n",
              "    <path d=\"M120-120v-720h720v720H120Zm60-500h600v-160H180v160Zm220 220h160v-160H400v160Zm0 220h160v-160H400v160ZM180-400h160v-160H180v160Zm440 0h160v-160H620v160ZM180-180h160v-160H180v160Zm440 0h160v-160H620v160Z\"/>\n",
              "  </svg>\n",
              "    </button>\n",
              "\n",
              "  <style>\n",
              "    .colab-df-container {\n",
              "      display:flex;\n",
              "      gap: 12px;\n",
              "    }\n",
              "\n",
              "    .colab-df-convert {\n",
              "      background-color: #E8F0FE;\n",
              "      border: none;\n",
              "      border-radius: 50%;\n",
              "      cursor: pointer;\n",
              "      display: none;\n",
              "      fill: #1967D2;\n",
              "      height: 32px;\n",
              "      padding: 0 0 0 0;\n",
              "      width: 32px;\n",
              "    }\n",
              "\n",
              "    .colab-df-convert:hover {\n",
              "      background-color: #E2EBFA;\n",
              "      box-shadow: 0px 1px 2px rgba(60, 64, 67, 0.3), 0px 1px 3px 1px rgba(60, 64, 67, 0.15);\n",
              "      fill: #174EA6;\n",
              "    }\n",
              "\n",
              "    .colab-df-buttons div {\n",
              "      margin-bottom: 4px;\n",
              "    }\n",
              "\n",
              "    [theme=dark] .colab-df-convert {\n",
              "      background-color: #3B4455;\n",
              "      fill: #D2E3FC;\n",
              "    }\n",
              "\n",
              "    [theme=dark] .colab-df-convert:hover {\n",
              "      background-color: #434B5C;\n",
              "      box-shadow: 0px 1px 3px 1px rgba(0, 0, 0, 0.15);\n",
              "      filter: drop-shadow(0px 1px 2px rgba(0, 0, 0, 0.3));\n",
              "      fill: #FFFFFF;\n",
              "    }\n",
              "  </style>\n",
              "\n",
              "    <script>\n",
              "      const buttonEl =\n",
              "        document.querySelector('#df-90741c60-c157-4895-a244-910420dd632b button.colab-df-convert');\n",
              "      buttonEl.style.display =\n",
              "        google.colab.kernel.accessAllowed ? 'block' : 'none';\n",
              "\n",
              "      async function convertToInteractive(key) {\n",
              "        const element = document.querySelector('#df-90741c60-c157-4895-a244-910420dd632b');\n",
              "        const dataTable =\n",
              "          await google.colab.kernel.invokeFunction('convertToInteractive',\n",
              "                                                    [key], {});\n",
              "        if (!dataTable) return;\n",
              "\n",
              "        const docLinkHtml = 'Like what you see? Visit the ' +\n",
              "          '<a target=\"_blank\" href=https://colab.research.google.com/notebooks/data_table.ipynb>data table notebook</a>'\n",
              "          + ' to learn more about interactive tables.';\n",
              "        element.innerHTML = '';\n",
              "        dataTable['output_type'] = 'display_data';\n",
              "        await google.colab.output.renderOutput(dataTable, element);\n",
              "        const docLink = document.createElement('div');\n",
              "        docLink.innerHTML = docLinkHtml;\n",
              "        element.appendChild(docLink);\n",
              "      }\n",
              "    </script>\n",
              "  </div>\n",
              "\n",
              "\n",
              "<div id=\"df-062a800f-f65a-4578-bc94-58d7444216b7\">\n",
              "  <button class=\"colab-df-quickchart\" onclick=\"quickchart('df-062a800f-f65a-4578-bc94-58d7444216b7')\"\n",
              "            title=\"Suggest charts\"\n",
              "            style=\"display:none;\">\n",
              "\n",
              "<svg xmlns=\"http://www.w3.org/2000/svg\" height=\"24px\"viewBox=\"0 0 24 24\"\n",
              "     width=\"24px\">\n",
              "    <g>\n",
              "        <path d=\"M19 3H5c-1.1 0-2 .9-2 2v14c0 1.1.9 2 2 2h14c1.1 0 2-.9 2-2V5c0-1.1-.9-2-2-2zM9 17H7v-7h2v7zm4 0h-2V7h2v10zm4 0h-2v-4h2v4z\"/>\n",
              "    </g>\n",
              "</svg>\n",
              "  </button>\n",
              "\n",
              "<style>\n",
              "  .colab-df-quickchart {\n",
              "      --bg-color: #E8F0FE;\n",
              "      --fill-color: #1967D2;\n",
              "      --hover-bg-color: #E2EBFA;\n",
              "      --hover-fill-color: #174EA6;\n",
              "      --disabled-fill-color: #AAA;\n",
              "      --disabled-bg-color: #DDD;\n",
              "  }\n",
              "\n",
              "  [theme=dark] .colab-df-quickchart {\n",
              "      --bg-color: #3B4455;\n",
              "      --fill-color: #D2E3FC;\n",
              "      --hover-bg-color: #434B5C;\n",
              "      --hover-fill-color: #FFFFFF;\n",
              "      --disabled-bg-color: #3B4455;\n",
              "      --disabled-fill-color: #666;\n",
              "  }\n",
              "\n",
              "  .colab-df-quickchart {\n",
              "    background-color: var(--bg-color);\n",
              "    border: none;\n",
              "    border-radius: 50%;\n",
              "    cursor: pointer;\n",
              "    display: none;\n",
              "    fill: var(--fill-color);\n",
              "    height: 32px;\n",
              "    padding: 0;\n",
              "    width: 32px;\n",
              "  }\n",
              "\n",
              "  .colab-df-quickchart:hover {\n",
              "    background-color: var(--hover-bg-color);\n",
              "    box-shadow: 0 1px 2px rgba(60, 64, 67, 0.3), 0 1px 3px 1px rgba(60, 64, 67, 0.15);\n",
              "    fill: var(--button-hover-fill-color);\n",
              "  }\n",
              "\n",
              "  .colab-df-quickchart-complete:disabled,\n",
              "  .colab-df-quickchart-complete:disabled:hover {\n",
              "    background-color: var(--disabled-bg-color);\n",
              "    fill: var(--disabled-fill-color);\n",
              "    box-shadow: none;\n",
              "  }\n",
              "\n",
              "  .colab-df-spinner {\n",
              "    border: 2px solid var(--fill-color);\n",
              "    border-color: transparent;\n",
              "    border-bottom-color: var(--fill-color);\n",
              "    animation:\n",
              "      spin 1s steps(1) infinite;\n",
              "  }\n",
              "\n",
              "  @keyframes spin {\n",
              "    0% {\n",
              "      border-color: transparent;\n",
              "      border-bottom-color: var(--fill-color);\n",
              "      border-left-color: var(--fill-color);\n",
              "    }\n",
              "    20% {\n",
              "      border-color: transparent;\n",
              "      border-left-color: var(--fill-color);\n",
              "      border-top-color: var(--fill-color);\n",
              "    }\n",
              "    30% {\n",
              "      border-color: transparent;\n",
              "      border-left-color: var(--fill-color);\n",
              "      border-top-color: var(--fill-color);\n",
              "      border-right-color: var(--fill-color);\n",
              "    }\n",
              "    40% {\n",
              "      border-color: transparent;\n",
              "      border-right-color: var(--fill-color);\n",
              "      border-top-color: var(--fill-color);\n",
              "    }\n",
              "    60% {\n",
              "      border-color: transparent;\n",
              "      border-right-color: var(--fill-color);\n",
              "    }\n",
              "    80% {\n",
              "      border-color: transparent;\n",
              "      border-right-color: var(--fill-color);\n",
              "      border-bottom-color: var(--fill-color);\n",
              "    }\n",
              "    90% {\n",
              "      border-color: transparent;\n",
              "      border-bottom-color: var(--fill-color);\n",
              "    }\n",
              "  }\n",
              "</style>\n",
              "\n",
              "  <script>\n",
              "    async function quickchart(key) {\n",
              "      const quickchartButtonEl =\n",
              "        document.querySelector('#' + key + ' button');\n",
              "      quickchartButtonEl.disabled = true;  // To prevent multiple clicks.\n",
              "      quickchartButtonEl.classList.add('colab-df-spinner');\n",
              "      try {\n",
              "        const charts = await google.colab.kernel.invokeFunction(\n",
              "            'suggestCharts', [key], {});\n",
              "      } catch (error) {\n",
              "        console.error('Error during call to suggestCharts:', error);\n",
              "      }\n",
              "      quickchartButtonEl.classList.remove('colab-df-spinner');\n",
              "      quickchartButtonEl.classList.add('colab-df-quickchart-complete');\n",
              "    }\n",
              "    (() => {\n",
              "      let quickchartButtonEl =\n",
              "        document.querySelector('#df-062a800f-f65a-4578-bc94-58d7444216b7 button');\n",
              "      quickchartButtonEl.style.display =\n",
              "        google.colab.kernel.accessAllowed ? 'block' : 'none';\n",
              "    })();\n",
              "  </script>\n",
              "</div>\n",
              "    </div>\n",
              "  </div>\n"
            ]
          },
          "metadata": {},
          "execution_count": 4
        }
      ]
    },
    {
      "cell_type": "code",
      "source": [
        "# Periksa jumlah data\n",
        "print(f\"Jumlah data: {len(df)}\")\n",
        "print(f\"Jumlah kolom: {len(df.columns)}\")"
      ],
      "metadata": {
        "colab": {
          "base_uri": "https://localhost:8080/"
        },
        "id": "lLljFE61UWRQ",
        "outputId": "7992ea07-42e5-4dad-b4e7-d1176160afc1"
      },
      "execution_count": 5,
      "outputs": [
        {
          "output_type": "stream",
          "name": "stdout",
          "text": [
            "Jumlah data: 600\n",
            "Jumlah kolom: 25\n"
          ]
        }
      ]
    },
    {
      "cell_type": "code",
      "source": [
        "# Menghitung jumlah data untuk setiap kategori fakultas\n",
        "kategori = df['Fakultas'].value_counts()\n",
        "kategori"
      ],
      "metadata": {
        "colab": {
          "base_uri": "https://localhost:8080/"
        },
        "id": "mu0T6XQRUuj6",
        "outputId": "07a48647-4c5e-4012-8fae-2ac1f5440003"
      },
      "execution_count": 6,
      "outputs": [
        {
          "output_type": "execute_result",
          "data": {
            "text/plain": [
              "Ilmu Teknik                       50\n",
              "Ilmu Ekonomi dan Bisnis           50\n",
              "Ilmu Sosial dan Humaniora         50\n",
              "Ilmu Profesi dan Ilmu Terapan     50\n",
              "Ilmu Seni                         50\n",
              "Ilmu Pendidikan                   50\n",
              "Ilmu Komputer dan Teknologi       50\n",
              "Ilmu Matematika dan IPA (MIPA)    50\n",
              "Ilmu Sastra dan Budaya            50\n",
              "Ilmu Kesehatan                    50\n",
              "Ilmu Olahraga                     50\n",
              "Ilmu Pertanian                    50\n",
              "Name: Fakultas, dtype: int64"
            ]
          },
          "metadata": {},
          "execution_count": 6
        }
      ]
    },
    {
      "cell_type": "markdown",
      "source": [
        "# **Visualisasi Data**\n",
        "\n",
        "---"
      ],
      "metadata": {
        "id": "0i7xnUM8FQH7"
      }
    },
    {
      "cell_type": "code",
      "source": [
        "# Membuat bar plot menggunakan Seaborn\n",
        "plt.figure(figsize=(10, 6))\n",
        "bar_plot=sns.barplot(x=kategori.index, y=kategori.values, data=df, palette=\"Set2\")\n",
        "plt.title('Jumlah Data per Kategori Fakultas', fontweight='bold')\n",
        "plt.xlabel('\\nFakultas')\n",
        "plt.ylabel('Jumlah Data')\n",
        "plt.xticks(rotation=90)\n",
        "plt.ylim(0,100)\n",
        "for index, value in enumerate(kategori):\n",
        "    bar_plot.text(index, value + 1, str(value), ha='center', va='bottom', fontsize=8)\n",
        "plt.tight_layout()\n",
        "plt.show()"
      ],
      "metadata": {
        "colab": {
          "base_uri": "https://localhost:8080/",
          "height": 607
        },
        "id": "kLucFrg0N3uu",
        "outputId": "afb9f06e-aeab-4f6b-c0dc-2495b152811a"
      },
      "execution_count": 7,
      "outputs": [
        {
          "output_type": "display_data",
          "data": {
            "text/plain": [
              "<Figure size 1000x600 with 1 Axes>"
            ],
            "image/png": "[encoded data removed]"
          },
          "metadata": {}
        }
      ]
    },
    {
      "cell_type": "markdown",
      "source": [
        "# **Konversi Tipe Data**\n",
        "\n",
        "---"
      ],
      "metadata": {
        "id": "jNFgzsp_fmyP"
      }
    },
    {
      "cell_type": "code",
      "source": [
        "# Mengubah tipe data kolom fitur menjadi boolean\n",
        "konversi_bool = ['Memperbaiki Barang', 'Merakit Benda', 'Membongkar-Pasang Barang', 'Mengutak-atik Barang', 'Menganalisis Masalah',\n",
        "               'Mencari Solusi', 'Menghitung', 'Berfikir Logis', 'Menari', 'Bermusik', 'Menggambar', 'Menulis Cerita', 'Mengajar',\n",
        "               'Memberi Saran', 'Memahami Orang Lain', 'Membantu', 'Menjual Benda', 'Mengelola Acara', 'Memimpin Kelompok',\n",
        "               'Membujuk Orang', 'Mengikuti Aturan', 'Mengurutkan', 'Membereskan Barang', 'Menjalankan Rutin']\n",
        "\n",
        "for kolom in konversi_bool:\n",
        "    df[kolom] = df[kolom].astype(bool)"
      ],
      "metadata": {
        "id": "llhEQmUrqEUP"
      },
      "execution_count": 8,
      "outputs": []
    },
    {
      "cell_type": "code",
      "source": [
        "df.info()"
      ],
      "metadata": {
        "id": "Ho30TWiEsfoF",
        "colab": {
          "base_uri": "https://localhost:8080/"
        },
        "outputId": "6b097ded-f55e-4df3-aac8-747645608c56"
      },
      "execution_count": 9,
      "outputs": [
        {
          "output_type": "stream",
          "name": "stdout",
          "text": [
            "<class 'pandas.core.frame.DataFrame'>\n",
            "RangeIndex: 600 entries, 0 to 599\n",
            "Data columns (total 25 columns):\n",
            " #   Column                    Non-Null Count  Dtype \n",
            "---  ------                    --------------  ----- \n",
            " 0   Memperbaiki Barang        600 non-null    bool  \n",
            " 1   Merakit Benda             600 non-null    bool  \n",
            " 2   Membongkar-Pasang Barang  600 non-null    bool  \n",
            " 3   Mengutak-atik Barang      600 non-null    bool  \n",
            " 4   Menganalisis Masalah      600 non-null    bool  \n",
            " 5   Mencari Solusi            600 non-null    bool  \n",
            " 6   Menghitung                600 non-null    bool  \n",
            " 7   Berfikir Logis            600 non-null    bool  \n",
            " 8   Menari                    600 non-null    bool  \n",
            " 9   Bermusik                  600 non-null    bool  \n",
            " 10  Menggambar                600 non-null    bool  \n",
            " 11  Menulis Cerita            600 non-null    bool  \n",
            " 12  Mengajar                  600 non-null    bool  \n",
            " 13  Memberi Saran             600 non-null    bool  \n",
            " 14  Memahami Orang Lain       600 non-null    bool  \n",
            " 15  Membantu                  600 non-null    bool  \n",
            " 16  Menjual Benda             600 non-null    bool  \n",
            " 17  Mengelola Acara           600 non-null    bool  \n",
            " 18  Memimpin Kelompok         600 non-null    bool  \n",
            " 19  Membujuk Orang            600 non-null    bool  \n",
            " 20  Mengikuti Aturan          600 non-null    bool  \n",
            " 21  Mengurutkan               600 non-null    bool  \n",
            " 22  Membereskan Barang        600 non-null    bool  \n",
            " 23  Menjalankan Rutin         600 non-null    bool  \n",
            " 24  Fakultas                  600 non-null    object\n",
            "dtypes: bool(24), object(1)\n",
            "memory usage: 18.9+ KB\n"
          ]
        }
      ]
    },
    {
      "cell_type": "markdown",
      "source": [
        "# **Memisahkan Fitur dan Label**\n",
        "\n",
        "---"
      ],
      "metadata": {
        "id": "KUUeGrbuLC9H"
      }
    },
    {
      "cell_type": "markdown",
      "source": [
        "Memisahkan kolom yang menjadi 2 variabel yaitu Fakultas sebagai (**labels**) dan Minat, Bakat, dan Aspirasi peserta didik sebagai (**features**)"
      ],
      "metadata": {
        "id": "zloBczvDmYCG"
      }
    },
    {
      "cell_type": "markdown",
      "source": [
        "## FATUR"
      ],
      "metadata": {
        "id": "mGevYRHL0f3S"
      }
    },
    {
      "cell_type": "code",
      "source": [
        "# Memisahkan fitur dan label\n",
        "features = df.iloc[:, :-1]  # Mengambil semua kolom kecuali kolom terakhir\n",
        "labels = df.iloc[:, -1]     # Mengambil kolom terakhir sebagai label\n",
        "\n",
        "print(features.shape)\n",
        "print(labels.shape)"
      ],
      "metadata": {
        "id": "bHiyoKFR0jpx",
        "colab": {
          "base_uri": "https://localhost:8080/"
        },
        "outputId": "febcbf3e-bea7-4a11-aa5a-da4a9c13fb4f"
      },
      "execution_count": 10,
      "outputs": [
        {
          "output_type": "stream",
          "name": "stdout",
          "text": [
            "(600, 24)\n",
            "(600,)\n"
          ]
        }
      ]
    },
    {
      "cell_type": "markdown",
      "source": [
        "# **Data Preprocessing**\n",
        "\n",
        "---\n",
        "\n"
      ],
      "metadata": {
        "id": "1eyfugDpBRhH"
      }
    },
    {
      "cell_type": "markdown",
      "source": [
        "## FATUR"
      ],
      "metadata": {
        "id": "wE13QxKmzKDq"
      }
    },
    {
      "cell_type": "code",
      "source": [
        "# Konversi label kategorikal menjadi one-hot encoding\n",
        "labels_one_hot = pd.get_dummies(labels)\n",
        "\n",
        "# # Mencetak lima baris pertama dari DataFrame yang sudah diubah menjadi one-hot encoding\n",
        "print(labels_one_hot.head())\n",
        "\n",
        "# Memisahkan data menjadi data training dan data validation\n",
        "train_features, test_features, train_labels, test_labels = train_test_split(features,\n",
        "                                                                            labels_one_hot,\n",
        "                                                                            test_size=0.2,\n",
        "                                                                            random_state=42)\n",
        "\n",
        "print(\"\\ntrain_features: \", len(train_features))\n",
        "print(\"train_labels: \", len(train_labels))\n",
        "print(\"test_features: \", len(test_features))\n",
        "print(\"test_labels: \", len(test_labels))\n",
        "\n",
        "# Konversi DataFrame Pandas menjadi array NumPy\n",
        "train_features = np.array(train_features)\n",
        "test_features = np.array(test_features)\n",
        "train_labels = np.array(train_labels)\n",
        "test_labels = np.array(test_labels)\n",
        "\n",
        "# Normalisasi fitur\n",
        "train_features = tf.keras.utils.normalize(train_features, axis=1)\n",
        "test_features = tf.keras.utils.normalize(test_features, axis=1)"
      ],
      "metadata": {
        "id": "_wJUAzTwirnu",
        "colab": {
          "base_uri": "https://localhost:8080/"
        },
        "outputId": "ada80ed2-9b39-41e4-dbd4-ebbe636b8d75"
      },
      "execution_count": 11,
      "outputs": [
        {
          "output_type": "stream",
          "name": "stdout",
          "text": [
            "   Ilmu Ekonomi dan Bisnis  Ilmu Kesehatan  Ilmu Komputer dan Teknologi  \\\n",
            "0                        0               0                            0   \n",
            "1                        1               0                            0   \n",
            "2                        0               0                            0   \n",
            "3                        0               0                            0   \n",
            "4                        0               0                            0   \n",
            "\n",
            "   Ilmu Matematika dan IPA (MIPA)  Ilmu Olahraga  Ilmu Pendidikan  \\\n",
            "0                               0              0                0   \n",
            "1                               0              0                0   \n",
            "2                               0              0                0   \n",
            "3                               0              0                0   \n",
            "4                               0              0                0   \n",
            "\n",
            "   Ilmu Pertanian  Ilmu Profesi dan Ilmu Terapan  Ilmu Sastra dan Budaya  \\\n",
            "0               0                              0                       0   \n",
            "1               0                              0                       0   \n",
            "2               0                              0                       0   \n",
            "3               0                              1                       0   \n",
            "4               0                              0                       0   \n",
            "\n",
            "   Ilmu Seni  Ilmu Sosial dan Humaniora  Ilmu Teknik  \n",
            "0          0                          0            1  \n",
            "1          0                          0            0  \n",
            "2          0                          1            0  \n",
            "3          0                          0            0  \n",
            "4          1                          0            0  \n",
            "\n",
            "train_features:  480\n",
            "train_labels:  480\n",
            "test_features:  120\n",
            "test_labels:  120\n"
          ]
        }
      ]
    },
    {
      "cell_type": "markdown",
      "source": [
        "# **Membangun Model**\n",
        "\n",
        "---"
      ],
      "metadata": {
        "id": "GnTtadV9S5wJ"
      }
    },
    {
      "cell_type": "code",
      "source": [
        "# model ini blm komplit jdi silahkan research kita pake layer brp, dan layer yg terakhir jgn di ganti\n",
        "model = Sequential([\n",
        "    Dense(units=64, activation='relu'),\n",
        "    Dropout(0.5),\n",
        "    Dense(units=64, activation='relu'),\n",
        "    Dropout(0.2),\n",
        "    Dense(units=32, activation='relu'),\n",
        "    Dropout(0.05),\n",
        "    Dense(units=16, activation='relu'),\n",
        "    Flatten(),\n",
        "    Dense(len(labels_one_hot.columns), activation=\"softmax\")\n",
        "])"
      ],
      "metadata": {
        "id": "5CRNHa3hTCOP"
      },
      "execution_count": 12,
      "outputs": []
    },
    {
      "cell_type": "markdown",
      "source": [
        "# **Buat Class Callbacks**\n",
        "\n",
        "---"
      ],
      "metadata": {
        "id": "uUwhUX7p6ChH"
      }
    },
    {
      "cell_type": "markdown",
      "source": [
        "Early stopping membantu mencegah overfitting dan menghasilkan model yang lebih baik dalam melakukan prediksi pada data baru yang belum pernah dilihat sebelumnya."
      ],
      "metadata": {
        "id": "ptPb5tI08ohe"
      }
    },
    {
      "cell_type": "code",
      "source": [
        "early_stopping = EarlyStopping(monitor='accuracy',\n",
        "                               patience=35,\n",
        "                               restore_best_weights=True)"
      ],
      "metadata": {
        "id": "yNzyAqRD8szF"
      },
      "execution_count": 13,
      "outputs": []
    },
    {
      "cell_type": "markdown",
      "source": [
        "# **Compile dan Melatih Model**\n",
        "\n",
        "\n",
        "\n",
        "\n",
        "---"
      ],
      "metadata": {
        "id": "GVAtRkjuTGqG"
      }
    },
    {
      "cell_type": "code",
      "source": [
        "model.compile(optimizer=Adam(learning_rate=0.001),\n",
        "              loss=\"categorical_crossentropy\",\n",
        "              metrics=[\"accuracy\"])\n",
        "\n",
        "history = model.fit(train_features,\n",
        "                    train_labels,\n",
        "                    validation_data=(test_features, test_labels),\n",
        "                    epochs=500,\n",
        "                    verbose=1,\n",
        "                    callbacks=[early_stopping])"
      ],
      "metadata": {
        "id": "KszBUz79TOQ_",
        "colab": {
          "base_uri": "https://localhost:8080/"
        },
        "outputId": "624b0d58-103f-463a-aae6-5afb14dcf2be"
      },
      "execution_count": 14,
      "outputs": [
        {
          "output_type": "stream",
          "name": "stdout",
          "text": [
            "Epoch 1/500\n",
            "15/15 [==============================] - 2s 23ms/step - loss: 2.4799 - accuracy: 0.0562 - val_loss: 2.4689 - val_accuracy: 0.1083\n",
            "Epoch 2/500\n",
            "15/15 [==============================] - 0s 4ms/step - loss: 2.4615 - accuracy: 0.1104 - val_loss: 2.4527 - val_accuracy: 0.1333\n",
            "Epoch 3/500\n",
            "15/15 [==============================] - 0s 4ms/step - loss: 2.4370 - accuracy: 0.1104 - val_loss: 2.4172 - val_accuracy: 0.1500\n",
            "Epoch 4/500\n",
            "15/15 [==============================] - 0s 4ms/step - loss: 2.3946 - accuracy: 0.1562 - val_loss: 2.3685 - val_accuracy: 0.1750\n",
            "Epoch 5/500\n",
            "15/15 [==============================] - 0s 5ms/step - loss: 2.3194 - accuracy: 0.1708 - val_loss: 2.2869 - val_accuracy: 0.1667\n",
            "Epoch 6/500\n",
            "15/15 [==============================] - 0s 5ms/step - loss: 2.2247 - accuracy: 0.2000 - val_loss: 2.1747 - val_accuracy: 0.1750\n",
            "Epoch 7/500\n",
            "15/15 [==============================] - 0s 6ms/step - loss: 2.1163 - accuracy: 0.2104 - val_loss: 2.0575 - val_accuracy: 0.1917\n",
            "Epoch 8/500\n",
            "15/15 [==============================] - 0s 6ms/step - loss: 1.9900 - accuracy: 0.2333 - val_loss: 1.9318 - val_accuracy: 0.3250\n",
            "Epoch 9/500\n",
            "15/15 [==============================] - 0s 4ms/step - loss: 1.8407 - accuracy: 0.3063 - val_loss: 1.8246 - val_accuracy: 0.3667\n",
            "Epoch 10/500\n",
            "15/15 [==============================] - 0s 4ms/step - loss: 1.7675 - accuracy: 0.3708 - val_loss: 1.6831 - val_accuracy: 0.4500\n",
            "Epoch 11/500\n",
            "15/15 [==============================] - 0s 6ms/step - loss: 1.6500 - accuracy: 0.4208 - val_loss: 1.5622 - val_accuracy: 0.5917\n",
            "Epoch 12/500\n",
            "15/15 [==============================] - 0s 4ms/step - loss: 1.5471 - accuracy: 0.4979 - val_loss: 1.4433 - val_accuracy: 0.5917\n",
            "Epoch 13/500\n",
            "15/15 [==============================] - 0s 4ms/step - loss: 1.4250 - accuracy: 0.4958 - val_loss: 1.3267 - val_accuracy: 0.6250\n",
            "Epoch 14/500\n",
            "15/15 [==============================] - 0s 5ms/step - loss: 1.3639 - accuracy: 0.5604 - val_loss: 1.1833 - val_accuracy: 0.7167\n",
            "Epoch 15/500\n",
            "15/15 [==============================] - 0s 5ms/step - loss: 1.3049 - accuracy: 0.5833 - val_loss: 1.1108 - val_accuracy: 0.7417\n",
            "Epoch 16/500\n",
            "15/15 [==============================] - 0s 5ms/step - loss: 1.1665 - accuracy: 0.6458 - val_loss: 1.0202 - val_accuracy: 0.7417\n",
            "Epoch 17/500\n",
            "15/15 [==============================] - 0s 5ms/step - loss: 1.1549 - accuracy: 0.6333 - val_loss: 0.9947 - val_accuracy: 0.7250\n",
            "Epoch 18/500\n",
            "15/15 [==============================] - 0s 10ms/step - loss: 1.1027 - accuracy: 0.6271 - val_loss: 0.9192 - val_accuracy: 0.7417\n",
            "Epoch 19/500\n",
            "15/15 [==============================] - 0s 10ms/step - loss: 1.0367 - accuracy: 0.6521 - val_loss: 0.8845 - val_accuracy: 0.7583\n",
            "Epoch 20/500\n",
            "15/15 [==============================] - 0s 10ms/step - loss: 0.9795 - accuracy: 0.6958 - val_loss: 0.8434 - val_accuracy: 0.7667\n",
            "Epoch 21/500\n",
            "15/15 [==============================] - 0s 16ms/step - loss: 1.0611 - accuracy: 0.6333 - val_loss: 0.8369 - val_accuracy: 0.7333\n",
            "Epoch 22/500\n",
            "15/15 [==============================] - 0s 11ms/step - loss: 0.9105 - accuracy: 0.7292 - val_loss: 0.8242 - val_accuracy: 0.7750\n",
            "Epoch 23/500\n",
            "15/15 [==============================] - 0s 8ms/step - loss: 0.8977 - accuracy: 0.6917 - val_loss: 0.8232 - val_accuracy: 0.7333\n",
            "Epoch 24/500\n",
            "15/15 [==============================] - 0s 8ms/step - loss: 0.8949 - accuracy: 0.6938 - val_loss: 0.7770 - val_accuracy: 0.7750\n",
            "Epoch 25/500\n",
            "15/15 [==============================] - 0s 22ms/step - loss: 0.8670 - accuracy: 0.7375 - val_loss: 0.7857 - val_accuracy: 0.7500\n",
            "Epoch 26/500\n",
            "15/15 [==============================] - 0s 11ms/step - loss: 0.8726 - accuracy: 0.7167 - val_loss: 0.7570 - val_accuracy: 0.7750\n",
            "Epoch 27/500\n",
            "15/15 [==============================] - 0s 7ms/step - loss: 0.8044 - accuracy: 0.7333 - val_loss: 0.7605 - val_accuracy: 0.7333\n",
            "Epoch 28/500\n",
            "15/15 [==============================] - 0s 5ms/step - loss: 0.8429 - accuracy: 0.7083 - val_loss: 0.7564 - val_accuracy: 0.7583\n",
            "Epoch 29/500\n",
            "15/15 [==============================] - 0s 5ms/step - loss: 0.8085 - accuracy: 0.7250 - val_loss: 0.7338 - val_accuracy: 0.7750\n",
            "Epoch 30/500\n",
            "15/15 [==============================] - 0s 5ms/step - loss: 0.7800 - accuracy: 0.7375 - val_loss: 0.7255 - val_accuracy: 0.7917\n",
            "Epoch 31/500\n",
            "15/15 [==============================] - 0s 6ms/step - loss: 0.7631 - accuracy: 0.7396 - val_loss: 0.7339 - val_accuracy: 0.7417\n",
            "Epoch 32/500\n",
            "15/15 [==============================] - 0s 6ms/step - loss: 0.7748 - accuracy: 0.7229 - val_loss: 0.7091 - val_accuracy: 0.7750\n",
            "Epoch 33/500\n",
            "15/15 [==============================] - 0s 6ms/step - loss: 0.7145 - accuracy: 0.7812 - val_loss: 0.7014 - val_accuracy: 0.7833\n",
            "Epoch 34/500\n",
            "15/15 [==============================] - 0s 4ms/step - loss: 0.7378 - accuracy: 0.7604 - val_loss: 0.6984 - val_accuracy: 0.7750\n",
            "Epoch 35/500\n",
            "15/15 [==============================] - 0s 4ms/step - loss: 0.7431 - accuracy: 0.7542 - val_loss: 0.6874 - val_accuracy: 0.8167\n",
            "Epoch 36/500\n",
            "15/15 [==============================] - 0s 4ms/step - loss: 0.7334 - accuracy: 0.7437 - val_loss: 0.6736 - val_accuracy: 0.8000\n",
            "Epoch 37/500\n",
            "15/15 [==============================] - 0s 5ms/step - loss: 0.8015 - accuracy: 0.7458 - val_loss: 0.7031 - val_accuracy: 0.7917\n",
            "Epoch 38/500\n",
            "15/15 [==============================] - 0s 5ms/step - loss: 0.7037 - accuracy: 0.7563 - val_loss: 0.6794 - val_accuracy: 0.8167\n",
            "Epoch 39/500\n",
            "15/15 [==============================] - 0s 5ms/step - loss: 0.7075 - accuracy: 0.7625 - val_loss: 0.6784 - val_accuracy: 0.8083\n",
            "Epoch 40/500\n",
            "15/15 [==============================] - 0s 5ms/step - loss: 0.7076 - accuracy: 0.7625 - val_loss: 0.6683 - val_accuracy: 0.8083\n",
            "Epoch 41/500\n",
            "15/15 [==============================] - 0s 5ms/step - loss: 0.6892 - accuracy: 0.7583 - val_loss: 0.6838 - val_accuracy: 0.8000\n",
            "Epoch 42/500\n",
            "15/15 [==============================] - 0s 5ms/step - loss: 0.7052 - accuracy: 0.7604 - val_loss: 0.6697 - val_accuracy: 0.8083\n",
            "Epoch 43/500\n",
            "15/15 [==============================] - 0s 5ms/step - loss: 0.6420 - accuracy: 0.7896 - val_loss: 0.6471 - val_accuracy: 0.8083\n",
            "Epoch 44/500\n",
            "15/15 [==============================] - 0s 5ms/step - loss: 0.6710 - accuracy: 0.7812 - val_loss: 0.6575 - val_accuracy: 0.8083\n",
            "Epoch 45/500\n",
            "15/15 [==============================] - 0s 5ms/step - loss: 0.6739 - accuracy: 0.7812 - val_loss: 0.6715 - val_accuracy: 0.8000\n",
            "Epoch 46/500\n",
            "15/15 [==============================] - 0s 5ms/step - loss: 0.6405 - accuracy: 0.7792 - val_loss: 0.6476 - val_accuracy: 0.7917\n",
            "Epoch 47/500\n",
            "15/15 [==============================] - 0s 6ms/step - loss: 0.6431 - accuracy: 0.7896 - val_loss: 0.6511 - val_accuracy: 0.8250\n",
            "Epoch 48/500\n",
            "15/15 [==============================] - 0s 4ms/step - loss: 0.6342 - accuracy: 0.7896 - val_loss: 0.6379 - val_accuracy: 0.8250\n",
            "Epoch 49/500\n",
            "15/15 [==============================] - 0s 5ms/step - loss: 0.6155 - accuracy: 0.7729 - val_loss: 0.6394 - val_accuracy: 0.8000\n",
            "Epoch 50/500\n",
            "15/15 [==============================] - 0s 5ms/step - loss: 0.6498 - accuracy: 0.7625 - val_loss: 0.6346 - val_accuracy: 0.8083\n",
            "Epoch 51/500\n",
            "15/15 [==============================] - 0s 6ms/step - loss: 0.6266 - accuracy: 0.7750 - val_loss: 0.6387 - val_accuracy: 0.8250\n",
            "Epoch 52/500\n",
            "15/15 [==============================] - 0s 5ms/step - loss: 0.6216 - accuracy: 0.7958 - val_loss: 0.6509 - val_accuracy: 0.8167\n",
            "Epoch 53/500\n",
            "15/15 [==============================] - 0s 4ms/step - loss: 0.6236 - accuracy: 0.7729 - val_loss: 0.6338 - val_accuracy: 0.8083\n",
            "Epoch 54/500\n",
            "15/15 [==============================] - 0s 5ms/step - loss: 0.6530 - accuracy: 0.7688 - val_loss: 0.6339 - val_accuracy: 0.8083\n",
            "Epoch 55/500\n",
            "15/15 [==============================] - 0s 5ms/step - loss: 0.6064 - accuracy: 0.7917 - val_loss: 0.6311 - val_accuracy: 0.8333\n",
            "Epoch 56/500\n",
            "15/15 [==============================] - 0s 5ms/step - loss: 0.6359 - accuracy: 0.7792 - val_loss: 0.6409 - val_accuracy: 0.8167\n",
            "Epoch 57/500\n",
            "15/15 [==============================] - 0s 5ms/step - loss: 0.6076 - accuracy: 0.7896 - val_loss: 0.6432 - val_accuracy: 0.8167\n",
            "Epoch 58/500\n",
            "15/15 [==============================] - 0s 5ms/step - loss: 0.5996 - accuracy: 0.7875 - val_loss: 0.6502 - val_accuracy: 0.8167\n",
            "Epoch 59/500\n",
            "15/15 [==============================] - 0s 6ms/step - loss: 0.5926 - accuracy: 0.7812 - val_loss: 0.6479 - val_accuracy: 0.8083\n",
            "Epoch 60/500\n",
            "15/15 [==============================] - 0s 5ms/step - loss: 0.5421 - accuracy: 0.8125 - val_loss: 0.6331 - val_accuracy: 0.8250\n",
            "Epoch 61/500\n",
            "15/15 [==============================] - 0s 5ms/step - loss: 0.5818 - accuracy: 0.7937 - val_loss: 0.6234 - val_accuracy: 0.8333\n",
            "Epoch 62/500\n",
            "15/15 [==============================] - 0s 5ms/step - loss: 0.5839 - accuracy: 0.8062 - val_loss: 0.6209 - val_accuracy: 0.8250\n",
            "Epoch 63/500\n",
            "15/15 [==============================] - 0s 6ms/step - loss: 0.5695 - accuracy: 0.7896 - val_loss: 0.6239 - val_accuracy: 0.8250\n",
            "Epoch 64/500\n",
            "15/15 [==============================] - 0s 4ms/step - loss: 0.5932 - accuracy: 0.7792 - val_loss: 0.6347 - val_accuracy: 0.8250\n",
            "Epoch 65/500\n",
            "15/15 [==============================] - 0s 5ms/step - loss: 0.6413 - accuracy: 0.7812 - val_loss: 0.6266 - val_accuracy: 0.8250\n",
            "Epoch 66/500\n",
            "15/15 [==============================] - 0s 4ms/step - loss: 0.5343 - accuracy: 0.8062 - val_loss: 0.6250 - val_accuracy: 0.8333\n",
            "Epoch 67/500\n",
            "15/15 [==============================] - 0s 4ms/step - loss: 0.5858 - accuracy: 0.7812 - val_loss: 0.6121 - val_accuracy: 0.8333\n",
            "Epoch 68/500\n",
            "15/15 [==============================] - 0s 4ms/step - loss: 0.5340 - accuracy: 0.8313 - val_loss: 0.6433 - val_accuracy: 0.8083\n",
            "Epoch 69/500\n",
            "15/15 [==============================] - 0s 6ms/step - loss: 0.5538 - accuracy: 0.7979 - val_loss: 0.6256 - val_accuracy: 0.8250\n",
            "Epoch 70/500\n",
            "15/15 [==============================] - 0s 6ms/step - loss: 0.5440 - accuracy: 0.8062 - val_loss: 0.6157 - val_accuracy: 0.8417\n",
            "Epoch 71/500\n",
            "15/15 [==============================] - 0s 5ms/step - loss: 0.5471 - accuracy: 0.8167 - val_loss: 0.6433 - val_accuracy: 0.8250\n",
            "Epoch 72/500\n",
            "15/15 [==============================] - 0s 5ms/step - loss: 0.5742 - accuracy: 0.7896 - val_loss: 0.6034 - val_accuracy: 0.8333\n",
            "Epoch 73/500\n",
            "15/15 [==============================] - 0s 5ms/step - loss: 0.5584 - accuracy: 0.8125 - val_loss: 0.6117 - val_accuracy: 0.8250\n",
            "Epoch 74/500\n",
            "15/15 [==============================] - 0s 5ms/step - loss: 0.5295 - accuracy: 0.8083 - val_loss: 0.6200 - val_accuracy: 0.8250\n",
            "Epoch 75/500\n",
            "15/15 [==============================] - 0s 4ms/step - loss: 0.5147 - accuracy: 0.8208 - val_loss: 0.6263 - val_accuracy: 0.8250\n",
            "Epoch 76/500\n",
            "15/15 [==============================] - 0s 5ms/step - loss: 0.5330 - accuracy: 0.8146 - val_loss: 0.6203 - val_accuracy: 0.8333\n",
            "Epoch 77/500\n",
            "15/15 [==============================] - 0s 5ms/step - loss: 0.5572 - accuracy: 0.8062 - val_loss: 0.6171 - val_accuracy: 0.8333\n",
            "Epoch 78/500\n",
            "15/15 [==============================] - 0s 5ms/step - loss: 0.5747 - accuracy: 0.7917 - val_loss: 0.6285 - val_accuracy: 0.8333\n",
            "Epoch 79/500\n",
            "15/15 [==============================] - 0s 4ms/step - loss: 0.5339 - accuracy: 0.8208 - val_loss: 0.6191 - val_accuracy: 0.8333\n",
            "Epoch 80/500\n",
            "15/15 [==============================] - 0s 5ms/step - loss: 0.5225 - accuracy: 0.7979 - val_loss: 0.6274 - val_accuracy: 0.8333\n",
            "Epoch 81/500\n",
            "15/15 [==============================] - 0s 4ms/step - loss: 0.5034 - accuracy: 0.8208 - val_loss: 0.6333 - val_accuracy: 0.8333\n",
            "Epoch 82/500\n",
            "15/15 [==============================] - 0s 6ms/step - loss: 0.4932 - accuracy: 0.8333 - val_loss: 0.6289 - val_accuracy: 0.8250\n",
            "Epoch 83/500\n",
            "15/15 [==============================] - 0s 5ms/step - loss: 0.5345 - accuracy: 0.8083 - val_loss: 0.6387 - val_accuracy: 0.8333\n",
            "Epoch 84/500\n",
            "15/15 [==============================] - 0s 5ms/step - loss: 0.5303 - accuracy: 0.8083 - val_loss: 0.6345 - val_accuracy: 0.8250\n",
            "Epoch 85/500\n",
            "15/15 [==============================] - 0s 5ms/step - loss: 0.4927 - accuracy: 0.8292 - val_loss: 0.6384 - val_accuracy: 0.8167\n",
            "Epoch 86/500\n",
            "15/15 [==============================] - 0s 5ms/step - loss: 0.4973 - accuracy: 0.7979 - val_loss: 0.6277 - val_accuracy: 0.8250\n",
            "Epoch 87/500\n",
            "15/15 [==============================] - 0s 5ms/step - loss: 0.5180 - accuracy: 0.8229 - val_loss: 0.6332 - val_accuracy: 0.8333\n",
            "Epoch 88/500\n",
            "15/15 [==============================] - 0s 5ms/step - loss: 0.5039 - accuracy: 0.8250 - val_loss: 0.6264 - val_accuracy: 0.8333\n",
            "Epoch 89/500\n",
            "15/15 [==============================] - 0s 4ms/step - loss: 0.4627 - accuracy: 0.8417 - val_loss: 0.6203 - val_accuracy: 0.8333\n",
            "Epoch 90/500\n",
            "15/15 [==============================] - 0s 7ms/step - loss: 0.4947 - accuracy: 0.8146 - val_loss: 0.6387 - val_accuracy: 0.8250\n",
            "Epoch 91/500\n",
            "15/15 [==============================] - 0s 7ms/step - loss: 0.4871 - accuracy: 0.8167 - val_loss: 0.6594 - val_accuracy: 0.8167\n",
            "Epoch 92/500\n",
            "15/15 [==============================] - 0s 6ms/step - loss: 0.4933 - accuracy: 0.8250 - val_loss: 0.6441 - val_accuracy: 0.8250\n",
            "Epoch 93/500\n",
            "15/15 [==============================] - 0s 7ms/step - loss: 0.4549 - accuracy: 0.8313 - val_loss: 0.6351 - val_accuracy: 0.8333\n",
            "Epoch 94/500\n",
            "15/15 [==============================] - 0s 8ms/step - loss: 0.5077 - accuracy: 0.8250 - val_loss: 0.6295 - val_accuracy: 0.8333\n",
            "Epoch 95/500\n",
            "15/15 [==============================] - 0s 6ms/step - loss: 0.4820 - accuracy: 0.8250 - val_loss: 0.6221 - val_accuracy: 0.8333\n",
            "Epoch 96/500\n",
            "15/15 [==============================] - 0s 6ms/step - loss: 0.4632 - accuracy: 0.8417 - val_loss: 0.6237 - val_accuracy: 0.8333\n",
            "Epoch 97/500\n",
            "15/15 [==============================] - 0s 7ms/step - loss: 0.4838 - accuracy: 0.8396 - val_loss: 0.6299 - val_accuracy: 0.8250\n",
            "Epoch 98/500\n",
            "15/15 [==============================] - 0s 6ms/step - loss: 0.4599 - accuracy: 0.8333 - val_loss: 0.6542 - val_accuracy: 0.8250\n",
            "Epoch 99/500\n",
            "15/15 [==============================] - 0s 7ms/step - loss: 0.4888 - accuracy: 0.8250 - val_loss: 0.6369 - val_accuracy: 0.8250\n",
            "Epoch 100/500\n",
            "15/15 [==============================] - 0s 6ms/step - loss: 0.5035 - accuracy: 0.8208 - val_loss: 0.6399 - val_accuracy: 0.8250\n",
            "Epoch 101/500\n",
            "15/15 [==============================] - 0s 6ms/step - loss: 0.4993 - accuracy: 0.8271 - val_loss: 0.6508 - val_accuracy: 0.8333\n",
            "Epoch 102/500\n",
            "15/15 [==============================] - 0s 7ms/step - loss: 0.4246 - accuracy: 0.8750 - val_loss: 0.6258 - val_accuracy: 0.8333\n",
            "Epoch 103/500\n",
            "15/15 [==============================] - 0s 6ms/step - loss: 0.4690 - accuracy: 0.8458 - val_loss: 0.6572 - val_accuracy: 0.8250\n",
            "Epoch 104/500\n",
            "15/15 [==============================] - 0s 8ms/step - loss: 0.4546 - accuracy: 0.8292 - val_loss: 0.6660 - val_accuracy: 0.8250\n",
            "Epoch 105/500\n",
            "15/15 [==============================] - 0s 7ms/step - loss: 0.4598 - accuracy: 0.8396 - val_loss: 0.6772 - val_accuracy: 0.8250\n",
            "Epoch 106/500\n",
            "15/15 [==============================] - 0s 7ms/step - loss: 0.4864 - accuracy: 0.8083 - val_loss: 0.6543 - val_accuracy: 0.8250\n",
            "Epoch 107/500\n",
            "15/15 [==============================] - 0s 6ms/step - loss: 0.4592 - accuracy: 0.8313 - val_loss: 0.6392 - val_accuracy: 0.8333\n",
            "Epoch 108/500\n",
            "15/15 [==============================] - 0s 7ms/step - loss: 0.4673 - accuracy: 0.8333 - val_loss: 0.6664 - val_accuracy: 0.8250\n",
            "Epoch 109/500\n",
            "15/15 [==============================] - 0s 6ms/step - loss: 0.4756 - accuracy: 0.8229 - val_loss: 0.6766 - val_accuracy: 0.8250\n",
            "Epoch 110/500\n",
            "15/15 [==============================] - 0s 6ms/step - loss: 0.4513 - accuracy: 0.8333 - val_loss: 0.6485 - val_accuracy: 0.8250\n",
            "Epoch 111/500\n",
            "15/15 [==============================] - 0s 7ms/step - loss: 0.4532 - accuracy: 0.8438 - val_loss: 0.6591 - val_accuracy: 0.8333\n",
            "Epoch 112/500\n",
            "15/15 [==============================] - 0s 6ms/step - loss: 0.4621 - accuracy: 0.8271 - val_loss: 0.6758 - val_accuracy: 0.8250\n",
            "Epoch 113/500\n",
            "15/15 [==============================] - 0s 7ms/step - loss: 0.4564 - accuracy: 0.8292 - val_loss: 0.6857 - val_accuracy: 0.8250\n",
            "Epoch 114/500\n",
            "15/15 [==============================] - 0s 8ms/step - loss: 0.4501 - accuracy: 0.8250 - val_loss: 0.6669 - val_accuracy: 0.8333\n",
            "Epoch 115/500\n",
            "15/15 [==============================] - 0s 6ms/step - loss: 0.4492 - accuracy: 0.8542 - val_loss: 0.6641 - val_accuracy: 0.8333\n",
            "Epoch 116/500\n",
            "15/15 [==============================] - 0s 7ms/step - loss: 0.4476 - accuracy: 0.8333 - val_loss: 0.6612 - val_accuracy: 0.8333\n",
            "Epoch 117/500\n",
            "15/15 [==============================] - 0s 7ms/step - loss: 0.4306 - accuracy: 0.8271 - val_loss: 0.6655 - val_accuracy: 0.8333\n",
            "Epoch 118/500\n",
            "15/15 [==============================] - 0s 6ms/step - loss: 0.4122 - accuracy: 0.8625 - val_loss: 0.6598 - val_accuracy: 0.8167\n",
            "Epoch 119/500\n",
            "15/15 [==============================] - 0s 6ms/step - loss: 0.4632 - accuracy: 0.8458 - val_loss: 0.6799 - val_accuracy: 0.8167\n",
            "Epoch 120/500\n",
            "15/15 [==============================] - 0s 7ms/step - loss: 0.4751 - accuracy: 0.8479 - val_loss: 0.6702 - val_accuracy: 0.8167\n",
            "Epoch 121/500\n",
            "15/15 [==============================] - 0s 7ms/step - loss: 0.4021 - accuracy: 0.8771 - val_loss: 0.6526 - val_accuracy: 0.8333\n",
            "Epoch 122/500\n",
            "15/15 [==============================] - 0s 7ms/step - loss: 0.4119 - accuracy: 0.8625 - val_loss: 0.6405 - val_accuracy: 0.8250\n",
            "Epoch 123/500\n",
            "15/15 [==============================] - 0s 8ms/step - loss: 0.4121 - accuracy: 0.8375 - val_loss: 0.6623 - val_accuracy: 0.8333\n",
            "Epoch 124/500\n",
            "15/15 [==============================] - 0s 9ms/step - loss: 0.3845 - accuracy: 0.8625 - val_loss: 0.6727 - val_accuracy: 0.8333\n",
            "Epoch 125/500\n",
            "15/15 [==============================] - 0s 7ms/step - loss: 0.4274 - accuracy: 0.8375 - val_loss: 0.7071 - val_accuracy: 0.8333\n",
            "Epoch 126/500\n",
            "15/15 [==============================] - 0s 4ms/step - loss: 0.3984 - accuracy: 0.8438 - val_loss: 0.6795 - val_accuracy: 0.8333\n",
            "Epoch 127/500\n",
            "15/15 [==============================] - 0s 4ms/step - loss: 0.4279 - accuracy: 0.8396 - val_loss: 0.6908 - val_accuracy: 0.8250\n",
            "Epoch 128/500\n",
            "15/15 [==============================] - 0s 4ms/step - loss: 0.4487 - accuracy: 0.8333 - val_loss: 0.6562 - val_accuracy: 0.8333\n",
            "Epoch 129/500\n",
            "15/15 [==============================] - 0s 4ms/step - loss: 0.4011 - accuracy: 0.8604 - val_loss: 0.6995 - val_accuracy: 0.8417\n",
            "Epoch 130/500\n",
            "15/15 [==============================] - 0s 4ms/step - loss: 0.4256 - accuracy: 0.8458 - val_loss: 0.7012 - val_accuracy: 0.8333\n",
            "Epoch 131/500\n",
            "15/15 [==============================] - 0s 5ms/step - loss: 0.4080 - accuracy: 0.8604 - val_loss: 0.6786 - val_accuracy: 0.8333\n",
            "Epoch 132/500\n",
            "15/15 [==============================] - 0s 5ms/step - loss: 0.4222 - accuracy: 0.8375 - val_loss: 0.7235 - val_accuracy: 0.8333\n",
            "Epoch 133/500\n",
            "15/15 [==============================] - 0s 4ms/step - loss: 0.4220 - accuracy: 0.8313 - val_loss: 0.6747 - val_accuracy: 0.8333\n",
            "Epoch 134/500\n",
            "15/15 [==============================] - 0s 6ms/step - loss: 0.3809 - accuracy: 0.8667 - val_loss: 0.6568 - val_accuracy: 0.8250\n",
            "Epoch 135/500\n",
            "15/15 [==============================] - 0s 5ms/step - loss: 0.3909 - accuracy: 0.8479 - val_loss: 0.6672 - val_accuracy: 0.8333\n",
            "Epoch 136/500\n",
            "15/15 [==============================] - 0s 5ms/step - loss: 0.4056 - accuracy: 0.8625 - val_loss: 0.6570 - val_accuracy: 0.8250\n",
            "Epoch 137/500\n",
            "15/15 [==============================] - 0s 4ms/step - loss: 0.4281 - accuracy: 0.8562 - val_loss: 0.6803 - val_accuracy: 0.8250\n",
            "Epoch 138/500\n",
            "15/15 [==============================] - 0s 5ms/step - loss: 0.4053 - accuracy: 0.8458 - val_loss: 0.6609 - val_accuracy: 0.8250\n",
            "Epoch 139/500\n",
            "15/15 [==============================] - 0s 5ms/step - loss: 0.4040 - accuracy: 0.8687 - val_loss: 0.6975 - val_accuracy: 0.8250\n",
            "Epoch 140/500\n",
            "15/15 [==============================] - 0s 5ms/step - loss: 0.4417 - accuracy: 0.8375 - val_loss: 0.7071 - val_accuracy: 0.8250\n",
            "Epoch 141/500\n",
            "15/15 [==============================] - 0s 4ms/step - loss: 0.3923 - accuracy: 0.8583 - val_loss: 0.6967 - val_accuracy: 0.8250\n",
            "Epoch 142/500\n",
            "15/15 [==============================] - 0s 5ms/step - loss: 0.3893 - accuracy: 0.8687 - val_loss: 0.6958 - val_accuracy: 0.8250\n",
            "Epoch 143/500\n",
            "15/15 [==============================] - 0s 5ms/step - loss: 0.4205 - accuracy: 0.8500 - val_loss: 0.7006 - val_accuracy: 0.8167\n",
            "Epoch 144/500\n",
            "15/15 [==============================] - 0s 4ms/step - loss: 0.3878 - accuracy: 0.8458 - val_loss: 0.6922 - val_accuracy: 0.8333\n",
            "Epoch 145/500\n",
            "15/15 [==============================] - 0s 4ms/step - loss: 0.3649 - accuracy: 0.8708 - val_loss: 0.6800 - val_accuracy: 0.8333\n",
            "Epoch 146/500\n",
            "15/15 [==============================] - 0s 5ms/step - loss: 0.3966 - accuracy: 0.8562 - val_loss: 0.6866 - val_accuracy: 0.8250\n",
            "Epoch 147/500\n",
            "15/15 [==============================] - 0s 5ms/step - loss: 0.3687 - accuracy: 0.8583 - val_loss: 0.7060 - val_accuracy: 0.8250\n",
            "Epoch 148/500\n",
            "15/15 [==============================] - 0s 5ms/step - loss: 0.4070 - accuracy: 0.8562 - val_loss: 0.7062 - val_accuracy: 0.8250\n",
            "Epoch 149/500\n",
            "15/15 [==============================] - 0s 5ms/step - loss: 0.4088 - accuracy: 0.8375 - val_loss: 0.6581 - val_accuracy: 0.8333\n",
            "Epoch 150/500\n",
            "15/15 [==============================] - 0s 6ms/step - loss: 0.3894 - accuracy: 0.8438 - val_loss: 0.6643 - val_accuracy: 0.8250\n",
            "Epoch 151/500\n",
            "15/15 [==============================] - 0s 4ms/step - loss: 0.3936 - accuracy: 0.8583 - val_loss: 0.7279 - val_accuracy: 0.8250\n",
            "Epoch 152/500\n",
            "15/15 [==============================] - 0s 4ms/step - loss: 0.4127 - accuracy: 0.8604 - val_loss: 0.6971 - val_accuracy: 0.8250\n",
            "Epoch 153/500\n",
            "15/15 [==============================] - 0s 5ms/step - loss: 0.4047 - accuracy: 0.8625 - val_loss: 0.7108 - val_accuracy: 0.8250\n",
            "Epoch 154/500\n",
            "15/15 [==============================] - 0s 4ms/step - loss: 0.3998 - accuracy: 0.8687 - val_loss: 0.7125 - val_accuracy: 0.8250\n",
            "Epoch 155/500\n",
            "15/15 [==============================] - 0s 5ms/step - loss: 0.3821 - accuracy: 0.8604 - val_loss: 0.7099 - val_accuracy: 0.8333\n",
            "Epoch 156/500\n",
            "15/15 [==============================] - 0s 5ms/step - loss: 0.3862 - accuracy: 0.8542 - val_loss: 0.7148 - val_accuracy: 0.8250\n"
          ]
        }
      ]
    },
    {
      "cell_type": "code",
      "source": [
        "# Menampilkan nilai accuracy dan val_accuracy pada akhir pelatihan\n",
        "nilai_accuracy = round(history.history['accuracy'][-1] * 100)\n",
        "nilai_val_accuracy = round(history.history['val_accuracy'][-1] * 100)\n",
        "print(f'Nilai Accuracy: {nilai_accuracy}%')\n",
        "print(f'Nilai Val_Accuracy: {nilai_val_accuracy}%')"
      ],
      "metadata": {
        "id": "oTlO3ykGGDK3",
        "colab": {
          "base_uri": "https://localhost:8080/"
        },
        "outputId": "82e5dd03-0868-4e02-fdff-195ba8055420"
      },
      "execution_count": 15,
      "outputs": [
        {
          "output_type": "stream",
          "name": "stdout",
          "text": [
            "Nilai Accuracy: 85%\n",
            "Nilai Val_Accuracy: 82%\n"
          ]
        }
      ]
    },
    {
      "cell_type": "code",
      "source": [
        "model.summary()"
      ],
      "metadata": {
        "id": "cAo8PSNLQp_9",
        "colab": {
          "base_uri": "https://localhost:8080/"
        },
        "outputId": "59470678-6452-443c-836f-2578135d3cca"
      },
      "execution_count": 16,
      "outputs": [
        {
          "output_type": "stream",
          "name": "stdout",
          "text": [
            "Model: \"sequential\"\n",
            "_________________________________________________________________\n",
            " Layer (type)                Output Shape              Param #   \n",
            "=================================================================\n",
            " dense (Dense)               (None, 64)                1600      \n",
            "                                                                 \n",
            " dropout (Dropout)           (None, 64)                0         \n",
            "                                                                 \n",
            " dense_1 (Dense)             (None, 64)                4160      \n",
            "                                                                 \n",
            " dropout_1 (Dropout)         (None, 64)                0         \n",
            "                                                                 \n",
            " dense_2 (Dense)             (None, 32)                2080      \n",
            "                                                                 \n",
            " dropout_2 (Dropout)         (None, 32)                0         \n",
            "                                                                 \n",
            " dense_3 (Dense)             (None, 16)                528       \n",
            "                                                                 \n",
            " flatten (Flatten)           (None, 16)                0         \n",
            "                                                                 \n",
            " dense_4 (Dense)             (None, 12)                204       \n",
            "                                                                 \n",
            "=================================================================\n",
            "Total params: 8572 (33.48 KB)\n",
            "Trainable params: 8572 (33.48 KB)\n",
            "Non-trainable params: 0 (0.00 Byte)\n",
            "_________________________________________________________________\n"
          ]
        }
      ]
    },
    {
      "cell_type": "markdown",
      "source": [
        "# **Plot Loss dan Accuracy**\n",
        "\n",
        "---"
      ],
      "metadata": {
        "id": "hHq-SWe5TIgE"
      }
    },
    {
      "cell_type": "markdown",
      "source": [
        "| Algorithnm | Kolom 1) | Kolom 2 | Kolom 3 | Kolom 4\n",
        "| --- | --- | --- | --- | --- |\n",
        "| NEURAL NETWORK 1 | 0.869 | 0.788 | 0.820 | 0.833|\n",
        "| NEURAL NETWORK 2 | 0.827 | 0.780 | 0.790 | 0.785 |"
      ],
      "metadata": {
        "id": "EyvHtzZ8I3ob"
      }
    },
    {
      "cell_type": "code",
      "source": [
        "# plot training dan validation accuracy per epoch\n",
        "plt.plot(history.history['accuracy'])\n",
        "plt.plot(history.history['val_accuracy'])\n",
        "plt.title('model accuracy')\n",
        "plt.ylabel('accuracy')\n",
        "plt.xlabel('epoch')\n",
        "plt.legend(['Train', 'Validation'], loc='lower right')\n",
        "plt.show()\n",
        "print(\"\\n\")\n",
        "\n",
        "# plot training dan validation loss per epoch\n",
        "plt.plot(history.history['loss'])\n",
        "plt.plot(history.history['val_loss'])\n",
        "plt.title('model loss')\n",
        "plt.ylabel('loss')\n",
        "plt.xlabel('epoch')\n",
        "plt.legend(['Train', 'Validation'], loc='upper right')\n",
        "plt.show()"
      ],
      "metadata": {
        "id": "U5r6gcHYTOYy",
        "colab": {
          "base_uri": "https://localhost:8080/",
          "height": 962
        },
        "outputId": "acf26011-77a7-4045-c76c-89e02ab30687"
      },
      "execution_count": 17,
      "outputs": [
        {
          "output_type": "display_data",
          "data": {
            "text/plain": [
              "<Figure size 640x480 with 1 Axes>"
            ],
            "image/png": "[encoded data removed]"
          },
          "metadata": {}
        },
        {
          "output_type": "stream",
          "name": "stdout",
          "text": [
            "\n",
            "\n"
          ]
        },
        {
          "output_type": "display_data",
          "data": {
            "text/plain": [
              "<Figure size 640x480 with 1 Axes>"
            ],
            "image/png": "[encoded data removed]"
          },
          "metadata": {}
        }
      ]
    },
    {
      "cell_type": "markdown",
      "source": [
        "# **Evaluasi Model**\n",
        "\n",
        "---"
      ],
      "metadata": {
        "id": "04ct7VfQSRd5"
      }
    },
    {
      "cell_type": "code",
      "source": [
        "# Evaluasi model\n",
        "loss, accuracy = model.evaluate(test_features, test_labels)\n",
        "print(f'Loss: {loss}')\n",
        "print(f'Accuracy: {accuracy}')"
      ],
      "metadata": {
        "colab": {
          "base_uri": "https://localhost:8080/"
        },
        "id": "V_9ZoMcFoT1n",
        "outputId": "6a97e714-b31d-42d8-fbda-a04374536540"
      },
      "execution_count": 24,
      "outputs": [
        {
          "output_type": "stream",
          "name": "stdout",
          "text": [
            "4/4 [==============================] - 0s 4ms/step - loss: 0.6526 - accuracy: 0.8333\n",
            "Loss: 0.6526282429695129\n",
            "Accuracy: 0.8333333134651184\n"
          ]
        }
      ]
    },
    {
      "cell_type": "markdown",
      "source": [
        "# **Predict Model**\n",
        "\n",
        "---"
      ],
      "metadata": {
        "id": "jzANzdY_fQo9"
      }
    },
    {
      "cell_type": "code",
      "source": [
        "# Input fitur yang akan diprediksi (sesuaikan dengan jumlah fitur yang digunakan dalam model)\n",
        "input_features = np.array([[True, True, True, True, False, False, False, True, True, False, True, False,\n",
        "                            True, False, True, True, True, False, True, False, True, False, False, True]])\n",
        "\n",
        "# Normalisasi input fitur\n",
        "input_features_normalized = tf.keras.utils.normalize(input_features, axis=1)\n",
        "\n",
        "# Melakukan prediksi berdasarkan input fitur\n",
        "predictions = model.predict(input_features_normalized)\n",
        "\n",
        "# Menampilkan hasil prediksi\n",
        "print(predictions)\n",
        "\n",
        "# Mendapatkan indeks dengan nilai tertinggi dari output model\n",
        "predicted_class_index = np.argmax(predictions)\n",
        "print(\"\\nIndeks dengan nilai tertinggi:\", predicted_class_index)\n",
        "\n",
        "# Label Encoding yang telah digunakan sebelumnya\n",
        "label_encoder = LabelEncoder()\n",
        "label_encoder.fit(labels)\n",
        "\n",
        "# Invers transform dari indeks ke label fakultas\n",
        "predicted_fakultas = label_encoder.inverse_transform([predicted_class_index])\n",
        "\n",
        "# Menampilkan nama fakultas yang diprediksi berdasarkan indeks\n",
        "print(\"\\nKamu cocok dengan Fakultas:\", predicted_fakultas[0])"
      ],
      "metadata": {
        "colab": {
          "base_uri": "https://localhost:8080/"
        },
        "id": "r7UdfCIjielt",
        "outputId": "a796f7ea-17fa-407d-c373-31779f2a5ebf"
      },
      "execution_count": 19,
      "outputs": [
        {
          "output_type": "stream",
          "name": "stdout",
          "text": [
            "1/1 [==============================] - 0s 100ms/step\n",
            "[[0.0533076  0.03209373 0.36325186 0.08056951 0.00048903 0.02048454\n",
            "  0.01282362 0.00119544 0.00608553 0.02487908 0.00076627 0.40405378]]\n",
            "\n",
            "Indeks dengan nilai tertinggi: 11\n",
            "\n",
            "Kamu cocok dengan Fakultas: Ilmu Teknik\n"
          ]
        }
      ]
    },
    {
      "cell_type": "code",
      "source": [
        "# Prediksi pada data uji\n",
        "predictions = model.predict(test_features)\n",
        "\n",
        "# Evaluasi akurasi pada data uji\n",
        "accuracy = model.evaluate(test_features, test_labels)\n",
        "print(f'Akurasi pada data uji: {accuracy[1]*100:.2f}%')"
      ],
      "metadata": {
        "colab": {
          "base_uri": "https://localhost:8080/"
        },
        "id": "WB9DYaHs9Q8c",
        "outputId": "5701322e-bfd3-4f85-99cc-d99245f0f8bf"
      },
      "execution_count": 28,
      "outputs": [
        {
          "output_type": "stream",
          "name": "stdout",
          "text": [
            "4/4 [==============================] - 0s 3ms/step\n",
            "4/4 [==============================] - 0s 3ms/step - loss: 0.6526 - accuracy: 0.8333\n",
            "Akurasi pada data uji: 83.33%\n"
          ]
        }
      ]
    },
    {
      "cell_type": "markdown",
      "source": [
        "# **Save Model**\n",
        "\n",
        "---"
      ],
      "metadata": {
        "id": "h9MSpgC7Uo7E"
      }
    },
    {
      "cell_type": "code",
      "source": [
        "model.save(\"sistem_rekomendasi_jurusan.h5\")"
      ],
      "metadata": {
        "id": "ixkX7desVrjk",
        "colab": {
          "base_uri": "https://localhost:8080/"
        },
        "outputId": "d5c3bce4-6bf8-4d33-bd7b-ef066bb3df76"
      },
      "execution_count": 29,
      "outputs": [
        {
          "output_type": "stream",
          "name": "stderr",
          "text": [
            "/usr/local/lib/python3.10/dist-packages/keras/src/engine/training.py:3079: UserWarning: You are saving your model as an HDF5 file via `model.save()`. This file format is considered legacy. We recommend using instead the native Keras format, e.g. `model.save('my_model.keras')`.\n",
            "  saving_api.save_model(\n"
          ]
        }
      ]
    }
  ]
}