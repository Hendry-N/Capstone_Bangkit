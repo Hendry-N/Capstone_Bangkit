{
  "nbformat": 4,
  "nbformat_minor": 0,
  "metadata": {
    "colab": {
      "provenance": [],
      "include_colab_link": true
    },
    "kernelspec": {
      "name": "python3",
      "display_name": "Python 3"
    },
    "language_info": {
      "name": "python"
    }
  },
  "cells": [
    {
      "cell_type": "markdown",
      "metadata": {
        "id": "view-in-github",
        "colab_type": "text"
      },
      "source": [
        "<a href=\"https://colab.research.google.com/github/MuhammadFaturrahmanSaputra/Capstone_Bangkit/blob/main/Model%20ML/Build%20Model.ipynb\" target=\"_parent\"><img src=\"https://colab.research.google.com/assets/colab-badge.svg\" alt=\"Open In Colab\"/></a>"
      ]
    },
    {
      "cell_type": "markdown",
      "source": [
        "# **Import Library**\n",
        "\n",
        "---"
      ],
      "metadata": {
        "id": "i81vHlBgPOY3"
      }
    },
    {
      "cell_type": "code",
      "execution_count": 1,
      "metadata": {
        "id": "wSAwrLDjf6jl"
      },
      "outputs": [],
      "source": [
        "import numpy as np\n",
        "import matplotlib.pyplot as plt\n",
        "import pandas as pd\n",
        "import tensorflow as tf\n",
        "import tensorflow_datasets as tfds\n",
        "import seaborn as sns\n",
        "import shutil\n",
        "import os\n",
        "import urllib.request\n",
        "\n",
        "from keras.optimizers import Adam, SGD, RMSprop\n",
        "from keras.models import Sequential\n",
        "from keras.layers import Dense, MaxPooling1D, Flatten, Dropout\n",
        "from sklearn.model_selection import train_test_split\n",
        "from keras.callbacks import EarlyStopping\n",
        "from keras.utils import plot_model\n",
        "from sklearn.preprocessing import LabelEncoder"
      ]
    },
    {
      "cell_type": "markdown",
      "source": [
        "# **Memuat Dataset**\n",
        "\n",
        "---"
      ],
      "metadata": {
        "id": "w0Dqv5TGzxYd"
      }
    },
    {
      "cell_type": "code",
      "source": [
        "# Jalur ke file CSV di Github\n",
        "url = 'https://raw.githubusercontent.com/MuhammadFaturrahmanSaputra/Capstone_Bangkit/main/Dataset/CSV.csv'\n",
        "\n",
        "# Path folder tujuan di Colab\n",
        "folder = '/content/Dataset/'\n",
        "\n",
        "# Buat folder jika tidak ada\n",
        "if not os.path.exists(folder):\n",
        "    os.makedirs(folder)\n",
        "\n",
        "# Unduh file dari Github ke Colab\n",
        "file_name = os.path.join(folder, 'CSV.csv')\n",
        "urllib.request.urlretrieve(url, file_name)\n",
        "\n",
        "# Periksa apakah file berhasil diunduh\n",
        "if os.path.exists(file_name):\n",
        "    print(\"File CSV berhasil diunduh ke folder 'File Csv' di Colab.\")\n",
        "else:\n",
        "    print(\"Gagal mengunduh file CSV.\")"
      ],
      "metadata": {
        "colab": {
          "base_uri": "https://localhost:8080/"
        },
        "id": "AXAGYyHGI3tD",
        "outputId": "297a5202-6cf1-42fd-afcc-7fc8b6465a6c"
      },
      "execution_count": 2,
      "outputs": [
        {
          "output_type": "stream",
          "name": "stdout",
          "text": [
            "File CSV berhasil diunduh ke folder 'File Csv' di Colab.\n"
          ]
        }
      ]
    },
    {
      "cell_type": "code",
      "source": [
        "# Membaca file CSV dan membuat DataFrame\n",
        "df = pd.read_csv(url)\n",
        "\n",
        "# Menampilkan beberapa baris dari DataFrame\n",
        "df.head(10)"
      ],
      "metadata": {
        "colab": {
          "base_uri": "https://localhost:8080/",
          "height": 707
        },
        "id": "WneHvwNHX9mF",
        "outputId": "927c80d9-4449-4e48-b7d5-5f0397ff4f40"
      },
      "execution_count": 4,
      "outputs": [
        {
          "output_type": "execute_result",
          "data": {
            "text/plain": [
              "   Memperbaiki Barang  Merakit Benda  Membongkar-Pasang Barang  \\\n",
              "0                   0              1                         1   \n",
              "1                   1              1                         1   \n",
              "2                   1              1                         0   \n",
              "3                   0              1                         1   \n",
              "4                   0              0                         0   \n",
              "5                   0              0                         0   \n",
              "6                   1              1                         0   \n",
              "7                   0              0                         0   \n",
              "8                   1              0                         1   \n",
              "9                   0              1                         0   \n",
              "\n",
              "   Mengutak-atik Barang  Menganalisis Masalah  Mencari Solusi  Menghitung  \\\n",
              "0                     1                     1               1           0   \n",
              "1                     1                     1               0           1   \n",
              "2                     0                     1               1           0   \n",
              "3                     1                     0               1           1   \n",
              "4                     0                     1               0           0   \n",
              "5                     0                     1               1           0   \n",
              "6                     0                     1               1           1   \n",
              "7                     1                     0               0           0   \n",
              "8                     1                     0               0           1   \n",
              "9                     0                     1               1           1   \n",
              "\n",
              "   Berfikir Logis  Menari  Bermusik  ...  Membantu  Menjual Benda  \\\n",
              "0               1       0         0  ...         1              0   \n",
              "1               1       0         1  ...         1              0   \n",
              "2               1       0         0  ...         1              0   \n",
              "3               1       1         1  ...         1              0   \n",
              "4               0       0         0  ...         1              0   \n",
              "5               1       0         0  ...         1              0   \n",
              "6               1       1         1  ...         1              1   \n",
              "7               1       0         0  ...         0              0   \n",
              "8               1       0         1  ...         1              0   \n",
              "9               1       0         0  ...         1              1   \n",
              "\n",
              "   Mengelola Acara  Memimpin Kelompok  Membujuk Orang  Mengikuti Aturan  \\\n",
              "0                0                  0               0                 1   \n",
              "1                0                  0               0                 1   \n",
              "2                1                  1               1                 1   \n",
              "3                1                  1               1                 1   \n",
              "4                0                  0               0                 1   \n",
              "5                1                  0               0                 1   \n",
              "6                1                  0               1                 1   \n",
              "7                0                  0               0                 0   \n",
              "8                0                  1               1                 1   \n",
              "9                0                  1               0                 1   \n",
              "\n",
              "   Mengurutkan  Membereskan Barang  Menjalankan Rutin  \\\n",
              "0            1                   0                  0   \n",
              "1            1                   1                  0   \n",
              "2            1                   1                  1   \n",
              "3            1                   0                  1   \n",
              "4            1                   1                  1   \n",
              "5            0                   0                  1   \n",
              "6            1                   1                  1   \n",
              "7            1                   0                  0   \n",
              "8            1                   1                  1   \n",
              "9            1                   1                  1   \n",
              "\n",
              "                        Fakultas  \n",
              "0                    Ilmu Teknik  \n",
              "1        Ilmu Ekonomi dan Bisnis  \n",
              "2      Ilmu Sosial dan Humaniora  \n",
              "3  Ilmu Profesi dan Ilmu Terapan  \n",
              "4                      Ilmu Seni  \n",
              "5      Ilmu Sosial dan Humaniora  \n",
              "6                Ilmu Pendidikan  \n",
              "7                    Ilmu Teknik  \n",
              "8    Ilmu Komputer dan Teknologi  \n",
              "9                      Ilmu Seni  \n",
              "\n",
              "[10 rows x 25 columns]"
            ],
            "text/html": [
              "\n",
              "  <div id=\"df-e0314840-7533-4359-8806-faefb15c84bc\" class=\"colab-df-container\">\n",
              "    <div>\n",
              "<style scoped>\n",
              "    .dataframe tbody tr th:only-of-type {\n",
              "        vertical-align: middle;\n",
              "    }\n",
              "\n",
              "    .dataframe tbody tr th {\n",
              "        vertical-align: top;\n",
              "    }\n",
              "\n",
              "    .dataframe thead th {\n",
              "        text-align: right;\n",
              "    }\n",
              "</style>\n",
              "<table border=\"1\" class=\"dataframe\">\n",
              "  <thead>\n",
              "    <tr style=\"text-align: right;\">\n",
              "      <th></th>\n",
              "      <th>Memperbaiki Barang</th>\n",
              "      <th>Merakit Benda</th>\n",
              "      <th>Membongkar-Pasang Barang</th>\n",
              "      <th>Mengutak-atik Barang</th>\n",
              "      <th>Menganalisis Masalah</th>\n",
              "      <th>Mencari Solusi</th>\n",
              "      <th>Menghitung</th>\n",
              "      <th>Berfikir Logis</th>\n",
              "      <th>Menari</th>\n",
              "      <th>Bermusik</th>\n",
              "      <th>...</th>\n",
              "      <th>Membantu</th>\n",
              "      <th>Menjual Benda</th>\n",
              "      <th>Mengelola Acara</th>\n",
              "      <th>Memimpin Kelompok</th>\n",
              "      <th>Membujuk Orang</th>\n",
              "      <th>Mengikuti Aturan</th>\n",
              "      <th>Mengurutkan</th>\n",
              "      <th>Membereskan Barang</th>\n",
              "      <th>Menjalankan Rutin</th>\n",
              "      <th>Fakultas</th>\n",
              "    </tr>\n",
              "  </thead>\n",
              "  <tbody>\n",
              "    <tr>\n",
              "      <th>0</th>\n",
              "      <td>0</td>\n",
              "      <td>1</td>\n",
              "      <td>1</td>\n",
              "      <td>1</td>\n",
              "      <td>1</td>\n",
              "      <td>1</td>\n",
              "      <td>0</td>\n",
              "      <td>1</td>\n",
              "      <td>0</td>\n",
              "      <td>0</td>\n",
              "      <td>...</td>\n",
              "      <td>1</td>\n",
              "      <td>0</td>\n",
              "      <td>0</td>\n",
              "      <td>0</td>\n",
              "      <td>0</td>\n",
              "      <td>1</td>\n",
              "      <td>1</td>\n",
              "      <td>0</td>\n",
              "      <td>0</td>\n",
              "      <td>Ilmu Teknik</td>\n",
              "    </tr>\n",
              "    <tr>\n",
              "      <th>1</th>\n",
              "      <td>1</td>\n",
              "      <td>1</td>\n",
              "      <td>1</td>\n",
              "      <td>1</td>\n",
              "      <td>1</td>\n",
              "      <td>0</td>\n",
              "      <td>1</td>\n",
              "      <td>1</td>\n",
              "      <td>0</td>\n",
              "      <td>1</td>\n",
              "      <td>...</td>\n",
              "      <td>1</td>\n",
              "      <td>0</td>\n",
              "      <td>0</td>\n",
              "      <td>0</td>\n",
              "      <td>0</td>\n",
              "      <td>1</td>\n",
              "      <td>1</td>\n",
              "      <td>1</td>\n",
              "      <td>0</td>\n",
              "      <td>Ilmu Ekonomi dan Bisnis</td>\n",
              "    </tr>\n",
              "    <tr>\n",
              "      <th>2</th>\n",
              "      <td>1</td>\n",
              "      <td>1</td>\n",
              "      <td>0</td>\n",
              "      <td>0</td>\n",
              "      <td>1</td>\n",
              "      <td>1</td>\n",
              "      <td>0</td>\n",
              "      <td>1</td>\n",
              "      <td>0</td>\n",
              "      <td>0</td>\n",
              "      <td>...</td>\n",
              "      <td>1</td>\n",
              "      <td>0</td>\n",
              "      <td>1</td>\n",
              "      <td>1</td>\n",
              "      <td>1</td>\n",
              "      <td>1</td>\n",
              "      <td>1</td>\n",
              "      <td>1</td>\n",
              "      <td>1</td>\n",
              "      <td>Ilmu Sosial dan Humaniora</td>\n",
              "    </tr>\n",
              "    <tr>\n",
              "      <th>3</th>\n",
              "      <td>0</td>\n",
              "      <td>1</td>\n",
              "      <td>1</td>\n",
              "      <td>1</td>\n",
              "      <td>0</td>\n",
              "      <td>1</td>\n",
              "      <td>1</td>\n",
              "      <td>1</td>\n",
              "      <td>1</td>\n",
              "      <td>1</td>\n",
              "      <td>...</td>\n",
              "      <td>1</td>\n",
              "      <td>0</td>\n",
              "      <td>1</td>\n",
              "      <td>1</td>\n",
              "      <td>1</td>\n",
              "      <td>1</td>\n",
              "      <td>1</td>\n",
              "      <td>0</td>\n",
              "      <td>1</td>\n",
              "      <td>Ilmu Profesi dan Ilmu Terapan</td>\n",
              "    </tr>\n",
              "    <tr>\n",
              "      <th>4</th>\n",
              "      <td>0</td>\n",
              "      <td>0</td>\n",
              "      <td>0</td>\n",
              "      <td>0</td>\n",
              "      <td>1</td>\n",
              "      <td>0</td>\n",
              "      <td>0</td>\n",
              "      <td>0</td>\n",
              "      <td>0</td>\n",
              "      <td>0</td>\n",
              "      <td>...</td>\n",
              "      <td>1</td>\n",
              "      <td>0</td>\n",
              "      <td>0</td>\n",
              "      <td>0</td>\n",
              "      <td>0</td>\n",
              "      <td>1</td>\n",
              "      <td>1</td>\n",
              "      <td>1</td>\n",
              "      <td>1</td>\n",
              "      <td>Ilmu Seni</td>\n",
              "    </tr>\n",
              "    <tr>\n",
              "      <th>5</th>\n",
              "      <td>0</td>\n",
              "      <td>0</td>\n",
              "      <td>0</td>\n",
              "      <td>0</td>\n",
              "      <td>1</td>\n",
              "      <td>1</td>\n",
              "      <td>0</td>\n",
              "      <td>1</td>\n",
              "      <td>0</td>\n",
              "      <td>0</td>\n",
              "      <td>...</td>\n",
              "      <td>1</td>\n",
              "      <td>0</td>\n",
              "      <td>1</td>\n",
              "      <td>0</td>\n",
              "      <td>0</td>\n",
              "      <td>1</td>\n",
              "      <td>0</td>\n",
              "      <td>0</td>\n",
              "      <td>1</td>\n",
              "      <td>Ilmu Sosial dan Humaniora</td>\n",
              "    </tr>\n",
              "    <tr>\n",
              "      <th>6</th>\n",
              "      <td>1</td>\n",
              "      <td>1</td>\n",
              "      <td>0</td>\n",
              "      <td>0</td>\n",
              "      <td>1</td>\n",
              "      <td>1</td>\n",
              "      <td>1</td>\n",
              "      <td>1</td>\n",
              "      <td>1</td>\n",
              "      <td>1</td>\n",
              "      <td>...</td>\n",
              "      <td>1</td>\n",
              "      <td>1</td>\n",
              "      <td>1</td>\n",
              "      <td>0</td>\n",
              "      <td>1</td>\n",
              "      <td>1</td>\n",
              "      <td>1</td>\n",
              "      <td>1</td>\n",
              "      <td>1</td>\n",
              "      <td>Ilmu Pendidikan</td>\n",
              "    </tr>\n",
              "    <tr>\n",
              "      <th>7</th>\n",
              "      <td>0</td>\n",
              "      <td>0</td>\n",
              "      <td>0</td>\n",
              "      <td>1</td>\n",
              "      <td>0</td>\n",
              "      <td>0</td>\n",
              "      <td>0</td>\n",
              "      <td>1</td>\n",
              "      <td>0</td>\n",
              "      <td>0</td>\n",
              "      <td>...</td>\n",
              "      <td>0</td>\n",
              "      <td>0</td>\n",
              "      <td>0</td>\n",
              "      <td>0</td>\n",
              "      <td>0</td>\n",
              "      <td>0</td>\n",
              "      <td>1</td>\n",
              "      <td>0</td>\n",
              "      <td>0</td>\n",
              "      <td>Ilmu Teknik</td>\n",
              "    </tr>\n",
              "    <tr>\n",
              "      <th>8</th>\n",
              "      <td>1</td>\n",
              "      <td>0</td>\n",
              "      <td>1</td>\n",
              "      <td>1</td>\n",
              "      <td>0</td>\n",
              "      <td>0</td>\n",
              "      <td>1</td>\n",
              "      <td>1</td>\n",
              "      <td>0</td>\n",
              "      <td>1</td>\n",
              "      <td>...</td>\n",
              "      <td>1</td>\n",
              "      <td>0</td>\n",
              "      <td>0</td>\n",
              "      <td>1</td>\n",
              "      <td>1</td>\n",
              "      <td>1</td>\n",
              "      <td>1</td>\n",
              "      <td>1</td>\n",
              "      <td>1</td>\n",
              "      <td>Ilmu Komputer dan Teknologi</td>\n",
              "    </tr>\n",
              "    <tr>\n",
              "      <th>9</th>\n",
              "      <td>0</td>\n",
              "      <td>1</td>\n",
              "      <td>0</td>\n",
              "      <td>0</td>\n",
              "      <td>1</td>\n",
              "      <td>1</td>\n",
              "      <td>1</td>\n",
              "      <td>1</td>\n",
              "      <td>0</td>\n",
              "      <td>0</td>\n",
              "      <td>...</td>\n",
              "      <td>1</td>\n",
              "      <td>1</td>\n",
              "      <td>0</td>\n",
              "      <td>1</td>\n",
              "      <td>0</td>\n",
              "      <td>1</td>\n",
              "      <td>1</td>\n",
              "      <td>1</td>\n",
              "      <td>1</td>\n",
              "      <td>Ilmu Seni</td>\n",
              "    </tr>\n",
              "  </tbody>\n",
              "</table>\n",
              "<p>10 rows × 25 columns</p>\n",
              "</div>\n",
              "    <div class=\"colab-df-buttons\">\n",
              "\n",
              "  <div class=\"colab-df-container\">\n",
              "    <button class=\"colab-df-convert\" onclick=\"convertToInteractive('df-e0314840-7533-4359-8806-faefb15c84bc')\"\n",
              "            title=\"Convert this dataframe to an interactive table.\"\n",
              "            style=\"display:none;\">\n",
              "\n",
              "  <svg xmlns=\"http://www.w3.org/2000/svg\" height=\"24px\" viewBox=\"0 -960 960 960\">\n",
              "    <path d=\"M120-120v-720h720v720H120Zm60-500h600v-160H180v160Zm220 220h160v-160H400v160Zm0 220h160v-160H400v160ZM180-400h160v-160H180v160Zm440 0h160v-160H620v160ZM180-180h160v-160H180v160Zm440 0h160v-160H620v160Z\"/>\n",
              "  </svg>\n",
              "    </button>\n",
              "\n",
              "  <style>\n",
              "    .colab-df-container {\n",
              "      display:flex;\n",
              "      gap: 12px;\n",
              "    }\n",
              "\n",
              "    .colab-df-convert {\n",
              "      background-color: #E8F0FE;\n",
              "      border: none;\n",
              "      border-radius: 50%;\n",
              "      cursor: pointer;\n",
              "      display: none;\n",
              "      fill: #1967D2;\n",
              "      height: 32px;\n",
              "      padding: 0 0 0 0;\n",
              "      width: 32px;\n",
              "    }\n",
              "\n",
              "    .colab-df-convert:hover {\n",
              "      background-color: #E2EBFA;\n",
              "      box-shadow: 0px 1px 2px rgba(60, 64, 67, 0.3), 0px 1px 3px 1px rgba(60, 64, 67, 0.15);\n",
              "      fill: #174EA6;\n",
              "    }\n",
              "\n",
              "    .colab-df-buttons div {\n",
              "      margin-bottom: 4px;\n",
              "    }\n",
              "\n",
              "    [theme=dark] .colab-df-convert {\n",
              "      background-color: #3B4455;\n",
              "      fill: #D2E3FC;\n",
              "    }\n",
              "\n",
              "    [theme=dark] .colab-df-convert:hover {\n",
              "      background-color: #434B5C;\n",
              "      box-shadow: 0px 1px 3px 1px rgba(0, 0, 0, 0.15);\n",
              "      filter: drop-shadow(0px 1px 2px rgba(0, 0, 0, 0.3));\n",
              "      fill: #FFFFFF;\n",
              "    }\n",
              "  </style>\n",
              "\n",
              "    <script>\n",
              "      const buttonEl =\n",
              "        document.querySelector('#df-e0314840-7533-4359-8806-faefb15c84bc button.colab-df-convert');\n",
              "      buttonEl.style.display =\n",
              "        google.colab.kernel.accessAllowed ? 'block' : 'none';\n",
              "\n",
              "      async function convertToInteractive(key) {\n",
              "        const element = document.querySelector('#df-e0314840-7533-4359-8806-faefb15c84bc');\n",
              "        const dataTable =\n",
              "          await google.colab.kernel.invokeFunction('convertToInteractive',\n",
              "                                                    [key], {});\n",
              "        if (!dataTable) return;\n",
              "\n",
              "        const docLinkHtml = 'Like what you see? Visit the ' +\n",
              "          '<a target=\"_blank\" href=https://colab.research.google.com/notebooks/data_table.ipynb>data table notebook</a>'\n",
              "          + ' to learn more about interactive tables.';\n",
              "        element.innerHTML = '';\n",
              "        dataTable['output_type'] = 'display_data';\n",
              "        await google.colab.output.renderOutput(dataTable, element);\n",
              "        const docLink = document.createElement('div');\n",
              "        docLink.innerHTML = docLinkHtml;\n",
              "        element.appendChild(docLink);\n",
              "      }\n",
              "    </script>\n",
              "  </div>\n",
              "\n",
              "\n",
              "<div id=\"df-2b87ca7b-7561-4934-a3ff-a773315d90f9\">\n",
              "  <button class=\"colab-df-quickchart\" onclick=\"quickchart('df-2b87ca7b-7561-4934-a3ff-a773315d90f9')\"\n",
              "            title=\"Suggest charts\"\n",
              "            style=\"display:none;\">\n",
              "\n",
              "<svg xmlns=\"http://www.w3.org/2000/svg\" height=\"24px\"viewBox=\"0 0 24 24\"\n",
              "     width=\"24px\">\n",
              "    <g>\n",
              "        <path d=\"M19 3H5c-1.1 0-2 .9-2 2v14c0 1.1.9 2 2 2h14c1.1 0 2-.9 2-2V5c0-1.1-.9-2-2-2zM9 17H7v-7h2v7zm4 0h-2V7h2v10zm4 0h-2v-4h2v4z\"/>\n",
              "    </g>\n",
              "</svg>\n",
              "  </button>\n",
              "\n",
              "<style>\n",
              "  .colab-df-quickchart {\n",
              "      --bg-color: #E8F0FE;\n",
              "      --fill-color: #1967D2;\n",
              "      --hover-bg-color: #E2EBFA;\n",
              "      --hover-fill-color: #174EA6;\n",
              "      --disabled-fill-color: #AAA;\n",
              "      --disabled-bg-color: #DDD;\n",
              "  }\n",
              "\n",
              "  [theme=dark] .colab-df-quickchart {\n",
              "      --bg-color: #3B4455;\n",
              "      --fill-color: #D2E3FC;\n",
              "      --hover-bg-color: #434B5C;\n",
              "      --hover-fill-color: #FFFFFF;\n",
              "      --disabled-bg-color: #3B4455;\n",
              "      --disabled-fill-color: #666;\n",
              "  }\n",
              "\n",
              "  .colab-df-quickchart {\n",
              "    background-color: var(--bg-color);\n",
              "    border: none;\n",
              "    border-radius: 50%;\n",
              "    cursor: pointer;\n",
              "    display: none;\n",
              "    fill: var(--fill-color);\n",
              "    height: 32px;\n",
              "    padding: 0;\n",
              "    width: 32px;\n",
              "  }\n",
              "\n",
              "  .colab-df-quickchart:hover {\n",
              "    background-color: var(--hover-bg-color);\n",
              "    box-shadow: 0 1px 2px rgba(60, 64, 67, 0.3), 0 1px 3px 1px rgba(60, 64, 67, 0.15);\n",
              "    fill: var(--button-hover-fill-color);\n",
              "  }\n",
              "\n",
              "  .colab-df-quickchart-complete:disabled,\n",
              "  .colab-df-quickchart-complete:disabled:hover {\n",
              "    background-color: var(--disabled-bg-color);\n",
              "    fill: var(--disabled-fill-color);\n",
              "    box-shadow: none;\n",
              "  }\n",
              "\n",
              "  .colab-df-spinner {\n",
              "    border: 2px solid var(--fill-color);\n",
              "    border-color: transparent;\n",
              "    border-bottom-color: var(--fill-color);\n",
              "    animation:\n",
              "      spin 1s steps(1) infinite;\n",
              "  }\n",
              "\n",
              "  @keyframes spin {\n",
              "    0% {\n",
              "      border-color: transparent;\n",
              "      border-bottom-color: var(--fill-color);\n",
              "      border-left-color: var(--fill-color);\n",
              "    }\n",
              "    20% {\n",
              "      border-color: transparent;\n",
              "      border-left-color: var(--fill-color);\n",
              "      border-top-color: var(--fill-color);\n",
              "    }\n",
              "    30% {\n",
              "      border-color: transparent;\n",
              "      border-left-color: var(--fill-color);\n",
              "      border-top-color: var(--fill-color);\n",
              "      border-right-color: var(--fill-color);\n",
              "    }\n",
              "    40% {\n",
              "      border-color: transparent;\n",
              "      border-right-color: var(--fill-color);\n",
              "      border-top-color: var(--fill-color);\n",
              "    }\n",
              "    60% {\n",
              "      border-color: transparent;\n",
              "      border-right-color: var(--fill-color);\n",
              "    }\n",
              "    80% {\n",
              "      border-color: transparent;\n",
              "      border-right-color: var(--fill-color);\n",
              "      border-bottom-color: var(--fill-color);\n",
              "    }\n",
              "    90% {\n",
              "      border-color: transparent;\n",
              "      border-bottom-color: var(--fill-color);\n",
              "    }\n",
              "  }\n",
              "</style>\n",
              "\n",
              "  <script>\n",
              "    async function quickchart(key) {\n",
              "      const quickchartButtonEl =\n",
              "        document.querySelector('#' + key + ' button');\n",
              "      quickchartButtonEl.disabled = true;  // To prevent multiple clicks.\n",
              "      quickchartButtonEl.classList.add('colab-df-spinner');\n",
              "      try {\n",
              "        const charts = await google.colab.kernel.invokeFunction(\n",
              "            'suggestCharts', [key], {});\n",
              "      } catch (error) {\n",
              "        console.error('Error during call to suggestCharts:', error);\n",
              "      }\n",
              "      quickchartButtonEl.classList.remove('colab-df-spinner');\n",
              "      quickchartButtonEl.classList.add('colab-df-quickchart-complete');\n",
              "    }\n",
              "    (() => {\n",
              "      let quickchartButtonEl =\n",
              "        document.querySelector('#df-2b87ca7b-7561-4934-a3ff-a773315d90f9 button');\n",
              "      quickchartButtonEl.style.display =\n",
              "        google.colab.kernel.accessAllowed ? 'block' : 'none';\n",
              "    })();\n",
              "  </script>\n",
              "</div>\n",
              "    </div>\n",
              "  </div>\n"
            ]
          },
          "metadata": {},
          "execution_count": 4
        }
      ]
    },
    {
      "cell_type": "code",
      "source": [
        "# Periksa jumlah data\n",
        "print(f\"Jumlah data: {len(df)}\")\n",
        "print(f\"Jumlah kolom: {len(df.columns)}\")"
      ],
      "metadata": {
        "colab": {
          "base_uri": "https://localhost:8080/"
        },
        "id": "lLljFE61UWRQ",
        "outputId": "36f6a20c-84d2-4ffc-864e-89bd4f591433"
      },
      "execution_count": 4,
      "outputs": [
        {
          "output_type": "stream",
          "name": "stdout",
          "text": [
            "Jumlah data: 600\n",
            "Jumlah kolom: 25\n"
          ]
        }
      ]
    },
    {
      "cell_type": "code",
      "source": [
        "df['Fakultas'].value_counts()"
      ],
      "metadata": {
        "colab": {
          "base_uri": "https://localhost:8080/"
        },
        "id": "mu0T6XQRUuj6",
        "outputId": "df4daa1c-5af2-4b5d-d051-8bed2ee11769"
      },
      "execution_count": 5,
      "outputs": [
        {
          "output_type": "execute_result",
          "data": {
            "text/plain": [
              "Ilmu Teknik                       50\n",
              "Ilmu Ekonomi dan Bisnis           50\n",
              "Ilmu Sosial dan Humaniora         50\n",
              "Ilmu Profesi dan Ilmu Terapan     50\n",
              "Ilmu Seni                         50\n",
              "Ilmu Pendidikan                   50\n",
              "Ilmu Komputer dan Teknologi       50\n",
              "Ilmu Matematika dan IPA (MIPA)    50\n",
              "Ilmu Sastra dan Budaya            50\n",
              "Ilmu Kesehatan                    50\n",
              "Ilmu Olahraga                     50\n",
              "Ilmu Pertanian                    50\n",
              "Name: Fakultas, dtype: int64"
            ]
          },
          "metadata": {},
          "execution_count": 5
        }
      ]
    },
    {
      "cell_type": "markdown",
      "source": [
        "# **Visualisasi Data**\n",
        "\n",
        "---"
      ],
      "metadata": {
        "id": "0i7xnUM8FQH7"
      }
    },
    {
      "cell_type": "code",
      "source": [],
      "metadata": {
        "id": "h8NJcDicFTwB"
      },
      "execution_count": 5,
      "outputs": []
    },
    {
      "cell_type": "markdown",
      "source": [
        "# **Konversi Tipe Data**\n",
        "\n",
        "---"
      ],
      "metadata": {
        "id": "jNFgzsp_fmyP"
      }
    },
    {
      "cell_type": "code",
      "source": [
        "df.dtypes"
      ],
      "metadata": {
        "id": "JEUqTgVPL9fq",
        "colab": {
          "base_uri": "https://localhost:8080/"
        },
        "outputId": "1fa6fd96-a047-4cb8-d8df-0ebfd0e8b8bd"
      },
      "execution_count": 6,
      "outputs": [
        {
          "output_type": "execute_result",
          "data": {
            "text/plain": [
              "Memperbaiki Barang           int64\n",
              "Merakit Benda                int64\n",
              "Membongkar-Pasang Barang     int64\n",
              "Mengutak-atik Barang         int64\n",
              "Menganalisis Masalah         int64\n",
              "Mencari Solusi               int64\n",
              "Menghitung                   int64\n",
              "Berfikir Logis               int64\n",
              "Menari                       int64\n",
              "Bermusik                     int64\n",
              "Menggambar                   int64\n",
              "Menulis Cerita               int64\n",
              "Mengajar                     int64\n",
              "Memberi Saran                int64\n",
              "Memahami Orang Lain          int64\n",
              "Membantu                     int64\n",
              "Menjual Benda                int64\n",
              "Mengelola Acara              int64\n",
              "Memimpin Kelompok            int64\n",
              "Membujuk Orang               int64\n",
              "Mengikuti Aturan             int64\n",
              "Mengurutkan                  int64\n",
              "Membereskan Barang           int64\n",
              "Menjalankan Rutin            int64\n",
              "Fakultas                    object\n",
              "dtype: object"
            ]
          },
          "metadata": {},
          "execution_count": 6
        }
      ]
    },
    {
      "cell_type": "code",
      "source": [
        "# Mengubah tipe data kolom fitur menjadi boolean\n",
        "konversi_bool = ['Memperbaiki Barang', 'Merakit Benda', 'Membongkar-Pasang Barang', 'Mengutak-atik Barang', 'Menganalisis Masalah',\n",
        "               'Mencari Solusi', 'Menghitung', 'Berfikir Logis', 'Menari', 'Bermusik', 'Menggambar', 'Menulis Cerita', 'Mengajar',\n",
        "               'Memberi Saran', 'Memahami Orang Lain', 'Membantu', 'Menjual Benda', 'Mengelola Acara', 'Memimpin Kelompok',\n",
        "               'Membujuk Orang', 'Mengikuti Aturan', 'Mengurutkan', 'Membereskan Barang', 'Menjalankan Rutin']\n",
        "\n",
        "for kolom in konversi_bool:\n",
        "    df[kolom] = df[kolom].astype(bool)"
      ],
      "metadata": {
        "id": "llhEQmUrqEUP"
      },
      "execution_count": 7,
      "outputs": []
    },
    {
      "cell_type": "code",
      "source": [
        "df.info()"
      ],
      "metadata": {
        "id": "Ho30TWiEsfoF",
        "colab": {
          "base_uri": "https://localhost:8080/"
        },
        "outputId": "88c73011-ebdc-4904-bc7e-9fa459c53010"
      },
      "execution_count": 8,
      "outputs": [
        {
          "output_type": "stream",
          "name": "stdout",
          "text": [
            "<class 'pandas.core.frame.DataFrame'>\n",
            "RangeIndex: 600 entries, 0 to 599\n",
            "Data columns (total 25 columns):\n",
            " #   Column                    Non-Null Count  Dtype \n",
            "---  ------                    --------------  ----- \n",
            " 0   Memperbaiki Barang        600 non-null    bool  \n",
            " 1   Merakit Benda             600 non-null    bool  \n",
            " 2   Membongkar-Pasang Barang  600 non-null    bool  \n",
            " 3   Mengutak-atik Barang      600 non-null    bool  \n",
            " 4   Menganalisis Masalah      600 non-null    bool  \n",
            " 5   Mencari Solusi            600 non-null    bool  \n",
            " 6   Menghitung                600 non-null    bool  \n",
            " 7   Berfikir Logis            600 non-null    bool  \n",
            " 8   Menari                    600 non-null    bool  \n",
            " 9   Bermusik                  600 non-null    bool  \n",
            " 10  Menggambar                600 non-null    bool  \n",
            " 11  Menulis Cerita            600 non-null    bool  \n",
            " 12  Mengajar                  600 non-null    bool  \n",
            " 13  Memberi Saran             600 non-null    bool  \n",
            " 14  Memahami Orang Lain       600 non-null    bool  \n",
            " 15  Membantu                  600 non-null    bool  \n",
            " 16  Menjual Benda             600 non-null    bool  \n",
            " 17  Mengelola Acara           600 non-null    bool  \n",
            " 18  Memimpin Kelompok         600 non-null    bool  \n",
            " 19  Membujuk Orang            600 non-null    bool  \n",
            " 20  Mengikuti Aturan          600 non-null    bool  \n",
            " 21  Mengurutkan               600 non-null    bool  \n",
            " 22  Membereskan Barang        600 non-null    bool  \n",
            " 23  Menjalankan Rutin         600 non-null    bool  \n",
            " 24  Fakultas                  600 non-null    object\n",
            "dtypes: bool(24), object(1)\n",
            "memory usage: 18.9+ KB\n"
          ]
        }
      ]
    },
    {
      "cell_type": "markdown",
      "source": [
        "# **Memisahkan Fitur dan Label**\n",
        "\n",
        "---"
      ],
      "metadata": {
        "id": "KUUeGrbuLC9H"
      }
    },
    {
      "cell_type": "markdown",
      "source": [
        "Memisahkan kolom yang menjadi 2 variabel yaitu Fakultas sebagai (**labels**) dan Minat, Bakat, dan Aspirasi peserta didik sebagai (**features**)"
      ],
      "metadata": {
        "id": "zloBczvDmYCG"
      }
    },
    {
      "cell_type": "markdown",
      "source": [
        "## FATUR"
      ],
      "metadata": {
        "id": "mGevYRHL0f3S"
      }
    },
    {
      "cell_type": "code",
      "source": [
        "# Memisahkan fitur dan label\n",
        "features = df.iloc[:, :-1]  # Mengambil semua kolom kecuali kolom terakhir\n",
        "labels = df.iloc[:, -1]     # Mengambil kolom terakhir sebagai label\n",
        "\n",
        "print(features.shape)\n",
        "print(labels.shape)"
      ],
      "metadata": {
        "id": "bHiyoKFR0jpx",
        "colab": {
          "base_uri": "https://localhost:8080/"
        },
        "outputId": "c604b382-a344-4d98-afb0-36337dc2d136"
      },
      "execution_count": 9,
      "outputs": [
        {
          "output_type": "stream",
          "name": "stdout",
          "text": [
            "(600, 24)\n",
            "(600,)\n"
          ]
        }
      ]
    },
    {
      "cell_type": "markdown",
      "source": [
        "# **Data Preprocessing**\n",
        "\n",
        "---\n",
        "\n"
      ],
      "metadata": {
        "id": "1eyfugDpBRhH"
      }
    },
    {
      "cell_type": "markdown",
      "source": [
        "## FATUR"
      ],
      "metadata": {
        "id": "wE13QxKmzKDq"
      }
    },
    {
      "cell_type": "code",
      "source": [
        "# Konversi label kategorikal menjadi one-hot encoding\n",
        "labels_one_hot = pd.get_dummies(labels)\n",
        "\n",
        "# # Mencetak lima baris pertama dari DataFrame yang sudah diubah menjadi one-hot encoding\n",
        "print(labels_one_hot.head())\n",
        "\n",
        "# Memisahkan data menjadi data training dan data validation\n",
        "train_features, test_features, train_labels, test_labels = train_test_split(features,\n",
        "                                                                            labels_one_hot,\n",
        "                                                                            test_size=0.2,\n",
        "                                                                            random_state=42)\n",
        "\n",
        "print(\"\\ntrain_features: \", len(train_features))\n",
        "print(\"train_labels: \", len(train_labels))\n",
        "print(\"test_features: \", len(test_features))\n",
        "print(\"test_labels: \", len(test_labels))\n",
        "\n",
        "# Konversi DataFrame Pandas menjadi array NumPy\n",
        "train_features = np.array(train_features)\n",
        "test_features = np.array(test_features)\n",
        "train_labels = np.array(train_labels)\n",
        "test_labels = np.array(test_labels)\n",
        "\n",
        "# Normalisasi fitur\n",
        "train_features = tf.keras.utils.normalize(train_features, axis=1)\n",
        "test_features = tf.keras.utils.normalize(test_features, axis=1)"
      ],
      "metadata": {
        "id": "_wJUAzTwirnu",
        "colab": {
          "base_uri": "https://localhost:8080/"
        },
        "outputId": "081cb76f-9bb7-4e5b-b5fe-f6b3de855909"
      },
      "execution_count": 10,
      "outputs": [
        {
          "output_type": "stream",
          "name": "stdout",
          "text": [
            "   Ilmu Ekonomi dan Bisnis  Ilmu Kesehatan  Ilmu Komputer dan Teknologi  \\\n",
            "0                        0               0                            0   \n",
            "1                        1               0                            0   \n",
            "2                        0               0                            0   \n",
            "3                        0               0                            0   \n",
            "4                        0               0                            0   \n",
            "\n",
            "   Ilmu Matematika dan IPA (MIPA)  Ilmu Olahraga  Ilmu Pendidikan  \\\n",
            "0                               0              0                0   \n",
            "1                               0              0                0   \n",
            "2                               0              0                0   \n",
            "3                               0              0                0   \n",
            "4                               0              0                0   \n",
            "\n",
            "   Ilmu Pertanian  Ilmu Profesi dan Ilmu Terapan  Ilmu Sastra dan Budaya  \\\n",
            "0               0                              0                       0   \n",
            "1               0                              0                       0   \n",
            "2               0                              0                       0   \n",
            "3               0                              1                       0   \n",
            "4               0                              0                       0   \n",
            "\n",
            "   Ilmu Seni  Ilmu Sosial dan Humaniora  Ilmu Teknik  \n",
            "0          0                          0            1  \n",
            "1          0                          0            0  \n",
            "2          0                          1            0  \n",
            "3          0                          0            0  \n",
            "4          1                          0            0  \n",
            "\n",
            "train_features:  480\n",
            "train_labels:  480\n",
            "test_features:  120\n",
            "test_labels:  120\n"
          ]
        }
      ]
    },
    {
      "cell_type": "markdown",
      "source": [
        "# **Membangun Model**\n",
        "\n",
        "---"
      ],
      "metadata": {
        "id": "GnTtadV9S5wJ"
      }
    },
    {
      "cell_type": "code",
      "source": [
        "# model ini blm komplit jdi silahkan research kita pake layer brp, dan layer yg terakhir jgn di ganti\n",
        "model = Sequential([\n",
        "    Dense(units=64, activation='relu'),\n",
        "    Dropout(0.5),\n",
        "    Dense(units=64, activation='relu'),\n",
        "    Dropout(0.2),\n",
        "    Dense(units=32, activation='relu'),\n",
        "    Dropout(0.05),\n",
        "    Dense(units=16, activation='relu'),\n",
        "    Flatten(),\n",
        "    Dense(len(labels_one_hot.columns), activation=\"softmax\")\n",
        "])"
      ],
      "metadata": {
        "id": "5CRNHa3hTCOP"
      },
      "execution_count": 64,
      "outputs": []
    },
    {
      "cell_type": "markdown",
      "source": [
        "# **Buat Class Callbacks**\n",
        "\n",
        "---"
      ],
      "metadata": {
        "id": "uUwhUX7p6ChH"
      }
    },
    {
      "cell_type": "markdown",
      "source": [
        "Early stopping membantu mencegah overfitting dan menghasilkan model yang lebih baik dalam melakukan prediksi pada data baru yang belum pernah dilihat sebelumnya."
      ],
      "metadata": {
        "id": "ptPb5tI08ohe"
      }
    },
    {
      "cell_type": "code",
      "source": [
        "early_stopping = EarlyStopping(monitor='accuracy',\n",
        "                               patience=20,\n",
        "                               restore_best_weights=True)"
      ],
      "metadata": {
        "id": "yNzyAqRD8szF"
      },
      "execution_count": 65,
      "outputs": []
    },
    {
      "cell_type": "markdown",
      "source": [
        "# **Compile dan Melatih Model**\n",
        "\n",
        "\n",
        "\n",
        "\n",
        "---"
      ],
      "metadata": {
        "id": "GVAtRkjuTGqG"
      }
    },
    {
      "cell_type": "code",
      "source": [
        "model.compile(\n",
        "    optimizer=Adam(learning_rate=0.001),\n",
        "    loss=\"categorical_crossentropy\",\n",
        "    metrics=[\"accuracy\"]\n",
        ")\n",
        "\n",
        "history = model.fit(train_features,\n",
        "                    train_labels,\n",
        "                    validation_data=(test_features, test_labels),\n",
        "                    epochs=500,\n",
        "                    verbose=1,\n",
        "                    callbacks=[early_stopping])"
      ],
      "metadata": {
        "id": "KszBUz79TOQ_",
        "colab": {
          "base_uri": "https://localhost:8080/"
        },
        "outputId": "82bfd255-f0f3-4df4-ce1c-07aa400e7cb8"
      },
      "execution_count": 66,
      "outputs": [
        {
          "output_type": "stream",
          "name": "stdout",
          "text": [
            "Epoch 1/500\n",
            "15/15 [==============================] - 2s 31ms/step - loss: 2.4795 - accuracy: 0.0875 - val_loss: 2.4702 - val_accuracy: 0.1000\n",
            "Epoch 2/500\n",
            "15/15 [==============================] - 0s 10ms/step - loss: 2.4600 - accuracy: 0.1271 - val_loss: 2.4362 - val_accuracy: 0.2917\n",
            "Epoch 3/500\n",
            "15/15 [==============================] - 0s 9ms/step - loss: 2.4237 - accuracy: 0.1667 - val_loss: 2.3945 - val_accuracy: 0.2583\n",
            "Epoch 4/500\n",
            "15/15 [==============================] - 0s 8ms/step - loss: 2.3824 - accuracy: 0.2188 - val_loss: 2.3265 - val_accuracy: 0.2833\n",
            "Epoch 5/500\n",
            "15/15 [==============================] - 0s 9ms/step - loss: 2.3002 - accuracy: 0.2708 - val_loss: 2.2188 - val_accuracy: 0.3083\n",
            "Epoch 6/500\n",
            "15/15 [==============================] - 0s 8ms/step - loss: 2.1881 - accuracy: 0.3250 - val_loss: 2.0665 - val_accuracy: 0.4250\n",
            "Epoch 7/500\n",
            "15/15 [==============================] - 0s 6ms/step - loss: 2.0567 - accuracy: 0.3583 - val_loss: 1.8987 - val_accuracy: 0.4000\n",
            "Epoch 8/500\n",
            "15/15 [==============================] - 0s 6ms/step - loss: 1.9305 - accuracy: 0.3833 - val_loss: 1.7377 - val_accuracy: 0.5000\n",
            "Epoch 9/500\n",
            "15/15 [==============================] - 0s 7ms/step - loss: 1.7964 - accuracy: 0.4333 - val_loss: 1.5927 - val_accuracy: 0.5000\n",
            "Epoch 10/500\n",
            "15/15 [==============================] - 0s 6ms/step - loss: 1.6732 - accuracy: 0.4604 - val_loss: 1.4311 - val_accuracy: 0.5333\n",
            "Epoch 11/500\n",
            "15/15 [==============================] - 0s 6ms/step - loss: 1.5681 - accuracy: 0.4729 - val_loss: 1.3013 - val_accuracy: 0.5750\n",
            "Epoch 12/500\n",
            "15/15 [==============================] - 0s 6ms/step - loss: 1.5122 - accuracy: 0.5250 - val_loss: 1.2126 - val_accuracy: 0.6250\n",
            "Epoch 13/500\n",
            "15/15 [==============================] - 0s 6ms/step - loss: 1.3663 - accuracy: 0.5729 - val_loss: 1.1181 - val_accuracy: 0.7083\n",
            "Epoch 14/500\n",
            "15/15 [==============================] - 0s 6ms/step - loss: 1.3387 - accuracy: 0.5708 - val_loss: 1.0497 - val_accuracy: 0.7333\n",
            "Epoch 15/500\n",
            "15/15 [==============================] - 0s 6ms/step - loss: 1.2556 - accuracy: 0.5979 - val_loss: 0.9621 - val_accuracy: 0.7583\n",
            "Epoch 16/500\n",
            "15/15 [==============================] - 0s 6ms/step - loss: 1.2343 - accuracy: 0.6104 - val_loss: 0.9194 - val_accuracy: 0.7333\n",
            "Epoch 17/500\n",
            "15/15 [==============================] - 0s 6ms/step - loss: 1.1190 - accuracy: 0.6521 - val_loss: 0.8786 - val_accuracy: 0.7667\n",
            "Epoch 18/500\n",
            "15/15 [==============================] - 0s 6ms/step - loss: 1.0976 - accuracy: 0.6562 - val_loss: 0.8372 - val_accuracy: 0.7833\n",
            "Epoch 19/500\n",
            "15/15 [==============================] - 0s 5ms/step - loss: 1.1414 - accuracy: 0.6125 - val_loss: 0.8114 - val_accuracy: 0.7500\n",
            "Epoch 20/500\n",
            "15/15 [==============================] - 0s 5ms/step - loss: 1.0283 - accuracy: 0.6667 - val_loss: 0.8071 - val_accuracy: 0.7667\n",
            "Epoch 21/500\n",
            "15/15 [==============================] - 0s 6ms/step - loss: 1.0219 - accuracy: 0.6521 - val_loss: 0.7703 - val_accuracy: 0.7417\n",
            "Epoch 22/500\n",
            "15/15 [==============================] - 0s 5ms/step - loss: 0.9932 - accuracy: 0.6667 - val_loss: 0.7626 - val_accuracy: 0.7500\n",
            "Epoch 23/500\n",
            "15/15 [==============================] - 0s 7ms/step - loss: 0.9582 - accuracy: 0.6729 - val_loss: 0.7498 - val_accuracy: 0.7500\n",
            "Epoch 24/500\n",
            "15/15 [==============================] - 0s 6ms/step - loss: 0.9268 - accuracy: 0.7000 - val_loss: 0.7079 - val_accuracy: 0.7667\n",
            "Epoch 25/500\n",
            "15/15 [==============================] - 0s 6ms/step - loss: 0.9344 - accuracy: 0.7000 - val_loss: 0.7113 - val_accuracy: 0.7583\n",
            "Epoch 26/500\n",
            "15/15 [==============================] - 0s 5ms/step - loss: 0.8891 - accuracy: 0.7000 - val_loss: 0.7185 - val_accuracy: 0.7833\n",
            "Epoch 27/500\n",
            "15/15 [==============================] - 0s 6ms/step - loss: 0.8746 - accuracy: 0.7125 - val_loss: 0.6875 - val_accuracy: 0.7917\n",
            "Epoch 28/500\n",
            "15/15 [==============================] - 0s 5ms/step - loss: 0.8710 - accuracy: 0.7292 - val_loss: 0.6771 - val_accuracy: 0.7833\n",
            "Epoch 29/500\n",
            "15/15 [==============================] - 0s 5ms/step - loss: 0.8651 - accuracy: 0.7354 - val_loss: 0.6898 - val_accuracy: 0.7667\n",
            "Epoch 30/500\n",
            "15/15 [==============================] - 0s 5ms/step - loss: 0.8458 - accuracy: 0.7167 - val_loss: 0.6689 - val_accuracy: 0.8083\n",
            "Epoch 31/500\n",
            "15/15 [==============================] - 0s 5ms/step - loss: 0.8374 - accuracy: 0.7188 - val_loss: 0.6705 - val_accuracy: 0.7917\n",
            "Epoch 32/500\n",
            "15/15 [==============================] - 0s 5ms/step - loss: 0.8329 - accuracy: 0.7333 - val_loss: 0.6570 - val_accuracy: 0.7917\n",
            "Epoch 33/500\n",
            "15/15 [==============================] - 0s 5ms/step - loss: 0.8362 - accuracy: 0.7125 - val_loss: 0.6417 - val_accuracy: 0.8000\n",
            "Epoch 34/500\n",
            "15/15 [==============================] - 0s 5ms/step - loss: 0.7993 - accuracy: 0.7188 - val_loss: 0.6289 - val_accuracy: 0.8000\n",
            "Epoch 35/500\n",
            "15/15 [==============================] - 0s 5ms/step - loss: 0.7818 - accuracy: 0.7437 - val_loss: 0.6241 - val_accuracy: 0.8083\n",
            "Epoch 36/500\n",
            "15/15 [==============================] - 0s 5ms/step - loss: 0.7681 - accuracy: 0.7312 - val_loss: 0.6357 - val_accuracy: 0.7750\n",
            "Epoch 37/500\n",
            "15/15 [==============================] - 0s 5ms/step - loss: 0.7767 - accuracy: 0.7396 - val_loss: 0.6334 - val_accuracy: 0.8000\n",
            "Epoch 38/500\n",
            "15/15 [==============================] - 0s 4ms/step - loss: 0.7826 - accuracy: 0.7312 - val_loss: 0.6111 - val_accuracy: 0.8083\n",
            "Epoch 39/500\n",
            "15/15 [==============================] - 0s 6ms/step - loss: 0.7517 - accuracy: 0.7437 - val_loss: 0.6187 - val_accuracy: 0.8000\n",
            "Epoch 40/500\n",
            "15/15 [==============================] - 0s 6ms/step - loss: 0.6576 - accuracy: 0.7896 - val_loss: 0.6133 - val_accuracy: 0.8083\n",
            "Epoch 41/500\n",
            "15/15 [==============================] - 0s 5ms/step - loss: 0.7220 - accuracy: 0.7708 - val_loss: 0.5998 - val_accuracy: 0.8083\n",
            "Epoch 42/500\n",
            "15/15 [==============================] - 0s 5ms/step - loss: 0.6898 - accuracy: 0.7646 - val_loss: 0.6002 - val_accuracy: 0.8083\n",
            "Epoch 43/500\n",
            "15/15 [==============================] - 0s 5ms/step - loss: 0.7176 - accuracy: 0.7375 - val_loss: 0.6034 - val_accuracy: 0.8083\n",
            "Epoch 44/500\n",
            "15/15 [==============================] - 0s 6ms/step - loss: 0.7058 - accuracy: 0.7583 - val_loss: 0.6118 - val_accuracy: 0.8000\n",
            "Epoch 45/500\n",
            "15/15 [==============================] - 0s 5ms/step - loss: 0.6764 - accuracy: 0.7771 - val_loss: 0.5958 - val_accuracy: 0.8083\n",
            "Epoch 46/500\n",
            "15/15 [==============================] - 0s 6ms/step - loss: 0.7257 - accuracy: 0.7458 - val_loss: 0.5996 - val_accuracy: 0.8167\n",
            "Epoch 47/500\n",
            "15/15 [==============================] - 0s 6ms/step - loss: 0.6661 - accuracy: 0.7708 - val_loss: 0.6042 - val_accuracy: 0.8083\n",
            "Epoch 48/500\n",
            "15/15 [==============================] - 0s 6ms/step - loss: 0.6660 - accuracy: 0.7729 - val_loss: 0.5960 - val_accuracy: 0.8167\n",
            "Epoch 49/500\n",
            "15/15 [==============================] - 0s 5ms/step - loss: 0.6561 - accuracy: 0.7771 - val_loss: 0.5807 - val_accuracy: 0.8250\n",
            "Epoch 50/500\n",
            "15/15 [==============================] - 0s 6ms/step - loss: 0.6888 - accuracy: 0.7458 - val_loss: 0.5949 - val_accuracy: 0.8167\n",
            "Epoch 51/500\n",
            "15/15 [==============================] - 0s 6ms/step - loss: 0.6271 - accuracy: 0.7917 - val_loss: 0.5852 - val_accuracy: 0.8083\n",
            "Epoch 52/500\n",
            "15/15 [==============================] - 0s 6ms/step - loss: 0.7151 - accuracy: 0.7542 - val_loss: 0.5794 - val_accuracy: 0.8417\n",
            "Epoch 53/500\n",
            "15/15 [==============================] - 0s 6ms/step - loss: 0.6150 - accuracy: 0.7833 - val_loss: 0.5835 - val_accuracy: 0.8250\n",
            "Epoch 54/500\n",
            "15/15 [==============================] - 0s 5ms/step - loss: 0.6353 - accuracy: 0.7792 - val_loss: 0.5925 - val_accuracy: 0.8000\n",
            "Epoch 55/500\n",
            "15/15 [==============================] - 0s 5ms/step - loss: 0.6160 - accuracy: 0.8021 - val_loss: 0.5773 - val_accuracy: 0.8250\n",
            "Epoch 56/500\n",
            "15/15 [==============================] - 0s 6ms/step - loss: 0.6053 - accuracy: 0.8000 - val_loss: 0.5817 - val_accuracy: 0.8083\n",
            "Epoch 57/500\n",
            "15/15 [==============================] - 0s 5ms/step - loss: 0.6763 - accuracy: 0.7667 - val_loss: 0.5790 - val_accuracy: 0.8083\n",
            "Epoch 58/500\n",
            "15/15 [==============================] - 0s 6ms/step - loss: 0.6444 - accuracy: 0.7958 - val_loss: 0.5760 - val_accuracy: 0.8250\n",
            "Epoch 59/500\n",
            "15/15 [==============================] - 0s 6ms/step - loss: 0.6582 - accuracy: 0.7771 - val_loss: 0.5836 - val_accuracy: 0.8083\n",
            "Epoch 60/500\n",
            "15/15 [==============================] - 0s 5ms/step - loss: 0.6343 - accuracy: 0.7854 - val_loss: 0.5770 - val_accuracy: 0.8250\n",
            "Epoch 61/500\n",
            "15/15 [==============================] - 0s 6ms/step - loss: 0.6606 - accuracy: 0.7812 - val_loss: 0.5860 - val_accuracy: 0.8333\n",
            "Epoch 62/500\n",
            "15/15 [==============================] - 0s 5ms/step - loss: 0.6062 - accuracy: 0.7875 - val_loss: 0.5807 - val_accuracy: 0.8333\n",
            "Epoch 63/500\n",
            "15/15 [==============================] - 0s 5ms/step - loss: 0.5972 - accuracy: 0.8000 - val_loss: 0.5757 - val_accuracy: 0.8250\n",
            "Epoch 64/500\n",
            "15/15 [==============================] - 0s 6ms/step - loss: 0.5881 - accuracy: 0.7958 - val_loss: 0.5833 - val_accuracy: 0.8250\n",
            "Epoch 65/500\n",
            "15/15 [==============================] - 0s 4ms/step - loss: 0.6043 - accuracy: 0.7937 - val_loss: 0.5850 - val_accuracy: 0.8167\n",
            "Epoch 66/500\n",
            "15/15 [==============================] - 0s 6ms/step - loss: 0.6158 - accuracy: 0.7688 - val_loss: 0.5728 - val_accuracy: 0.8417\n",
            "Epoch 67/500\n",
            "15/15 [==============================] - 0s 6ms/step - loss: 0.5597 - accuracy: 0.7875 - val_loss: 0.5646 - val_accuracy: 0.8250\n",
            "Epoch 68/500\n",
            "15/15 [==============================] - 0s 5ms/step - loss: 0.5768 - accuracy: 0.8042 - val_loss: 0.5838 - val_accuracy: 0.8167\n",
            "Epoch 69/500\n",
            "15/15 [==============================] - 0s 5ms/step - loss: 0.6031 - accuracy: 0.8000 - val_loss: 0.5570 - val_accuracy: 0.8167\n",
            "Epoch 70/500\n",
            "15/15 [==============================] - 0s 5ms/step - loss: 0.6004 - accuracy: 0.7833 - val_loss: 0.5671 - val_accuracy: 0.8167\n",
            "Epoch 71/500\n",
            "15/15 [==============================] - 0s 5ms/step - loss: 0.5703 - accuracy: 0.8042 - val_loss: 0.5724 - val_accuracy: 0.8250\n",
            "Epoch 72/500\n",
            "15/15 [==============================] - 0s 6ms/step - loss: 0.5914 - accuracy: 0.7812 - val_loss: 0.5598 - val_accuracy: 0.8500\n",
            "Epoch 73/500\n",
            "15/15 [==============================] - 0s 4ms/step - loss: 0.5789 - accuracy: 0.7875 - val_loss: 0.5590 - val_accuracy: 0.8500\n",
            "Epoch 74/500\n",
            "15/15 [==============================] - 0s 5ms/step - loss: 0.5715 - accuracy: 0.8062 - val_loss: 0.5720 - val_accuracy: 0.8167\n",
            "Epoch 75/500\n",
            "15/15 [==============================] - 0s 4ms/step - loss: 0.6072 - accuracy: 0.7979 - val_loss: 0.5810 - val_accuracy: 0.8083\n",
            "Epoch 76/500\n",
            "15/15 [==============================] - 0s 5ms/step - loss: 0.5668 - accuracy: 0.8062 - val_loss: 0.5746 - val_accuracy: 0.8083\n",
            "Epoch 77/500\n",
            "15/15 [==============================] - 0s 4ms/step - loss: 0.6062 - accuracy: 0.7917 - val_loss: 0.5638 - val_accuracy: 0.8250\n",
            "Epoch 78/500\n",
            "15/15 [==============================] - 0s 6ms/step - loss: 0.5317 - accuracy: 0.8000 - val_loss: 0.5728 - val_accuracy: 0.8167\n",
            "Epoch 79/500\n",
            "15/15 [==============================] - 0s 4ms/step - loss: 0.5232 - accuracy: 0.8125 - val_loss: 0.5618 - val_accuracy: 0.8333\n",
            "Epoch 80/500\n",
            "15/15 [==============================] - 0s 5ms/step - loss: 0.5629 - accuracy: 0.7958 - val_loss: 0.5639 - val_accuracy: 0.8333\n",
            "Epoch 81/500\n",
            "15/15 [==============================] - 0s 5ms/step - loss: 0.5371 - accuracy: 0.8062 - val_loss: 0.5768 - val_accuracy: 0.8000\n",
            "Epoch 82/500\n",
            "15/15 [==============================] - 0s 6ms/step - loss: 0.5413 - accuracy: 0.8188 - val_loss: 0.5640 - val_accuracy: 0.8167\n",
            "Epoch 83/500\n",
            "15/15 [==============================] - 0s 5ms/step - loss: 0.5199 - accuracy: 0.8083 - val_loss: 0.5629 - val_accuracy: 0.8417\n",
            "Epoch 84/500\n",
            "15/15 [==============================] - 0s 6ms/step - loss: 0.5161 - accuracy: 0.8292 - val_loss: 0.5578 - val_accuracy: 0.8417\n",
            "Epoch 85/500\n",
            "15/15 [==============================] - 0s 6ms/step - loss: 0.5122 - accuracy: 0.8146 - val_loss: 0.5677 - val_accuracy: 0.8167\n",
            "Epoch 86/500\n",
            "15/15 [==============================] - 0s 6ms/step - loss: 0.5080 - accuracy: 0.8271 - val_loss: 0.5820 - val_accuracy: 0.8167\n",
            "Epoch 87/500\n",
            "15/15 [==============================] - 0s 4ms/step - loss: 0.5471 - accuracy: 0.8125 - val_loss: 0.5784 - val_accuracy: 0.8500\n",
            "Epoch 88/500\n",
            "15/15 [==============================] - 0s 4ms/step - loss: 0.5231 - accuracy: 0.8083 - val_loss: 0.5682 - val_accuracy: 0.8417\n",
            "Epoch 89/500\n",
            "15/15 [==============================] - 0s 6ms/step - loss: 0.5308 - accuracy: 0.8042 - val_loss: 0.5702 - val_accuracy: 0.8333\n",
            "Epoch 90/500\n",
            "15/15 [==============================] - 0s 6ms/step - loss: 0.5016 - accuracy: 0.8292 - val_loss: 0.5810 - val_accuracy: 0.8417\n",
            "Epoch 91/500\n",
            "15/15 [==============================] - 0s 6ms/step - loss: 0.4862 - accuracy: 0.8333 - val_loss: 0.5758 - val_accuracy: 0.8333\n",
            "Epoch 92/500\n",
            "15/15 [==============================] - 0s 6ms/step - loss: 0.5229 - accuracy: 0.8146 - val_loss: 0.5719 - val_accuracy: 0.8167\n",
            "Epoch 93/500\n",
            "15/15 [==============================] - 0s 6ms/step - loss: 0.5167 - accuracy: 0.8188 - val_loss: 0.5956 - val_accuracy: 0.8167\n",
            "Epoch 94/500\n",
            "15/15 [==============================] - 0s 5ms/step - loss: 0.4877 - accuracy: 0.8313 - val_loss: 0.5717 - val_accuracy: 0.8500\n",
            "Epoch 95/500\n",
            "15/15 [==============================] - 0s 6ms/step - loss: 0.5002 - accuracy: 0.8000 - val_loss: 0.5695 - val_accuracy: 0.8333\n",
            "Epoch 96/500\n",
            "15/15 [==============================] - 0s 6ms/step - loss: 0.4908 - accuracy: 0.8188 - val_loss: 0.5725 - val_accuracy: 0.8250\n",
            "Epoch 97/500\n",
            "15/15 [==============================] - 0s 5ms/step - loss: 0.5082 - accuracy: 0.8271 - val_loss: 0.5606 - val_accuracy: 0.8417\n",
            "Epoch 98/500\n",
            "15/15 [==============================] - 0s 5ms/step - loss: 0.4616 - accuracy: 0.8500 - val_loss: 0.5801 - val_accuracy: 0.8417\n",
            "Epoch 99/500\n",
            "15/15 [==============================] - 0s 5ms/step - loss: 0.4466 - accuracy: 0.8417 - val_loss: 0.5762 - val_accuracy: 0.8417\n",
            "Epoch 100/500\n",
            "15/15 [==============================] - 0s 6ms/step - loss: 0.4946 - accuracy: 0.8271 - val_loss: 0.6070 - val_accuracy: 0.8333\n",
            "Epoch 101/500\n",
            "15/15 [==============================] - 0s 6ms/step - loss: 0.4743 - accuracy: 0.8271 - val_loss: 0.5972 - val_accuracy: 0.8250\n",
            "Epoch 102/500\n",
            "15/15 [==============================] - 0s 5ms/step - loss: 0.5094 - accuracy: 0.8188 - val_loss: 0.5865 - val_accuracy: 0.8333\n",
            "Epoch 103/500\n",
            "15/15 [==============================] - 0s 5ms/step - loss: 0.5109 - accuracy: 0.8021 - val_loss: 0.5869 - val_accuracy: 0.8333\n",
            "Epoch 104/500\n",
            "15/15 [==============================] - 0s 5ms/step - loss: 0.4674 - accuracy: 0.8313 - val_loss: 0.6045 - val_accuracy: 0.8333\n",
            "Epoch 105/500\n",
            "15/15 [==============================] - 0s 6ms/step - loss: 0.4764 - accuracy: 0.8333 - val_loss: 0.5986 - val_accuracy: 0.8417\n",
            "Epoch 106/500\n",
            "15/15 [==============================] - 0s 6ms/step - loss: 0.4767 - accuracy: 0.8375 - val_loss: 0.5892 - val_accuracy: 0.8167\n",
            "Epoch 107/500\n",
            "15/15 [==============================] - 0s 5ms/step - loss: 0.4606 - accuracy: 0.8333 - val_loss: 0.5910 - val_accuracy: 0.8500\n",
            "Epoch 108/500\n",
            "15/15 [==============================] - 0s 5ms/step - loss: 0.4556 - accuracy: 0.8375 - val_loss: 0.5841 - val_accuracy: 0.8500\n",
            "Epoch 109/500\n",
            "15/15 [==============================] - 0s 6ms/step - loss: 0.4768 - accuracy: 0.8313 - val_loss: 0.5785 - val_accuracy: 0.8417\n",
            "Epoch 110/500\n",
            "15/15 [==============================] - 0s 5ms/step - loss: 0.4394 - accuracy: 0.8479 - val_loss: 0.6031 - val_accuracy: 0.8500\n",
            "Epoch 111/500\n",
            "15/15 [==============================] - 0s 6ms/step - loss: 0.4782 - accuracy: 0.8250 - val_loss: 0.5872 - val_accuracy: 0.8500\n",
            "Epoch 112/500\n",
            "15/15 [==============================] - 0s 5ms/step - loss: 0.4376 - accuracy: 0.8646 - val_loss: 0.5906 - val_accuracy: 0.8417\n",
            "Epoch 113/500\n",
            "15/15 [==============================] - 0s 6ms/step - loss: 0.4404 - accuracy: 0.8479 - val_loss: 0.5889 - val_accuracy: 0.8417\n",
            "Epoch 114/500\n",
            "15/15 [==============================] - 0s 5ms/step - loss: 0.4614 - accuracy: 0.8375 - val_loss: 0.5878 - val_accuracy: 0.8417\n",
            "Epoch 115/500\n",
            "15/15 [==============================] - 0s 5ms/step - loss: 0.4469 - accuracy: 0.8438 - val_loss: 0.5903 - val_accuracy: 0.8417\n",
            "Epoch 116/500\n",
            "15/15 [==============================] - 0s 6ms/step - loss: 0.4400 - accuracy: 0.8438 - val_loss: 0.6027 - val_accuracy: 0.8417\n",
            "Epoch 117/500\n",
            "15/15 [==============================] - 0s 5ms/step - loss: 0.4958 - accuracy: 0.8167 - val_loss: 0.5973 - val_accuracy: 0.8417\n",
            "Epoch 118/500\n",
            "15/15 [==============================] - 0s 8ms/step - loss: 0.5023 - accuracy: 0.8375 - val_loss: 0.6062 - val_accuracy: 0.8500\n",
            "Epoch 119/500\n",
            "15/15 [==============================] - 0s 7ms/step - loss: 0.4515 - accuracy: 0.8417 - val_loss: 0.5809 - val_accuracy: 0.8417\n",
            "Epoch 120/500\n",
            "15/15 [==============================] - 0s 7ms/step - loss: 0.4820 - accuracy: 0.8417 - val_loss: 0.6152 - val_accuracy: 0.8500\n",
            "Epoch 121/500\n",
            "15/15 [==============================] - 0s 9ms/step - loss: 0.4674 - accuracy: 0.8375 - val_loss: 0.6122 - val_accuracy: 0.8417\n",
            "Epoch 122/500\n",
            "15/15 [==============================] - 0s 8ms/step - loss: 0.4495 - accuracy: 0.8333 - val_loss: 0.6063 - val_accuracy: 0.8333\n",
            "Epoch 123/500\n",
            "15/15 [==============================] - 0s 7ms/step - loss: 0.4589 - accuracy: 0.8396 - val_loss: 0.5861 - val_accuracy: 0.8250\n",
            "Epoch 124/500\n",
            "15/15 [==============================] - 0s 8ms/step - loss: 0.4313 - accuracy: 0.8500 - val_loss: 0.5873 - val_accuracy: 0.8250\n",
            "Epoch 125/500\n",
            "15/15 [==============================] - 0s 9ms/step - loss: 0.4693 - accuracy: 0.8354 - val_loss: 0.5934 - val_accuracy: 0.8333\n",
            "Epoch 126/500\n",
            "15/15 [==============================] - 0s 9ms/step - loss: 0.4228 - accuracy: 0.8417 - val_loss: 0.5942 - val_accuracy: 0.8333\n",
            "Epoch 127/500\n",
            "15/15 [==============================] - 0s 8ms/step - loss: 0.4064 - accuracy: 0.8625 - val_loss: 0.5844 - val_accuracy: 0.8417\n",
            "Epoch 128/500\n",
            "15/15 [==============================] - 0s 7ms/step - loss: 0.4185 - accuracy: 0.8667 - val_loss: 0.6036 - val_accuracy: 0.8333\n",
            "Epoch 129/500\n",
            "15/15 [==============================] - 0s 7ms/step - loss: 0.4398 - accuracy: 0.8396 - val_loss: 0.6026 - val_accuracy: 0.8333\n",
            "Epoch 130/500\n",
            "15/15 [==============================] - 0s 7ms/step - loss: 0.4226 - accuracy: 0.8479 - val_loss: 0.6210 - val_accuracy: 0.8417\n",
            "Epoch 131/500\n",
            "15/15 [==============================] - 0s 7ms/step - loss: 0.4417 - accuracy: 0.8562 - val_loss: 0.6015 - val_accuracy: 0.8500\n",
            "Epoch 132/500\n",
            "15/15 [==============================] - 0s 6ms/step - loss: 0.4043 - accuracy: 0.8708 - val_loss: 0.5951 - val_accuracy: 0.8417\n",
            "Epoch 133/500\n",
            "15/15 [==============================] - 0s 6ms/step - loss: 0.4365 - accuracy: 0.8521 - val_loss: 0.6208 - val_accuracy: 0.8500\n",
            "Epoch 134/500\n",
            "15/15 [==============================] - 0s 7ms/step - loss: 0.4415 - accuracy: 0.8458 - val_loss: 0.6108 - val_accuracy: 0.8417\n",
            "Epoch 135/500\n",
            "15/15 [==============================] - 0s 8ms/step - loss: 0.4468 - accuracy: 0.8313 - val_loss: 0.5908 - val_accuracy: 0.8417\n",
            "Epoch 136/500\n",
            "15/15 [==============================] - 0s 6ms/step - loss: 0.4018 - accuracy: 0.8667 - val_loss: 0.6022 - val_accuracy: 0.8500\n",
            "Epoch 137/500\n",
            "15/15 [==============================] - 0s 8ms/step - loss: 0.3905 - accuracy: 0.8542 - val_loss: 0.5888 - val_accuracy: 0.8417\n",
            "Epoch 138/500\n",
            "15/15 [==============================] - 0s 8ms/step - loss: 0.4280 - accuracy: 0.8375 - val_loss: 0.5944 - val_accuracy: 0.8417\n",
            "Epoch 139/500\n",
            "15/15 [==============================] - 0s 8ms/step - loss: 0.4065 - accuracy: 0.8438 - val_loss: 0.5898 - val_accuracy: 0.8250\n",
            "Epoch 140/500\n",
            "15/15 [==============================] - 0s 6ms/step - loss: 0.4128 - accuracy: 0.8521 - val_loss: 0.6006 - val_accuracy: 0.8250\n",
            "Epoch 141/500\n",
            "15/15 [==============================] - 0s 6ms/step - loss: 0.3848 - accuracy: 0.8667 - val_loss: 0.6046 - val_accuracy: 0.8333\n",
            "Epoch 142/500\n",
            "15/15 [==============================] - 0s 7ms/step - loss: 0.3718 - accuracy: 0.8625 - val_loss: 0.6142 - val_accuracy: 0.8417\n",
            "Epoch 143/500\n",
            "15/15 [==============================] - 0s 7ms/step - loss: 0.4025 - accuracy: 0.8583 - val_loss: 0.6163 - val_accuracy: 0.8417\n",
            "Epoch 144/500\n",
            "15/15 [==============================] - 0s 8ms/step - loss: 0.3723 - accuracy: 0.8687 - val_loss: 0.6307 - val_accuracy: 0.8333\n",
            "Epoch 145/500\n",
            "15/15 [==============================] - 0s 7ms/step - loss: 0.4302 - accuracy: 0.8396 - val_loss: 0.6177 - val_accuracy: 0.8417\n",
            "Epoch 146/500\n",
            "15/15 [==============================] - 0s 6ms/step - loss: 0.3732 - accuracy: 0.8521 - val_loss: 0.6267 - val_accuracy: 0.8417\n",
            "Epoch 147/500\n",
            "15/15 [==============================] - 0s 7ms/step - loss: 0.4049 - accuracy: 0.8583 - val_loss: 0.6180 - val_accuracy: 0.8417\n",
            "Epoch 148/500\n",
            "15/15 [==============================] - 0s 8ms/step - loss: 0.4177 - accuracy: 0.8542 - val_loss: 0.5993 - val_accuracy: 0.8333\n",
            "Epoch 149/500\n",
            "15/15 [==============================] - 0s 6ms/step - loss: 0.3923 - accuracy: 0.8646 - val_loss: 0.6241 - val_accuracy: 0.8417\n",
            "Epoch 150/500\n",
            "15/15 [==============================] - 0s 8ms/step - loss: 0.3656 - accuracy: 0.8687 - val_loss: 0.6093 - val_accuracy: 0.8250\n",
            "Epoch 151/500\n",
            "15/15 [==============================] - 0s 8ms/step - loss: 0.3828 - accuracy: 0.8542 - val_loss: 0.6024 - val_accuracy: 0.8500\n",
            "Epoch 152/500\n",
            "15/15 [==============================] - 0s 7ms/step - loss: 0.3618 - accuracy: 0.8625 - val_loss: 0.6344 - val_accuracy: 0.8333\n"
          ]
        }
      ]
    },
    {
      "cell_type": "code",
      "source": [
        "# Menampilkan nilai accuracy dan val_accuracy pada akhir pelatihan\n",
        "nilai_accuracy = round(history.history['accuracy'][-1] * 100)\n",
        "nilai_val_accuracy = round(history.history['val_accuracy'][-1] * 100)\n",
        "print(f'Nilai Accuracy: {nilai_accuracy}%')\n",
        "print(f'Nilai Val_Accuracy: {nilai_val_accuracy}%')"
      ],
      "metadata": {
        "id": "oTlO3ykGGDK3",
        "colab": {
          "base_uri": "https://localhost:8080/"
        },
        "outputId": "705cbfab-3dde-4cba-f255-82342de297a9"
      },
      "execution_count": 27,
      "outputs": [
        {
          "output_type": "stream",
          "name": "stdout",
          "text": [
            "Nilai Accuracy: 88%\n",
            "Nilai Val_Accuracy: 84%\n"
          ]
        }
      ]
    },
    {
      "cell_type": "code",
      "source": [
        "model.summary()"
      ],
      "metadata": {
        "id": "cAo8PSNLQp_9",
        "colab": {
          "base_uri": "https://localhost:8080/"
        },
        "outputId": "3bc56941-280f-4f3c-d1b0-aadb036263ff"
      },
      "execution_count": 52,
      "outputs": [
        {
          "output_type": "stream",
          "name": "stdout",
          "text": [
            "Model: \"sequential_7\"\n",
            "_________________________________________________________________\n",
            " Layer (type)                Output Shape              Param #   \n",
            "=================================================================\n",
            " dense_33 (Dense)            (None, 64)                1600      \n",
            "                                                                 \n",
            " dropout_20 (Dropout)        (None, 64)                0         \n",
            "                                                                 \n",
            " dense_34 (Dense)            (None, 32)                2080      \n",
            "                                                                 \n",
            " dropout_21 (Dropout)        (None, 32)                0         \n",
            "                                                                 \n",
            " dense_35 (Dense)            (None, 16)                528       \n",
            "                                                                 \n",
            " flatten_7 (Flatten)         (None, 16)                0         \n",
            "                                                                 \n",
            " dense_36 (Dense)            (None, 12)                204       \n",
            "                                                                 \n",
            "=================================================================\n",
            "Total params: 4412 (17.23 KB)\n",
            "Trainable params: 4412 (17.23 KB)\n",
            "Non-trainable params: 0 (0.00 Byte)\n",
            "_________________________________________________________________\n"
          ]
        }
      ]
    },
    {
      "cell_type": "markdown",
      "source": [
        "# **Plot Loss dan Accuracy**\n",
        "\n",
        "---"
      ],
      "metadata": {
        "id": "hHq-SWe5TIgE"
      }
    },
    {
      "cell_type": "markdown",
      "source": [
        "| Algorithnm | Kolom 1) | Kolom 2 | Kolom 3 | Kolom 4\n",
        "| --- | --- | --- | --- | --- |\n",
        "| NEURAL NETWORK 1 | 0.869 | 0.788 | 0.820 | 0.833|\n",
        "| NEURAL NETWORK 2 | 0.827 | 0.780 | 0.790 | 0.785 |"
      ],
      "metadata": {
        "id": "EyvHtzZ8I3ob"
      }
    },
    {
      "cell_type": "code",
      "source": [
        "# plot training dan validation accuracy per epoch\n",
        "plt.plot(history.history['accuracy'])\n",
        "plt.plot(history.history['val_accuracy'])\n",
        "plt.title('model accuracy')\n",
        "plt.ylabel('accuracy')\n",
        "plt.xlabel('epoch')\n",
        "plt.legend(['Train', 'Validation'], loc='upper left')\n",
        "plt.show()\n",
        "print(\"\\n\")\n",
        "\n",
        "# plot training dan validation loss per epoch\n",
        "plt.plot(history.history['loss'])\n",
        "plt.plot(history.history['val_loss'])\n",
        "plt.title('model loss')\n",
        "plt.ylabel('loss')\n",
        "plt.xlabel('epoch')\n",
        "plt.legend(['Train', 'Validation'], loc='upper left')\n",
        "plt.show()"
      ],
      "metadata": {
        "id": "U5r6gcHYTOYy",
        "colab": {
          "base_uri": "https://localhost:8080/",
          "height": 962
        },
        "outputId": "04f460bb-586f-4d8c-b79a-924660ccf2f4"
      },
      "execution_count": 67,
      "outputs": [
        {
          "output_type": "display_data",
          "data": {
            "text/plain": [
              "<Figure size 640x480 with 1 Axes>"
            ],
            "image/png": "[encoded data removed]"
          },
          "metadata": {}
        },
        {
          "output_type": "stream",
          "name": "stdout",
          "text": [
            "\n",
            "\n"
          ]
        },
        {
          "output_type": "display_data",
          "data": {
            "text/plain": [
              "<Figure size 640x480 with 1 Axes>"
            ],
            "image/png": "[encoded data removed]"
          },
          "metadata": {}
        }
      ]
    },
    {
      "cell_type": "markdown",
      "source": [
        "# **Evaluasi Model**\n",
        "\n",
        "---"
      ],
      "metadata": {
        "id": "04ct7VfQSRd5"
      }
    },
    {
      "cell_type": "code",
      "source": [
        "# Evaluasi model\n",
        "loss, accuracy = model.evaluate(test_features, test_labels)\n",
        "print(f'Loss: {loss}')\n",
        "print(f'Accuracy: {accuracy}')"
      ],
      "metadata": {
        "colab": {
          "base_uri": "https://localhost:8080/"
        },
        "id": "V_9ZoMcFoT1n",
        "outputId": "25d51ffa-192e-4895-cee8-d7cf033fa696"
      },
      "execution_count": 17,
      "outputs": [
        {
          "output_type": "stream",
          "name": "stdout",
          "text": [
            "4/4 [==============================] - 0s 3ms/step - loss: 0.7657 - accuracy: 0.8417\n",
            "Loss: 0.7657029032707214\n",
            "Accuracy: 0.8416666388511658\n"
          ]
        }
      ]
    },
    {
      "cell_type": "markdown",
      "source": [
        "# **Predict Model**\n",
        "\n",
        "---"
      ],
      "metadata": {
        "id": "jzANzdY_fQo9"
      }
    },
    {
      "cell_type": "code",
      "source": [
        "# Input fitur yang akan diprediksi (sesuaikan dengan jumlah fitur yang digunakan dalam model)\n",
        "input_features = np.array([[0, 0, 0, 0, 0, 0, 0, 1, 1, 0, 1, 0, 1, 0, 1, 1, 1, 0, 1, 0, 1, 0, 0, 1]])\n",
        "\n",
        "# Normalisasi input fitur\n",
        "input_features_normalized = tf.keras.utils.normalize(input_features, axis=1)\n",
        "\n",
        "# Melakukan prediksi berdasarkan input fitur\n",
        "predictions = model.predict(input_features_normalized)\n",
        "\n",
        "# Menampilkan hasil prediksi\n",
        "print(predictions)\n",
        "\n",
        "# Mendapatkan indeks dengan nilai tertinggi dari output model\n",
        "predicted_class_index = np.argmax(predictions)\n",
        "print(\"\\nIndeks dengan nilai tertinggi:\", predicted_class_index)\n",
        "\n",
        "# Label Encoding yang telah digunakan sebelumnya\n",
        "label_encoder = LabelEncoder()\n",
        "label_encoder.fit(labels)\n",
        "\n",
        "# Invers transform dari indeks ke label fakultas\n",
        "predicted_fakultas = label_encoder.inverse_transform([predicted_class_index])\n",
        "\n",
        "# Menampilkan nama fakultas yang diprediksi berdasarkan indeks\n",
        "print(\"\\nKamu cocok dengan Fakultas:\", predicted_fakultas[0])"
      ],
      "metadata": {
        "colab": {
          "base_uri": "https://localhost:8080/"
        },
        "id": "r7UdfCIjielt",
        "outputId": "97527211-c06a-447f-d78b-401d12318f88"
      },
      "execution_count": 23,
      "outputs": [
        {
          "output_type": "stream",
          "name": "stdout",
          "text": [
            "1/1 [==============================] - 0s 146ms/step\n",
            "[[2.05268562e-02 5.13351639e-04 1.19500255e-04 6.65774988e-03\n",
            "  3.04279238e-01 5.10794576e-04 1.80713378e-05 1.80851278e-09\n",
            "  2.01124977e-02 6.36535943e-01 2.75090360e-06 1.07232425e-02]]\n",
            "\n",
            "Indeks dengan nilai tertinggi: 9\n",
            "\n",
            "Kamu cocok dengan Fakultas: Ilmu Seni\n"
          ]
        }
      ]
    },
    {
      "cell_type": "markdown",
      "source": [
        "# **Save Model**\n",
        "\n",
        "---"
      ],
      "metadata": {
        "id": "h9MSpgC7Uo7E"
      }
    },
    {
      "cell_type": "code",
      "source": [
        "model.save(\"sistem_rekomendasi_jurusan.h5\")"
      ],
      "metadata": {
        "id": "ixkX7desVrjk",
        "colab": {
          "base_uri": "https://localhost:8080/"
        },
        "outputId": "e171bf52-2993-4d70-a4bf-179176392ed0"
      },
      "execution_count": 19,
      "outputs": [
        {
          "output_type": "stream",
          "name": "stderr",
          "text": [
            "/usr/local/lib/python3.10/dist-packages/keras/src/engine/training.py:3079: UserWarning: You are saving your model as an HDF5 file via `model.save()`. This file format is considered legacy. We recommend using instead the native Keras format, e.g. `model.save('my_model.keras')`.\n",
            "  saving_api.save_model(\n"
          ]
        }
      ]
    }
  ]
}